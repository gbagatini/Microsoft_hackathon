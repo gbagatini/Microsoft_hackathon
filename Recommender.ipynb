{
 "cells": [
  {
   "cell_type": "code",
   "execution_count": 1,
   "metadata": {},
   "outputs": [],
   "source": [
    "import pandas as pd\n",
    "import numpy as np\n",
    "import matplotlib.pyplot as plt\n",
    "%matplotlib inline\n",
    "import os\n",
    "import warnings"
   ]
  },
  {
   "cell_type": "code",
   "execution_count": 2,
   "metadata": {},
   "outputs": [
    {
     "name": "stderr",
     "output_type": "stream",
     "text": [
      "C:\\Users\\gisel\\Anaconda3\\envs\\deeplearning\\lib\\site-packages\\numpy\\lib\\arraysetops.py:569: FutureWarning: elementwise comparison failed; returning scalar instead, but in the future will perform elementwise comparison\n",
      "  mask |= (ar1 == a)\n"
     ]
    }
   ],
   "source": [
    "df = pd.read_csv(\"data/act_table2.csv\", index_col = 0)"
   ]
  },
  {
   "cell_type": "code",
   "execution_count": 3,
   "metadata": {},
   "outputs": [
    {
     "data": {
      "text/html": [
       "<div>\n",
       "<style scoped>\n",
       "    .dataframe tbody tr th:only-of-type {\n",
       "        vertical-align: middle;\n",
       "    }\n",
       "\n",
       "    .dataframe tbody tr th {\n",
       "        vertical-align: top;\n",
       "    }\n",
       "\n",
       "    .dataframe thead th {\n",
       "        text-align: right;\n",
       "    }\n",
       "</style>\n",
       "<table border=\"1\" class=\"dataframe\">\n",
       "  <thead>\n",
       "    <tr style=\"text-align: right;\">\n",
       "      <th></th>\n",
       "      <th>ids</th>\n",
       "      <th>date</th>\n",
       "      <th>activities</th>\n",
       "      <th>activity_level</th>\n",
       "    </tr>\n",
       "  </thead>\n",
       "  <tbody>\n",
       "    <tr>\n",
       "      <th>0</th>\n",
       "      <td>1</td>\n",
       "      <td>2020-02-01 0:00</td>\n",
       "      <td>sleep</td>\n",
       "      <td>sleep</td>\n",
       "    </tr>\n",
       "    <tr>\n",
       "      <th>1</th>\n",
       "      <td>1</td>\n",
       "      <td>2020-02-01 1:00</td>\n",
       "      <td>sleep</td>\n",
       "      <td>sleep</td>\n",
       "    </tr>\n",
       "    <tr>\n",
       "      <th>2</th>\n",
       "      <td>1</td>\n",
       "      <td>2020-02-01 2:00</td>\n",
       "      <td>sleep</td>\n",
       "      <td>sleep</td>\n",
       "    </tr>\n",
       "    <tr>\n",
       "      <th>3</th>\n",
       "      <td>1</td>\n",
       "      <td>2020-02-01 3:00</td>\n",
       "      <td>sleep</td>\n",
       "      <td>sleep</td>\n",
       "    </tr>\n",
       "    <tr>\n",
       "      <th>4</th>\n",
       "      <td>1</td>\n",
       "      <td>2020-02-01 4:00</td>\n",
       "      <td>sleep</td>\n",
       "      <td>sleep</td>\n",
       "    </tr>\n",
       "  </tbody>\n",
       "</table>\n",
       "</div>"
      ],
      "text/plain": [
       "   ids             date activities activity_level\n",
       "0    1  2020-02-01 0:00      sleep          sleep\n",
       "1    1  2020-02-01 1:00      sleep          sleep\n",
       "2    1  2020-02-01 2:00      sleep          sleep\n",
       "3    1  2020-02-01 3:00      sleep          sleep\n",
       "4    1  2020-02-01 4:00      sleep          sleep"
      ]
     },
     "execution_count": 3,
     "metadata": {},
     "output_type": "execute_result"
    }
   ],
   "source": [
    "df.head()"
   ]
  },
  {
   "cell_type": "code",
   "execution_count": 4,
   "metadata": {},
   "outputs": [
    {
     "name": "stdout",
     "output_type": "stream",
     "text": [
      "<class 'pandas.core.frame.DataFrame'>\n",
      "Int64Index: 1020500 entries, 0 to 1020499\n",
      "Data columns (total 4 columns):\n",
      " #   Column          Non-Null Count    Dtype \n",
      "---  ------          --------------    ----- \n",
      " 0   ids             1020500 non-null  int64 \n",
      " 1   date            1020500 non-null  object\n",
      " 2   activities      1020500 non-null  object\n",
      " 3   activity_level  1020500 non-null  object\n",
      "dtypes: int64(1), object(3)\n",
      "memory usage: 38.9+ MB\n"
     ]
    }
   ],
   "source": [
    "df.info()"
   ]
  },
  {
   "cell_type": "code",
   "execution_count": 5,
   "metadata": {},
   "outputs": [],
   "source": [
    "# transforming date into datetime\n",
    "df['date'] = pd.to_datetime(df['date'])"
   ]
  },
  {
   "cell_type": "code",
   "execution_count": 6,
   "metadata": {},
   "outputs": [],
   "source": [
    "# converting to days - not hours\n",
    "df['day'] = df['date'].dt.to_period('D')"
   ]
  },
  {
   "cell_type": "code",
   "execution_count": 7,
   "metadata": {},
   "outputs": [
    {
     "data": {
      "text/html": [
       "<div>\n",
       "<style scoped>\n",
       "    .dataframe tbody tr th:only-of-type {\n",
       "        vertical-align: middle;\n",
       "    }\n",
       "\n",
       "    .dataframe tbody tr th {\n",
       "        vertical-align: top;\n",
       "    }\n",
       "\n",
       "    .dataframe thead th {\n",
       "        text-align: right;\n",
       "    }\n",
       "</style>\n",
       "<table border=\"1\" class=\"dataframe\">\n",
       "  <thead>\n",
       "    <tr style=\"text-align: right;\">\n",
       "      <th></th>\n",
       "      <th>ids</th>\n",
       "      <th>date</th>\n",
       "      <th>activities</th>\n",
       "      <th>activity_level</th>\n",
       "      <th>day</th>\n",
       "    </tr>\n",
       "  </thead>\n",
       "  <tbody>\n",
       "    <tr>\n",
       "      <th>0</th>\n",
       "      <td>1</td>\n",
       "      <td>2020-02-01 00:00:00</td>\n",
       "      <td>sleep</td>\n",
       "      <td>sleep</td>\n",
       "      <td>2020-02-01</td>\n",
       "    </tr>\n",
       "    <tr>\n",
       "      <th>1</th>\n",
       "      <td>1</td>\n",
       "      <td>2020-02-01 01:00:00</td>\n",
       "      <td>sleep</td>\n",
       "      <td>sleep</td>\n",
       "      <td>2020-02-01</td>\n",
       "    </tr>\n",
       "    <tr>\n",
       "      <th>2</th>\n",
       "      <td>1</td>\n",
       "      <td>2020-02-01 02:00:00</td>\n",
       "      <td>sleep</td>\n",
       "      <td>sleep</td>\n",
       "      <td>2020-02-01</td>\n",
       "    </tr>\n",
       "    <tr>\n",
       "      <th>3</th>\n",
       "      <td>1</td>\n",
       "      <td>2020-02-01 03:00:00</td>\n",
       "      <td>sleep</td>\n",
       "      <td>sleep</td>\n",
       "      <td>2020-02-01</td>\n",
       "    </tr>\n",
       "    <tr>\n",
       "      <th>4</th>\n",
       "      <td>1</td>\n",
       "      <td>2020-02-01 04:00:00</td>\n",
       "      <td>sleep</td>\n",
       "      <td>sleep</td>\n",
       "      <td>2020-02-01</td>\n",
       "    </tr>\n",
       "  </tbody>\n",
       "</table>\n",
       "</div>"
      ],
      "text/plain": [
       "   ids                date activities activity_level         day\n",
       "0    1 2020-02-01 00:00:00      sleep          sleep  2020-02-01\n",
       "1    1 2020-02-01 01:00:00      sleep          sleep  2020-02-01\n",
       "2    1 2020-02-01 02:00:00      sleep          sleep  2020-02-01\n",
       "3    1 2020-02-01 03:00:00      sleep          sleep  2020-02-01\n",
       "4    1 2020-02-01 04:00:00      sleep          sleep  2020-02-01"
      ]
     },
     "execution_count": 7,
     "metadata": {},
     "output_type": "execute_result"
    }
   ],
   "source": [
    "df.head()"
   ]
  },
  {
   "cell_type": "code",
   "execution_count": 8,
   "metadata": {},
   "outputs": [],
   "source": [
    "user_experience = df.groupby([\"day\", \"activities\", \"ids\", \"activity_level\" ]).agg([\"count\"])"
   ]
  },
  {
   "cell_type": "code",
   "execution_count": 9,
   "metadata": {},
   "outputs": [],
   "source": [
    "user_experience = user_experience.reset_index()"
   ]
  },
  {
   "cell_type": "code",
   "execution_count": 10,
   "metadata": {},
   "outputs": [
    {
     "data": {
      "text/html": [
       "<div>\n",
       "<style scoped>\n",
       "    .dataframe tbody tr th:only-of-type {\n",
       "        vertical-align: middle;\n",
       "    }\n",
       "\n",
       "    .dataframe tbody tr th {\n",
       "        vertical-align: top;\n",
       "    }\n",
       "\n",
       "    .dataframe thead tr th {\n",
       "        text-align: left;\n",
       "    }\n",
       "</style>\n",
       "<table border=\"1\" class=\"dataframe\">\n",
       "  <thead>\n",
       "    <tr>\n",
       "      <th></th>\n",
       "      <th>day</th>\n",
       "      <th>activities</th>\n",
       "      <th>ids</th>\n",
       "      <th>activity_level</th>\n",
       "      <th>date</th>\n",
       "    </tr>\n",
       "    <tr>\n",
       "      <th></th>\n",
       "      <th></th>\n",
       "      <th></th>\n",
       "      <th></th>\n",
       "      <th></th>\n",
       "      <th>count</th>\n",
       "    </tr>\n",
       "  </thead>\n",
       "  <tbody>\n",
       "    <tr>\n",
       "      <th>0</th>\n",
       "      <td>2020-02-01</td>\n",
       "      <td>Exercise</td>\n",
       "      <td>1</td>\n",
       "      <td>Run</td>\n",
       "      <td>1</td>\n",
       "    </tr>\n",
       "    <tr>\n",
       "      <th>1</th>\n",
       "      <td>2020-02-01</td>\n",
       "      <td>Exercise</td>\n",
       "      <td>2</td>\n",
       "      <td>Yoga</td>\n",
       "      <td>1</td>\n",
       "    </tr>\n",
       "    <tr>\n",
       "      <th>2</th>\n",
       "      <td>2020-02-01</td>\n",
       "      <td>Exercise</td>\n",
       "      <td>3</td>\n",
       "      <td>Dancing</td>\n",
       "      <td>2</td>\n",
       "    </tr>\n",
       "    <tr>\n",
       "      <th>3</th>\n",
       "      <td>2020-02-01</td>\n",
       "      <td>Exercise</td>\n",
       "      <td>4</td>\n",
       "      <td>Dancing</td>\n",
       "      <td>2</td>\n",
       "    </tr>\n",
       "    <tr>\n",
       "      <th>4</th>\n",
       "      <td>2020-02-01</td>\n",
       "      <td>Exercise</td>\n",
       "      <td>5</td>\n",
       "      <td>Pilates</td>\n",
       "      <td>1</td>\n",
       "    </tr>\n",
       "    <tr>\n",
       "      <th>5</th>\n",
       "      <td>2020-02-01</td>\n",
       "      <td>Exercise</td>\n",
       "      <td>6</td>\n",
       "      <td>Climbing stairs or hills</td>\n",
       "      <td>1</td>\n",
       "    </tr>\n",
       "    <tr>\n",
       "      <th>6</th>\n",
       "      <td>2020-02-01</td>\n",
       "      <td>Exercise</td>\n",
       "      <td>7</td>\n",
       "      <td>Stretching exercise</td>\n",
       "      <td>1</td>\n",
       "    </tr>\n",
       "    <tr>\n",
       "      <th>7</th>\n",
       "      <td>2020-02-01</td>\n",
       "      <td>Exercise</td>\n",
       "      <td>8</td>\n",
       "      <td>Biking</td>\n",
       "      <td>1</td>\n",
       "    </tr>\n",
       "    <tr>\n",
       "      <th>8</th>\n",
       "      <td>2020-02-01</td>\n",
       "      <td>Exercise</td>\n",
       "      <td>9</td>\n",
       "      <td>Run</td>\n",
       "      <td>2</td>\n",
       "    </tr>\n",
       "    <tr>\n",
       "      <th>9</th>\n",
       "      <td>2020-02-01</td>\n",
       "      <td>Exercise</td>\n",
       "      <td>10</td>\n",
       "      <td>Yoga</td>\n",
       "      <td>2</td>\n",
       "    </tr>\n",
       "  </tbody>\n",
       "</table>\n",
       "</div>"
      ],
      "text/plain": [
       "          day activities ids            activity_level  date\n",
       "                                                       count\n",
       "0  2020-02-01   Exercise   1                       Run     1\n",
       "1  2020-02-01   Exercise   2                      Yoga     1\n",
       "2  2020-02-01   Exercise   3                   Dancing     2\n",
       "3  2020-02-01   Exercise   4                   Dancing     2\n",
       "4  2020-02-01   Exercise   5                   Pilates     1\n",
       "5  2020-02-01   Exercise   6  Climbing stairs or hills     1\n",
       "6  2020-02-01   Exercise   7       Stretching exercise     1\n",
       "7  2020-02-01   Exercise   8                    Biking     1\n",
       "8  2020-02-01   Exercise   9                       Run     2\n",
       "9  2020-02-01   Exercise  10                      Yoga     2"
      ]
     },
     "execution_count": 10,
     "metadata": {},
     "output_type": "execute_result"
    }
   ],
   "source": [
    "# daily activities track\n",
    "user_experience.head(10)"
   ]
  },
  {
   "cell_type": "code",
   "execution_count": 11,
   "metadata": {},
   "outputs": [],
   "source": [
    "user_experience.columns = [\"day\", \"activities\", \"User_id\", \"activity_level\", \"activity_level count hours\"]"
   ]
  },
  {
   "cell_type": "code",
   "execution_count": 12,
   "metadata": {},
   "outputs": [
    {
     "data": {
      "text/html": [
       "<div>\n",
       "<style scoped>\n",
       "    .dataframe tbody tr th:only-of-type {\n",
       "        vertical-align: middle;\n",
       "    }\n",
       "\n",
       "    .dataframe tbody tr th {\n",
       "        vertical-align: top;\n",
       "    }\n",
       "\n",
       "    .dataframe thead th {\n",
       "        text-align: right;\n",
       "    }\n",
       "</style>\n",
       "<table border=\"1\" class=\"dataframe\">\n",
       "  <thead>\n",
       "    <tr style=\"text-align: right;\">\n",
       "      <th></th>\n",
       "      <th>day</th>\n",
       "      <th>activities</th>\n",
       "      <th>User_id</th>\n",
       "      <th>activity_level</th>\n",
       "      <th>activity_level count hours</th>\n",
       "    </tr>\n",
       "  </thead>\n",
       "  <tbody>\n",
       "    <tr>\n",
       "      <th>0</th>\n",
       "      <td>2020-02-01</td>\n",
       "      <td>Exercise</td>\n",
       "      <td>1</td>\n",
       "      <td>Run</td>\n",
       "      <td>1</td>\n",
       "    </tr>\n",
       "    <tr>\n",
       "      <th>1</th>\n",
       "      <td>2020-02-01</td>\n",
       "      <td>Exercise</td>\n",
       "      <td>2</td>\n",
       "      <td>Yoga</td>\n",
       "      <td>1</td>\n",
       "    </tr>\n",
       "    <tr>\n",
       "      <th>2</th>\n",
       "      <td>2020-02-01</td>\n",
       "      <td>Exercise</td>\n",
       "      <td>3</td>\n",
       "      <td>Dancing</td>\n",
       "      <td>2</td>\n",
       "    </tr>\n",
       "    <tr>\n",
       "      <th>3</th>\n",
       "      <td>2020-02-01</td>\n",
       "      <td>Exercise</td>\n",
       "      <td>4</td>\n",
       "      <td>Dancing</td>\n",
       "      <td>2</td>\n",
       "    </tr>\n",
       "    <tr>\n",
       "      <th>4</th>\n",
       "      <td>2020-02-01</td>\n",
       "      <td>Exercise</td>\n",
       "      <td>5</td>\n",
       "      <td>Pilates</td>\n",
       "      <td>1</td>\n",
       "    </tr>\n",
       "  </tbody>\n",
       "</table>\n",
       "</div>"
      ],
      "text/plain": [
       "          day activities  User_id activity_level  activity_level count hours\n",
       "0  2020-02-01   Exercise        1            Run                           1\n",
       "1  2020-02-01   Exercise        2           Yoga                           1\n",
       "2  2020-02-01   Exercise        3        Dancing                           2\n",
       "3  2020-02-01   Exercise        4        Dancing                           2\n",
       "4  2020-02-01   Exercise        5        Pilates                           1"
      ]
     },
     "execution_count": 12,
     "metadata": {},
     "output_type": "execute_result"
    }
   ],
   "source": [
    "user_experience.head()"
   ]
  },
  {
   "cell_type": "code",
   "execution_count": 13,
   "metadata": {},
   "outputs": [],
   "source": [
    "df_rec =user_experience.groupby([\"User_id\",\"activities\",\"activity_level\"]).agg([\"sum\"])"
   ]
  },
  {
   "cell_type": "code",
   "execution_count": 14,
   "metadata": {},
   "outputs": [],
   "source": [
    "df_rec = df_rec.reset_index()"
   ]
  },
  {
   "cell_type": "code",
   "execution_count": 15,
   "metadata": {},
   "outputs": [
    {
     "data": {
      "text/html": [
       "<div>\n",
       "<style scoped>\n",
       "    .dataframe tbody tr th:only-of-type {\n",
       "        vertical-align: middle;\n",
       "    }\n",
       "\n",
       "    .dataframe tbody tr th {\n",
       "        vertical-align: top;\n",
       "    }\n",
       "\n",
       "    .dataframe thead tr th {\n",
       "        text-align: left;\n",
       "    }\n",
       "</style>\n",
       "<table border=\"1\" class=\"dataframe\">\n",
       "  <thead>\n",
       "    <tr>\n",
       "      <th></th>\n",
       "      <th>User_id</th>\n",
       "      <th>activities</th>\n",
       "      <th>activity_level</th>\n",
       "      <th>activity_level count hours</th>\n",
       "    </tr>\n",
       "    <tr>\n",
       "      <th></th>\n",
       "      <th></th>\n",
       "      <th></th>\n",
       "      <th></th>\n",
       "      <th>sum</th>\n",
       "    </tr>\n",
       "  </thead>\n",
       "  <tbody>\n",
       "    <tr>\n",
       "      <th>0</th>\n",
       "      <td>1</td>\n",
       "      <td>Exercise</td>\n",
       "      <td>Go for a walk</td>\n",
       "      <td>3</td>\n",
       "    </tr>\n",
       "    <tr>\n",
       "      <th>1</th>\n",
       "      <td>1</td>\n",
       "      <td>Exercise</td>\n",
       "      <td>Jogging</td>\n",
       "      <td>7</td>\n",
       "    </tr>\n",
       "    <tr>\n",
       "      <th>2</th>\n",
       "      <td>1</td>\n",
       "      <td>Exercise</td>\n",
       "      <td>Jump</td>\n",
       "      <td>1</td>\n",
       "    </tr>\n",
       "    <tr>\n",
       "      <th>3</th>\n",
       "      <td>1</td>\n",
       "      <td>Exercise</td>\n",
       "      <td>Run</td>\n",
       "      <td>76</td>\n",
       "    </tr>\n",
       "    <tr>\n",
       "      <th>4</th>\n",
       "      <td>1</td>\n",
       "      <td>Exercise</td>\n",
       "      <td>Weight lift</td>\n",
       "      <td>7</td>\n",
       "    </tr>\n",
       "  </tbody>\n",
       "</table>\n",
       "</div>"
      ],
      "text/plain": [
       "  User_id activities activity_level activity_level count hours\n",
       "                                                           sum\n",
       "0       1   Exercise  Go for a walk                          3\n",
       "1       1   Exercise        Jogging                          7\n",
       "2       1   Exercise           Jump                          1\n",
       "3       1   Exercise            Run                         76\n",
       "4       1   Exercise    Weight lift                          7"
      ]
     },
     "execution_count": 15,
     "metadata": {},
     "output_type": "execute_result"
    }
   ],
   "source": [
    "df_rec.head()"
   ]
  },
  {
   "cell_type": "code",
   "execution_count": 16,
   "metadata": {},
   "outputs": [],
   "source": [
    "df_rec.columns = [\"User_id\", \"activities\", \"activity_level\", \"total hours\"]"
   ]
  },
  {
   "cell_type": "code",
   "execution_count": 17,
   "metadata": {},
   "outputs": [
    {
     "data": {
      "text/html": [
       "<div>\n",
       "<style scoped>\n",
       "    .dataframe tbody tr th:only-of-type {\n",
       "        vertical-align: middle;\n",
       "    }\n",
       "\n",
       "    .dataframe tbody tr th {\n",
       "        vertical-align: top;\n",
       "    }\n",
       "\n",
       "    .dataframe thead th {\n",
       "        text-align: right;\n",
       "    }\n",
       "</style>\n",
       "<table border=\"1\" class=\"dataframe\">\n",
       "  <thead>\n",
       "    <tr style=\"text-align: right;\">\n",
       "      <th></th>\n",
       "      <th>User_id</th>\n",
       "      <th>activities</th>\n",
       "      <th>activity_level</th>\n",
       "      <th>total hours</th>\n",
       "    </tr>\n",
       "  </thead>\n",
       "  <tbody>\n",
       "    <tr>\n",
       "      <th>0</th>\n",
       "      <td>1</td>\n",
       "      <td>Exercise</td>\n",
       "      <td>Go for a walk</td>\n",
       "      <td>3</td>\n",
       "    </tr>\n",
       "    <tr>\n",
       "      <th>1</th>\n",
       "      <td>1</td>\n",
       "      <td>Exercise</td>\n",
       "      <td>Jogging</td>\n",
       "      <td>7</td>\n",
       "    </tr>\n",
       "    <tr>\n",
       "      <th>2</th>\n",
       "      <td>1</td>\n",
       "      <td>Exercise</td>\n",
       "      <td>Jump</td>\n",
       "      <td>1</td>\n",
       "    </tr>\n",
       "    <tr>\n",
       "      <th>3</th>\n",
       "      <td>1</td>\n",
       "      <td>Exercise</td>\n",
       "      <td>Run</td>\n",
       "      <td>76</td>\n",
       "    </tr>\n",
       "    <tr>\n",
       "      <th>4</th>\n",
       "      <td>1</td>\n",
       "      <td>Exercise</td>\n",
       "      <td>Weight lift</td>\n",
       "      <td>7</td>\n",
       "    </tr>\n",
       "    <tr>\n",
       "      <th>...</th>\n",
       "      <td>...</td>\n",
       "      <td>...</td>\n",
       "      <td>...</td>\n",
       "      <td>...</td>\n",
       "    </tr>\n",
       "    <tr>\n",
       "      <th>26892</th>\n",
       "      <td>500</td>\n",
       "      <td>Personal activity</td>\n",
       "      <td>prepare lunch</td>\n",
       "      <td>12</td>\n",
       "    </tr>\n",
       "    <tr>\n",
       "      <th>26893</th>\n",
       "      <td>500</td>\n",
       "      <td>Work</td>\n",
       "      <td>Answering emails</td>\n",
       "      <td>150</td>\n",
       "    </tr>\n",
       "    <tr>\n",
       "      <th>26894</th>\n",
       "      <td>500</td>\n",
       "      <td>Work</td>\n",
       "      <td>Vitual/in-person Meeting</td>\n",
       "      <td>153</td>\n",
       "    </tr>\n",
       "    <tr>\n",
       "      <th>26895</th>\n",
       "      <td>500</td>\n",
       "      <td>Work</td>\n",
       "      <td>Work</td>\n",
       "      <td>476</td>\n",
       "    </tr>\n",
       "    <tr>\n",
       "      <th>26896</th>\n",
       "      <td>500</td>\n",
       "      <td>sleep</td>\n",
       "      <td>sleep</td>\n",
       "      <td>697</td>\n",
       "    </tr>\n",
       "  </tbody>\n",
       "</table>\n",
       "<p>26897 rows × 4 columns</p>\n",
       "</div>"
      ],
      "text/plain": [
       "       User_id         activities            activity_level  total hours\n",
       "0            1           Exercise             Go for a walk            3\n",
       "1            1           Exercise                   Jogging            7\n",
       "2            1           Exercise                      Jump            1\n",
       "3            1           Exercise                       Run           76\n",
       "4            1           Exercise               Weight lift            7\n",
       "...        ...                ...                       ...          ...\n",
       "26892      500  Personal activity             prepare lunch           12\n",
       "26893      500               Work          Answering emails          150\n",
       "26894      500               Work  Vitual/in-person Meeting          153\n",
       "26895      500               Work                      Work          476\n",
       "26896      500              sleep                     sleep          697\n",
       "\n",
       "[26897 rows x 4 columns]"
      ]
     },
     "execution_count": 17,
     "metadata": {},
     "output_type": "execute_result"
    }
   ],
   "source": [
    "df_rec"
   ]
  },
  {
   "cell_type": "code",
   "execution_count": 18,
   "metadata": {},
   "outputs": [],
   "source": [
    "from sklearn import preprocessing"
   ]
  },
  {
   "cell_type": "code",
   "execution_count": 19,
   "metadata": {},
   "outputs": [
    {
     "data": {
      "text/plain": [
       "(26897,)"
      ]
     },
     "execution_count": 19,
     "metadata": {},
     "output_type": "execute_result"
    }
   ],
   "source": [
    "# encoding activities for model\n",
    "activity = df_rec[\"activity_level\"]\n",
    "activity.shape"
   ]
  },
  {
   "cell_type": "code",
   "execution_count": 20,
   "metadata": {},
   "outputs": [],
   "source": [
    "le = preprocessing.LabelEncoder()\n",
    "le.fit(activity)\n",
    "\n",
    "result = le.transform(activity)"
   ]
  },
  {
   "cell_type": "code",
   "execution_count": 21,
   "metadata": {},
   "outputs": [],
   "source": [
    "data = pd.DataFrame({\"activity_level\" : activity, \"code\" : result})\n"
   ]
  },
  {
   "cell_type": "code",
   "execution_count": 22,
   "metadata": {},
   "outputs": [
    {
     "data": {
      "text/html": [
       "<div>\n",
       "<style scoped>\n",
       "    .dataframe tbody tr th:only-of-type {\n",
       "        vertical-align: middle;\n",
       "    }\n",
       "\n",
       "    .dataframe tbody tr th {\n",
       "        vertical-align: top;\n",
       "    }\n",
       "\n",
       "    .dataframe thead th {\n",
       "        text-align: right;\n",
       "    }\n",
       "</style>\n",
       "<table border=\"1\" class=\"dataframe\">\n",
       "  <thead>\n",
       "    <tr style=\"text-align: right;\">\n",
       "      <th></th>\n",
       "      <th>activity_level</th>\n",
       "      <th>code</th>\n",
       "    </tr>\n",
       "  </thead>\n",
       "  <tbody>\n",
       "    <tr>\n",
       "      <th>0</th>\n",
       "      <td>Go for a walk</td>\n",
       "      <td>10</td>\n",
       "    </tr>\n",
       "    <tr>\n",
       "      <th>1</th>\n",
       "      <td>Jogging</td>\n",
       "      <td>15</td>\n",
       "    </tr>\n",
       "    <tr>\n",
       "      <th>2</th>\n",
       "      <td>Jump</td>\n",
       "      <td>16</td>\n",
       "    </tr>\n",
       "    <tr>\n",
       "      <th>3</th>\n",
       "      <td>Run</td>\n",
       "      <td>29</td>\n",
       "    </tr>\n",
       "    <tr>\n",
       "      <th>4</th>\n",
       "      <td>Weight lift</td>\n",
       "      <td>44</td>\n",
       "    </tr>\n",
       "  </tbody>\n",
       "</table>\n",
       "</div>"
      ],
      "text/plain": [
       "  activity_level  code\n",
       "0  Go for a walk    10\n",
       "1        Jogging    15\n",
       "2           Jump    16\n",
       "3            Run    29\n",
       "4    Weight lift    44"
      ]
     },
     "execution_count": 22,
     "metadata": {},
     "output_type": "execute_result"
    }
   ],
   "source": [
    "data.head()"
   ]
  },
  {
   "cell_type": "code",
   "execution_count": 23,
   "metadata": {},
   "outputs": [
    {
     "data": {
      "text/plain": [
       "(26897, 2)"
      ]
     },
     "execution_count": 23,
     "metadata": {},
     "output_type": "execute_result"
    }
   ],
   "source": [
    "data.shape"
   ]
  },
  {
   "cell_type": "code",
   "execution_count": 24,
   "metadata": {},
   "outputs": [],
   "source": [
    "df_rec[\"act_encoded\"] = data[\"code\"]"
   ]
  },
  {
   "cell_type": "code",
   "execution_count": 25,
   "metadata": {},
   "outputs": [
    {
     "data": {
      "text/html": [
       "<div>\n",
       "<style scoped>\n",
       "    .dataframe tbody tr th:only-of-type {\n",
       "        vertical-align: middle;\n",
       "    }\n",
       "\n",
       "    .dataframe tbody tr th {\n",
       "        vertical-align: top;\n",
       "    }\n",
       "\n",
       "    .dataframe thead th {\n",
       "        text-align: right;\n",
       "    }\n",
       "</style>\n",
       "<table border=\"1\" class=\"dataframe\">\n",
       "  <thead>\n",
       "    <tr style=\"text-align: right;\">\n",
       "      <th></th>\n",
       "      <th>User_id</th>\n",
       "      <th>activities</th>\n",
       "      <th>activity_level</th>\n",
       "      <th>total hours</th>\n",
       "      <th>act_encoded</th>\n",
       "    </tr>\n",
       "  </thead>\n",
       "  <tbody>\n",
       "    <tr>\n",
       "      <th>0</th>\n",
       "      <td>1</td>\n",
       "      <td>Exercise</td>\n",
       "      <td>Go for a walk</td>\n",
       "      <td>3</td>\n",
       "      <td>10</td>\n",
       "    </tr>\n",
       "    <tr>\n",
       "      <th>1</th>\n",
       "      <td>1</td>\n",
       "      <td>Exercise</td>\n",
       "      <td>Jogging</td>\n",
       "      <td>7</td>\n",
       "      <td>15</td>\n",
       "    </tr>\n",
       "    <tr>\n",
       "      <th>2</th>\n",
       "      <td>1</td>\n",
       "      <td>Exercise</td>\n",
       "      <td>Jump</td>\n",
       "      <td>1</td>\n",
       "      <td>16</td>\n",
       "    </tr>\n",
       "    <tr>\n",
       "      <th>3</th>\n",
       "      <td>1</td>\n",
       "      <td>Exercise</td>\n",
       "      <td>Run</td>\n",
       "      <td>76</td>\n",
       "      <td>29</td>\n",
       "    </tr>\n",
       "    <tr>\n",
       "      <th>4</th>\n",
       "      <td>1</td>\n",
       "      <td>Exercise</td>\n",
       "      <td>Weight lift</td>\n",
       "      <td>7</td>\n",
       "      <td>44</td>\n",
       "    </tr>\n",
       "  </tbody>\n",
       "</table>\n",
       "</div>"
      ],
      "text/plain": [
       "   User_id activities activity_level  total hours  act_encoded\n",
       "0        1   Exercise  Go for a walk            3           10\n",
       "1        1   Exercise        Jogging            7           15\n",
       "2        1   Exercise           Jump            1           16\n",
       "3        1   Exercise            Run           76           29\n",
       "4        1   Exercise    Weight lift            7           44"
      ]
     },
     "execution_count": 25,
     "metadata": {},
     "output_type": "execute_result"
    }
   ],
   "source": [
    "df_rec.head()"
   ]
  },
  {
   "cell_type": "code",
   "execution_count": 26,
   "metadata": {},
   "outputs": [],
   "source": [
    "df_model = df_rec[[\"User_id\",\"act_encoded\", \"total hours\"]].copy()"
   ]
  },
  {
   "cell_type": "code",
   "execution_count": 27,
   "metadata": {},
   "outputs": [
    {
     "data": {
      "text/html": [
       "<div>\n",
       "<style scoped>\n",
       "    .dataframe tbody tr th:only-of-type {\n",
       "        vertical-align: middle;\n",
       "    }\n",
       "\n",
       "    .dataframe tbody tr th {\n",
       "        vertical-align: top;\n",
       "    }\n",
       "\n",
       "    .dataframe thead th {\n",
       "        text-align: right;\n",
       "    }\n",
       "</style>\n",
       "<table border=\"1\" class=\"dataframe\">\n",
       "  <thead>\n",
       "    <tr style=\"text-align: right;\">\n",
       "      <th></th>\n",
       "      <th>User_id</th>\n",
       "      <th>act_encoded</th>\n",
       "      <th>total hours</th>\n",
       "    </tr>\n",
       "  </thead>\n",
       "  <tbody>\n",
       "    <tr>\n",
       "      <th>0</th>\n",
       "      <td>1</td>\n",
       "      <td>10</td>\n",
       "      <td>3</td>\n",
       "    </tr>\n",
       "    <tr>\n",
       "      <th>1</th>\n",
       "      <td>1</td>\n",
       "      <td>15</td>\n",
       "      <td>7</td>\n",
       "    </tr>\n",
       "    <tr>\n",
       "      <th>2</th>\n",
       "      <td>1</td>\n",
       "      <td>16</td>\n",
       "      <td>1</td>\n",
       "    </tr>\n",
       "    <tr>\n",
       "      <th>3</th>\n",
       "      <td>1</td>\n",
       "      <td>29</td>\n",
       "      <td>76</td>\n",
       "    </tr>\n",
       "    <tr>\n",
       "      <th>4</th>\n",
       "      <td>1</td>\n",
       "      <td>44</td>\n",
       "      <td>7</td>\n",
       "    </tr>\n",
       "  </tbody>\n",
       "</table>\n",
       "</div>"
      ],
      "text/plain": [
       "   User_id  act_encoded  total hours\n",
       "0        1           10            3\n",
       "1        1           15            7\n",
       "2        1           16            1\n",
       "3        1           29           76\n",
       "4        1           44            7"
      ]
     },
     "execution_count": 27,
     "metadata": {},
     "output_type": "execute_result"
    }
   ],
   "source": [
    "df_model.head()"
   ]
  },
  {
   "cell_type": "code",
   "execution_count": 28,
   "metadata": {},
   "outputs": [
    {
     "data": {
      "text/plain": [
       "(array([165.,   3.,   2.,   1.,   2.,   1.,   1.,   2.,   3.,   2.]),\n",
       " array([1.0000e+00, 2.5280e+02, 5.0460e+02, 7.5640e+02, 1.0082e+03,\n",
       "        1.2600e+03, 1.5118e+03, 1.7636e+03, 2.0154e+03, 2.2672e+03,\n",
       "        2.5190e+03]),\n",
       " <a list of 10 Patch objects>)"
      ]
     },
     "execution_count": 28,
     "metadata": {},
     "output_type": "execute_result"
    },
    {
     "data": {
      "image/png": "[encoded data removed]",
      "text/plain": [
       "<Figure size 432x288 with 1 Axes>"
      ]
     },
     "metadata": {
      "needs_background": "light"
     },
     "output_type": "display_data"
    }
   ],
   "source": [
    "plt.hist(df_model[\"total hours\"].value_counts())"
   ]
  },
  {
   "cell_type": "code",
   "execution_count": 29,
   "metadata": {},
   "outputs": [],
   "source": [
    "# splitting the data\n",
    "from sklearn.model_selection import train_test_split\n",
    "train, test = train_test_split(df_model, test_size=0.2, random_state=42)"
   ]
  },
  {
   "cell_type": "code",
   "execution_count": 30,
   "metadata": {},
   "outputs": [
    {
     "data": {
      "text/html": [
       "<div>\n",
       "<style scoped>\n",
       "    .dataframe tbody tr th:only-of-type {\n",
       "        vertical-align: middle;\n",
       "    }\n",
       "\n",
       "    .dataframe tbody tr th {\n",
       "        vertical-align: top;\n",
       "    }\n",
       "\n",
       "    .dataframe thead th {\n",
       "        text-align: right;\n",
       "    }\n",
       "</style>\n",
       "<table border=\"1\" class=\"dataframe\">\n",
       "  <thead>\n",
       "    <tr style=\"text-align: right;\">\n",
       "      <th></th>\n",
       "      <th>User_id</th>\n",
       "      <th>act_encoded</th>\n",
       "      <th>total hours</th>\n",
       "    </tr>\n",
       "  </thead>\n",
       "  <tbody>\n",
       "    <tr>\n",
       "      <th>2450</th>\n",
       "      <td>48</td>\n",
       "      <td>46</td>\n",
       "      <td>8</td>\n",
       "    </tr>\n",
       "    <tr>\n",
       "      <th>6108</th>\n",
       "      <td>116</td>\n",
       "      <td>2</td>\n",
       "      <td>8</td>\n",
       "    </tr>\n",
       "    <tr>\n",
       "      <th>26854</th>\n",
       "      <td>500</td>\n",
       "      <td>32</td>\n",
       "      <td>9</td>\n",
       "    </tr>\n",
       "    <tr>\n",
       "      <th>25328</th>\n",
       "      <td>471</td>\n",
       "      <td>37</td>\n",
       "      <td>161</td>\n",
       "    </tr>\n",
       "    <tr>\n",
       "      <th>25570</th>\n",
       "      <td>476</td>\n",
       "      <td>7</td>\n",
       "      <td>9</td>\n",
       "    </tr>\n",
       "  </tbody>\n",
       "</table>\n",
       "</div>"
      ],
      "text/plain": [
       "       User_id  act_encoded  total hours\n",
       "2450        48           46            8\n",
       "6108       116            2            8\n",
       "26854      500           32            9\n",
       "25328      471           37          161\n",
       "25570      476            7            9"
      ]
     },
     "execution_count": 30,
     "metadata": {},
     "output_type": "execute_result"
    }
   ],
   "source": [
    "train.head()"
   ]
  },
  {
   "cell_type": "code",
   "execution_count": 31,
   "metadata": {},
   "outputs": [],
   "source": [
    "from tensorflow.keras import regularizers\n",
    "from tensorflow.keras.regularizers import l2\n",
    "from tensorflow.keras import layers\n",
    "#from tensorflow.keras.layers import merge\n",
    "from tensorflow.keras.layers import Concatenate, Average, Multiply, Dot\n",
    "from tensorflow.keras.layers import dot\n",
    "from tensorflow.keras.models import Model\n",
    "from tensorflow.keras.layers import Dense, Dropout, BatchNormalization, Input, Embedding, Flatten, Dot, Dense, Concatenate\n"
   ]
  },
  {
   "cell_type": "code",
   "execution_count": 32,
   "metadata": {},
   "outputs": [],
   "source": [
    "# neural network model - embedding layer\n",
    "def embedding_input(name,n_in,n_out,reg):\n",
    "    inp = Input(shape = (1,), dtype = \"int64\", name = name)\n",
    "    return inp, Embedding(n_in,n_out,input_length = 1)(inp)"
   ]
  },
  {
   "cell_type": "code",
   "execution_count": 33,
   "metadata": {},
   "outputs": [],
   "source": [
    "n_users = df_model.User_id.nunique() +1\n",
    "n_act = df_model.act_encoded.nunique() +1\n",
    "n_users,n_act\n",
    "n_factors = 150"
   ]
  },
  {
   "cell_type": "code",
   "execution_count": 34,
   "metadata": {},
   "outputs": [
    {
     "data": {
      "text/plain": [
       "501"
      ]
     },
     "execution_count": 34,
     "metadata": {},
     "output_type": "execute_result"
    }
   ],
   "source": [
    "n_users"
   ]
  },
  {
   "cell_type": "code",
   "execution_count": 35,
   "metadata": {},
   "outputs": [
    {
     "data": {
      "text/plain": [
       "<tf.Tensor 'embedding_1/embedding_lookup/Identity_1:0' shape=(?, 1, 150) dtype=float32>"
      ]
     },
     "execution_count": 35,
     "metadata": {},
     "output_type": "execute_result"
    }
   ],
   "source": [
    "user_in, u=embedding_input(\"user_in\", n_users,n_factors, 1e-4)\n",
    "act_in, m=embedding_input(\"act_in\",n_act,n_factors, 1e-4)\n",
    "m"
   ]
  },
  {
   "cell_type": "code",
   "execution_count": 36,
   "metadata": {},
   "outputs": [],
   "source": [
    "# model\n",
    "x = Dot(axes=1)([u,m])\n",
    "x = Flatten()(x)\n",
    "x = Dropout(0.3)(x)\n",
    "x = Dense(70, activation = \"relu\")(x)\n",
    "x = Dropout(0.3)(x)\n",
    "x = Dense(1)(x)\n",
    "nn = Model([user_in,act_in], x)\n",
    "nn.compile('adam', 'mean_squared_error')"
   ]
  },
  {
   "cell_type": "code",
   "execution_count": 37,
   "metadata": {},
   "outputs": [
    {
     "name": "stdout",
     "output_type": "stream",
     "text": [
      "__________________________________________________________________________________________________\n",
      "Layer (type)                    Output Shape         Param #     Connected to                     \n",
      "==================================================================================================\n",
      "user_in (InputLayer)            (None, 1)            0                                            \n",
      "__________________________________________________________________________________________________\n",
      "act_in (InputLayer)             (None, 1)            0                                            \n",
      "__________________________________________________________________________________________________\n",
      "embedding (Embedding)           (None, 1, 150)       75150       user_in[0][0]                    \n",
      "__________________________________________________________________________________________________\n",
      "embedding_1 (Embedding)         (None, 1, 150)       8250        act_in[0][0]                     \n",
      "__________________________________________________________________________________________________\n",
      "dot (Dot)                       (None, 150, 150)     0           embedding[0][0]                  \n",
      "                                                                 embedding_1[0][0]                \n",
      "__________________________________________________________________________________________________\n",
      "flatten (Flatten)               (None, 22500)        0           dot[0][0]                        \n",
      "__________________________________________________________________________________________________\n",
      "dropout (Dropout)               (None, 22500)        0           flatten[0][0]                    \n",
      "__________________________________________________________________________________________________\n",
      "dense (Dense)                   (None, 70)           1575070     dropout[0][0]                    \n",
      "__________________________________________________________________________________________________\n",
      "dropout_1 (Dropout)             (None, 70)           0           dense[0][0]                      \n",
      "__________________________________________________________________________________________________\n",
      "dense_1 (Dense)                 (None, 1)            71          dropout_1[0][0]                  \n",
      "==================================================================================================\n",
      "Total params: 1,658,541\n",
      "Trainable params: 1,658,541\n",
      "Non-trainable params: 0\n",
      "__________________________________________________________________________________________________\n"
     ]
    }
   ],
   "source": [
    "nn.summary()"
   ]
  },
  {
   "cell_type": "code",
   "execution_count": 82,
   "metadata": {},
   "outputs": [
    {
     "name": "stderr",
     "output_type": "stream",
     "text": [
      "C:\\Users\\gisel\\Anaconda3\\envs\\deeplearning\\lib\\site-packages\\tensorflow\\python\\ops\\gradients_impl.py:100: UserWarning: Converting sparse IndexedSlices to a dense Tensor of unknown shape. This may consume a large amount of memory.\n",
      "  \"Converting sparse IndexedSlices to a dense Tensor of unknown shape. \"\n"
     ]
    }
   ],
   "source": [
    "from tensorflow.keras.models import load_model\n",
    "\n",
    "if os.path.exists('rec_model5.h5'):\n",
    "    nn= load_model('rec_model5.h5')\n",
    "else:\n",
    "    history = nn.fit([train.User_id, train.act_encoded], train[\"total hours\"], epochs=8, verbose=1)\n",
    "    nn.save('rec_model5.h5')\n",
    "    plt.plot(history.history['loss'])\n",
    "    plt.xlabel(\"Epochs\")\n",
    "    plt.ylabel(\"Training Error\")"
   ]
  },
  {
   "cell_type": "code",
   "execution_count": 83,
   "metadata": {},
   "outputs": [
    {
     "name": "stdout",
     "output_type": "stream",
     "text": [
      "5380/5380 [==============================] - 1s 210us/step\n"
     ]
    },
    {
     "data": {
      "text/plain": [
       "91.70829894906083"
      ]
     },
     "execution_count": 83,
     "metadata": {},
     "output_type": "execute_result"
    }
   ],
   "source": [
    "# MSE test set\n",
    "nn.evaluate([test.User_id, test.act_encoded], test[\"total hours\"])"
   ]
  },
  {
   "cell_type": "code",
   "execution_count": 84,
   "metadata": {},
   "outputs": [],
   "source": [
    "# predicting test data\n",
    "predictions = nn.predict([test.User_id, test.act_encoded])"
   ]
  },
  {
   "cell_type": "code",
   "execution_count": 85,
   "metadata": {},
   "outputs": [
    {
     "data": {
      "text/plain": [
       "array([[ 8.671846 ],\n",
       "       [ 8.424944 ],\n",
       "       [10.3771305],\n",
       "       ...,\n",
       "       [10.970577 ],\n",
       "       [ 6.643779 ],\n",
       "       [ 9.144918 ]], dtype=float32)"
      ]
     },
     "execution_count": 85,
     "metadata": {},
     "output_type": "execute_result"
    }
   ],
   "source": [
    "predictions"
   ]
  },
  {
   "cell_type": "code",
   "execution_count": 86,
   "metadata": {},
   "outputs": [
    {
     "data": {
      "image/png": "[encoded data removed]",
      "text/plain": [
       "<Figure size 432x288 with 1 Axes>"
      ]
     },
     "metadata": {
      "needs_background": "light"
     },
     "output_type": "display_data"
    }
   ],
   "source": [
    "import seaborn as sns\n",
    "plt.figure()\n",
    "\n",
    "\n",
    "ax1 = sns.distplot(test[\"total hours\"], hist=False, color=\"r\", label=\"Actual Value\")\n",
    "sns.distplot(predictions, hist=False, color=\"b\", label=\"Fitted Values\" , ax=ax1)\n",
    "\n",
    "\n",
    "plt.title('Actual vs Fitted Values')\n",
    "plt.xlabel('Hours')\n",
    "plt.ylabel('Proportion of Hours')\n",
    "\n",
    "plt.show()\n",
    "plt.close()"
   ]
  },
  {
   "cell_type": "code",
   "execution_count": 105,
   "metadata": {},
   "outputs": [
    {
     "name": "stderr",
     "output_type": "stream",
     "text": [
      "C:\\Users\\gisel\\Anaconda3\\envs\\deeplearning\\lib\\site-packages\\ipykernel_launcher.py:1: SettingWithCopyWarning: \n",
      "A value is trying to be set on a copy of a slice from a DataFrame.\n",
      "Try using .loc[row_indexer,col_indexer] = value instead\n",
      "\n",
      "See the caveats in the documentation: https://pandas.pydata.org/pandas-docs/stable/user_guide/indexing.html#returning-a-view-versus-a-copy\n",
      "  \"\"\"Entry point for launching an IPython kernel.\n"
     ]
    },
    {
     "data": {
      "text/html": [
       "<div>\n",
       "<style scoped>\n",
       "    .dataframe tbody tr th:only-of-type {\n",
       "        vertical-align: middle;\n",
       "    }\n",
       "\n",
       "    .dataframe tbody tr th {\n",
       "        vertical-align: top;\n",
       "    }\n",
       "\n",
       "    .dataframe thead th {\n",
       "        text-align: right;\n",
       "    }\n",
       "</style>\n",
       "<table border=\"1\" class=\"dataframe\">\n",
       "  <thead>\n",
       "    <tr style=\"text-align: right;\">\n",
       "      <th></th>\n",
       "      <th>User_id</th>\n",
       "      <th>act_encoded</th>\n",
       "      <th>total hours</th>\n",
       "      <th>predictions</th>\n",
       "    </tr>\n",
       "  </thead>\n",
       "  <tbody>\n",
       "    <tr>\n",
       "      <th>23760</th>\n",
       "      <td>442</td>\n",
       "      <td>52</td>\n",
       "      <td>19</td>\n",
       "      <td>8.671846</td>\n",
       "    </tr>\n",
       "    <tr>\n",
       "      <th>26555</th>\n",
       "      <td>494</td>\n",
       "      <td>28</td>\n",
       "      <td>11</td>\n",
       "      <td>8.424944</td>\n",
       "    </tr>\n",
       "    <tr>\n",
       "      <th>7708</th>\n",
       "      <td>145</td>\n",
       "      <td>27</td>\n",
       "      <td>6</td>\n",
       "      <td>10.377131</td>\n",
       "    </tr>\n",
       "    <tr>\n",
       "      <th>20983</th>\n",
       "      <td>391</td>\n",
       "      <td>12</td>\n",
       "      <td>12</td>\n",
       "      <td>9.784309</td>\n",
       "    </tr>\n",
       "    <tr>\n",
       "      <th>23975</th>\n",
       "      <td>446</td>\n",
       "      <td>51</td>\n",
       "      <td>11</td>\n",
       "      <td>9.963156</td>\n",
       "    </tr>\n",
       "    <tr>\n",
       "      <th>17577</th>\n",
       "      <td>328</td>\n",
       "      <td>43</td>\n",
       "      <td>14</td>\n",
       "      <td>12.233345</td>\n",
       "    </tr>\n",
       "    <tr>\n",
       "      <th>14214</th>\n",
       "      <td>266</td>\n",
       "      <td>21</td>\n",
       "      <td>12</td>\n",
       "      <td>7.347938</td>\n",
       "    </tr>\n",
       "    <tr>\n",
       "      <th>21163</th>\n",
       "      <td>394</td>\n",
       "      <td>47</td>\n",
       "      <td>13</td>\n",
       "      <td>10.999983</td>\n",
       "    </tr>\n",
       "    <tr>\n",
       "      <th>99</th>\n",
       "      <td>3</td>\n",
       "      <td>9</td>\n",
       "      <td>7</td>\n",
       "      <td>10.717270</td>\n",
       "    </tr>\n",
       "    <tr>\n",
       "      <th>2501</th>\n",
       "      <td>49</td>\n",
       "      <td>30</td>\n",
       "      <td>9</td>\n",
       "      <td>6.307901</td>\n",
       "    </tr>\n",
       "  </tbody>\n",
       "</table>\n",
       "</div>"
      ],
      "text/plain": [
       "       User_id  act_encoded  total hours  predictions\n",
       "23760      442           52           19     8.671846\n",
       "26555      494           28           11     8.424944\n",
       "7708       145           27            6    10.377131\n",
       "20983      391           12           12     9.784309\n",
       "23975      446           51           11     9.963156\n",
       "17577      328           43           14    12.233345\n",
       "14214      266           21           12     7.347938\n",
       "21163      394           47           13    10.999983\n",
       "99           3            9            7    10.717270\n",
       "2501        49           30            9     6.307901"
      ]
     },
     "execution_count": 105,
     "metadata": {},
     "output_type": "execute_result"
    }
   ],
   "source": [
    "test[\"predictions\"] = predictions\n",
    "test.head(10)"
   ]
  },
  {
   "cell_type": "code",
   "execution_count": 88,
   "metadata": {},
   "outputs": [
    {
     "data": {
      "text/plain": [
       "array([[ 0.32911265, -0.04668712,  0.35826385, ...,  0.11551829,\n",
       "         0.65930134,  0.20734172],\n",
       "       [ 0.21214941,  0.1825082 ,  0.34646958, ...,  0.723954  ,\n",
       "        -0.09710777, -0.08968681],\n",
       "       [ 0.6814618 ,  0.47811615,  0.7158196 , ...,  0.28218678,\n",
       "         0.26673585,  0.04189865],\n",
       "       ...,\n",
       "       [ 0.15846099,  0.22273037,  0.1611868 , ..., -0.18025534,\n",
       "         0.19942322,  0.2683512 ],\n",
       "       [ 0.8371385 ,  0.207973  ,  0.78730476, ...,  0.9389568 ,\n",
       "         0.7998406 ,  0.7653135 ],\n",
       "       [ 0.37350595,  0.2312423 ,  0.75355136, ...,  0.49557614,\n",
       "         0.3018484 ,  0.01699317]], dtype=float32)"
      ]
     },
     "execution_count": 88,
     "metadata": {},
     "output_type": "execute_result"
    }
   ],
   "source": [
    "# Extract embeddings for recommendations \n",
    "act_em = nn.get_layer('embedding_1')\n",
    "act_em_weights = act_em.get_weights()[0]\n",
    "\n",
    "\n",
    "\n",
    "act_em_weights.shape\n",
    "act_em_weights"
   ]
  },
  {
   "cell_type": "code",
   "execution_count": 89,
   "metadata": {},
   "outputs": [
    {
     "data": {
      "text/plain": [
       "0.9999999"
      ]
     },
     "execution_count": 89,
     "metadata": {},
     "output_type": "execute_result"
    }
   ],
   "source": [
    "# normalize embeddings to find cosine similarity between 2 activities\n",
    "act_em_weights = act_em_weights / np.linalg.norm(act_em_weights, axis = 1).reshape((-1, 1))\n",
    "act_em_weights[0][:10]\n",
    "np.sum(np.square(act_em_weights[50]))"
   ]
  },
  {
   "cell_type": "code",
   "execution_count": 90,
   "metadata": {},
   "outputs": [
    {
     "data": {
      "text/plain": [
       "54"
      ]
     },
     "execution_count": 90,
     "metadata": {},
     "output_type": "execute_result"
    }
   ],
   "source": [
    "act_id_em = df_model[\"act_encoded\"].unique()\n",
    "len(act_id_em)\n"
   ]
  },
  {
   "cell_type": "code",
   "execution_count": 91,
   "metadata": {},
   "outputs": [],
   "source": [
    "activity_df = pd.DataFrame(act_em_weights)\n",
    "activity_df = activity_df.drop(54)"
   ]
  },
  {
   "cell_type": "code",
   "execution_count": 92,
   "metadata": {},
   "outputs": [
    {
     "data": {
      "text/html": [
       "<div>\n",
       "<style scoped>\n",
       "    .dataframe tbody tr th:only-of-type {\n",
       "        vertical-align: middle;\n",
       "    }\n",
       "\n",
       "    .dataframe tbody tr th {\n",
       "        vertical-align: top;\n",
       "    }\n",
       "\n",
       "    .dataframe thead th {\n",
       "        text-align: right;\n",
       "    }\n",
       "</style>\n",
       "<table border=\"1\" class=\"dataframe\">\n",
       "  <thead>\n",
       "    <tr style=\"text-align: right;\">\n",
       "      <th></th>\n",
       "      <th>0</th>\n",
       "      <th>1</th>\n",
       "      <th>2</th>\n",
       "      <th>3</th>\n",
       "      <th>4</th>\n",
       "      <th>5</th>\n",
       "      <th>6</th>\n",
       "      <th>7</th>\n",
       "      <th>8</th>\n",
       "      <th>9</th>\n",
       "      <th>...</th>\n",
       "      <th>141</th>\n",
       "      <th>142</th>\n",
       "      <th>143</th>\n",
       "      <th>144</th>\n",
       "      <th>145</th>\n",
       "      <th>146</th>\n",
       "      <th>147</th>\n",
       "      <th>148</th>\n",
       "      <th>149</th>\n",
       "      <th>act_id</th>\n",
       "    </tr>\n",
       "  </thead>\n",
       "  <tbody>\n",
       "    <tr>\n",
       "      <th>0</th>\n",
       "      <td>0.057228</td>\n",
       "      <td>-0.008118</td>\n",
       "      <td>0.062297</td>\n",
       "      <td>0.119885</td>\n",
       "      <td>0.152384</td>\n",
       "      <td>0.042313</td>\n",
       "      <td>0.093622</td>\n",
       "      <td>0.085787</td>\n",
       "      <td>0.004924</td>\n",
       "      <td>-0.003983</td>\n",
       "      <td>...</td>\n",
       "      <td>0.001643</td>\n",
       "      <td>0.050422</td>\n",
       "      <td>0.089605</td>\n",
       "      <td>0.130264</td>\n",
       "      <td>0.093543</td>\n",
       "      <td>0.137444</td>\n",
       "      <td>0.020087</td>\n",
       "      <td>0.114644</td>\n",
       "      <td>0.036054</td>\n",
       "      <td>10</td>\n",
       "    </tr>\n",
       "    <tr>\n",
       "      <th>1</th>\n",
       "      <td>0.034259</td>\n",
       "      <td>0.029472</td>\n",
       "      <td>0.055950</td>\n",
       "      <td>0.034694</td>\n",
       "      <td>-0.010784</td>\n",
       "      <td>0.039913</td>\n",
       "      <td>0.051659</td>\n",
       "      <td>0.126231</td>\n",
       "      <td>0.158152</td>\n",
       "      <td>-0.023344</td>\n",
       "      <td>...</td>\n",
       "      <td>0.055807</td>\n",
       "      <td>0.114974</td>\n",
       "      <td>0.039846</td>\n",
       "      <td>0.138060</td>\n",
       "      <td>0.012839</td>\n",
       "      <td>0.047174</td>\n",
       "      <td>0.116908</td>\n",
       "      <td>-0.015682</td>\n",
       "      <td>-0.014483</td>\n",
       "      <td>15</td>\n",
       "    </tr>\n",
       "    <tr>\n",
       "      <th>2</th>\n",
       "      <td>0.103614</td>\n",
       "      <td>0.072696</td>\n",
       "      <td>0.108838</td>\n",
       "      <td>0.057462</td>\n",
       "      <td>0.048712</td>\n",
       "      <td>-0.007744</td>\n",
       "      <td>0.121654</td>\n",
       "      <td>0.035458</td>\n",
       "      <td>0.132363</td>\n",
       "      <td>0.012037</td>\n",
       "      <td>...</td>\n",
       "      <td>0.113598</td>\n",
       "      <td>0.091075</td>\n",
       "      <td>-0.025931</td>\n",
       "      <td>0.063096</td>\n",
       "      <td>0.037986</td>\n",
       "      <td>-0.028678</td>\n",
       "      <td>0.042906</td>\n",
       "      <td>0.040556</td>\n",
       "      <td>0.006371</td>\n",
       "      <td>16</td>\n",
       "    </tr>\n",
       "    <tr>\n",
       "      <th>3</th>\n",
       "      <td>0.008016</td>\n",
       "      <td>0.138535</td>\n",
       "      <td>0.055059</td>\n",
       "      <td>0.081894</td>\n",
       "      <td>0.102434</td>\n",
       "      <td>-0.019646</td>\n",
       "      <td>0.071283</td>\n",
       "      <td>0.042755</td>\n",
       "      <td>0.160928</td>\n",
       "      <td>0.081198</td>\n",
       "      <td>...</td>\n",
       "      <td>0.103580</td>\n",
       "      <td>0.071798</td>\n",
       "      <td>0.068984</td>\n",
       "      <td>0.134393</td>\n",
       "      <td>0.111605</td>\n",
       "      <td>0.040903</td>\n",
       "      <td>0.041385</td>\n",
       "      <td>-0.022572</td>\n",
       "      <td>0.044617</td>\n",
       "      <td>29</td>\n",
       "    </tr>\n",
       "    <tr>\n",
       "      <th>4</th>\n",
       "      <td>0.005133</td>\n",
       "      <td>0.069923</td>\n",
       "      <td>0.019131</td>\n",
       "      <td>0.038692</td>\n",
       "      <td>0.036223</td>\n",
       "      <td>0.125561</td>\n",
       "      <td>0.102264</td>\n",
       "      <td>0.129961</td>\n",
       "      <td>0.067711</td>\n",
       "      <td>0.112220</td>\n",
       "      <td>...</td>\n",
       "      <td>0.099505</td>\n",
       "      <td>0.114548</td>\n",
       "      <td>0.093825</td>\n",
       "      <td>0.055580</td>\n",
       "      <td>0.070689</td>\n",
       "      <td>-0.021002</td>\n",
       "      <td>0.003272</td>\n",
       "      <td>0.093089</td>\n",
       "      <td>0.080945</td>\n",
       "      <td>44</td>\n",
       "    </tr>\n",
       "  </tbody>\n",
       "</table>\n",
       "<p>5 rows × 151 columns</p>\n",
       "</div>"
      ],
      "text/plain": [
       "          0         1         2         3         4         5         6  \\\n",
       "0  0.057228 -0.008118  0.062297  0.119885  0.152384  0.042313  0.093622   \n",
       "1  0.034259  0.029472  0.055950  0.034694 -0.010784  0.039913  0.051659   \n",
       "2  0.103614  0.072696  0.108838  0.057462  0.048712 -0.007744  0.121654   \n",
       "3  0.008016  0.138535  0.055059  0.081894  0.102434 -0.019646  0.071283   \n",
       "4  0.005133  0.069923  0.019131  0.038692  0.036223  0.125561  0.102264   \n",
       "\n",
       "          7         8         9  ...       141       142       143       144  \\\n",
       "0  0.085787  0.004924 -0.003983  ...  0.001643  0.050422  0.089605  0.130264   \n",
       "1  0.126231  0.158152 -0.023344  ...  0.055807  0.114974  0.039846  0.138060   \n",
       "2  0.035458  0.132363  0.012037  ...  0.113598  0.091075 -0.025931  0.063096   \n",
       "3  0.042755  0.160928  0.081198  ...  0.103580  0.071798  0.068984  0.134393   \n",
       "4  0.129961  0.067711  0.112220  ...  0.099505  0.114548  0.093825  0.055580   \n",
       "\n",
       "        145       146       147       148       149  act_id  \n",
       "0  0.093543  0.137444  0.020087  0.114644  0.036054      10  \n",
       "1  0.012839  0.047174  0.116908 -0.015682 -0.014483      15  \n",
       "2  0.037986 -0.028678  0.042906  0.040556  0.006371      16  \n",
       "3  0.111605  0.040903  0.041385 -0.022572  0.044617      29  \n",
       "4  0.070689 -0.021002  0.003272  0.093089  0.080945      44  \n",
       "\n",
       "[5 rows x 151 columns]"
      ]
     },
     "execution_count": 92,
     "metadata": {},
     "output_type": "execute_result"
    }
   ],
   "source": [
    "activity_df[\"act_id\"] = act_id_em\n",
    "activity_df.head()"
   ]
  },
  {
   "cell_type": "code",
   "execution_count": 93,
   "metadata": {},
   "outputs": [
    {
     "data": {
      "text/html": [
       "<div>\n",
       "<style scoped>\n",
       "    .dataframe tbody tr th:only-of-type {\n",
       "        vertical-align: middle;\n",
       "    }\n",
       "\n",
       "    .dataframe tbody tr th {\n",
       "        vertical-align: top;\n",
       "    }\n",
       "\n",
       "    .dataframe thead th {\n",
       "        text-align: right;\n",
       "    }\n",
       "</style>\n",
       "<table border=\"1\" class=\"dataframe\">\n",
       "  <thead>\n",
       "    <tr style=\"text-align: right;\">\n",
       "      <th></th>\n",
       "      <th>User_id</th>\n",
       "      <th>activities</th>\n",
       "      <th>activity_level</th>\n",
       "      <th>total hours</th>\n",
       "      <th>act_encoded</th>\n",
       "    </tr>\n",
       "  </thead>\n",
       "  <tbody>\n",
       "    <tr>\n",
       "      <th>0</th>\n",
       "      <td>1</td>\n",
       "      <td>Exercise</td>\n",
       "      <td>Go for a walk</td>\n",
       "      <td>3</td>\n",
       "      <td>10</td>\n",
       "    </tr>\n",
       "    <tr>\n",
       "      <th>1</th>\n",
       "      <td>1</td>\n",
       "      <td>Exercise</td>\n",
       "      <td>Jogging</td>\n",
       "      <td>7</td>\n",
       "      <td>15</td>\n",
       "    </tr>\n",
       "    <tr>\n",
       "      <th>2</th>\n",
       "      <td>1</td>\n",
       "      <td>Exercise</td>\n",
       "      <td>Jump</td>\n",
       "      <td>1</td>\n",
       "      <td>16</td>\n",
       "    </tr>\n",
       "    <tr>\n",
       "      <th>3</th>\n",
       "      <td>1</td>\n",
       "      <td>Exercise</td>\n",
       "      <td>Run</td>\n",
       "      <td>76</td>\n",
       "      <td>29</td>\n",
       "    </tr>\n",
       "    <tr>\n",
       "      <th>4</th>\n",
       "      <td>1</td>\n",
       "      <td>Exercise</td>\n",
       "      <td>Weight lift</td>\n",
       "      <td>7</td>\n",
       "      <td>44</td>\n",
       "    </tr>\n",
       "  </tbody>\n",
       "</table>\n",
       "</div>"
      ],
      "text/plain": [
       "   User_id activities activity_level  total hours  act_encoded\n",
       "0        1   Exercise  Go for a walk            3           10\n",
       "1        1   Exercise        Jogging            7           15\n",
       "2        1   Exercise           Jump            1           16\n",
       "3        1   Exercise            Run           76           29\n",
       "4        1   Exercise    Weight lift            7           44"
      ]
     },
     "execution_count": 93,
     "metadata": {},
     "output_type": "execute_result"
    }
   ],
   "source": [
    "df_rec.head()"
   ]
  },
  {
   "cell_type": "code",
   "execution_count": 94,
   "metadata": {},
   "outputs": [],
   "source": [
    "act_names = df_rec[[\"act_encoded\", \"activity_level\"]].copy()"
   ]
  },
  {
   "cell_type": "code",
   "execution_count": 95,
   "metadata": {},
   "outputs": [],
   "source": [
    "act_names = act_names.drop_duplicates()"
   ]
  },
  {
   "cell_type": "code",
   "execution_count": 96,
   "metadata": {},
   "outputs": [],
   "source": [
    "act_names.columns = [\"act_id\", \"activity_level\"]"
   ]
  },
  {
   "cell_type": "code",
   "execution_count": 97,
   "metadata": {},
   "outputs": [],
   "source": [
    "act_df = pd.merge(activity_df, act_names, how = \"left\")"
   ]
  },
  {
   "cell_type": "code",
   "execution_count": 98,
   "metadata": {},
   "outputs": [
    {
     "data": {
      "text/html": [
       "<div>\n",
       "<style scoped>\n",
       "    .dataframe tbody tr th:only-of-type {\n",
       "        vertical-align: middle;\n",
       "    }\n",
       "\n",
       "    .dataframe tbody tr th {\n",
       "        vertical-align: top;\n",
       "    }\n",
       "\n",
       "    .dataframe thead th {\n",
       "        text-align: right;\n",
       "    }\n",
       "</style>\n",
       "<table border=\"1\" class=\"dataframe\">\n",
       "  <thead>\n",
       "    <tr style=\"text-align: right;\">\n",
       "      <th></th>\n",
       "      <th>0</th>\n",
       "      <th>1</th>\n",
       "      <th>2</th>\n",
       "      <th>3</th>\n",
       "      <th>4</th>\n",
       "      <th>5</th>\n",
       "      <th>6</th>\n",
       "      <th>7</th>\n",
       "      <th>8</th>\n",
       "      <th>9</th>\n",
       "      <th>...</th>\n",
       "      <th>142</th>\n",
       "      <th>143</th>\n",
       "      <th>144</th>\n",
       "      <th>145</th>\n",
       "      <th>146</th>\n",
       "      <th>147</th>\n",
       "      <th>148</th>\n",
       "      <th>149</th>\n",
       "      <th>act_id</th>\n",
       "      <th>activity_level</th>\n",
       "    </tr>\n",
       "  </thead>\n",
       "  <tbody>\n",
       "    <tr>\n",
       "      <th>0</th>\n",
       "      <td>0.057228</td>\n",
       "      <td>-0.008118</td>\n",
       "      <td>0.062297</td>\n",
       "      <td>0.119885</td>\n",
       "      <td>0.152384</td>\n",
       "      <td>0.042313</td>\n",
       "      <td>0.093622</td>\n",
       "      <td>0.085787</td>\n",
       "      <td>0.004924</td>\n",
       "      <td>-0.003983</td>\n",
       "      <td>...</td>\n",
       "      <td>0.050422</td>\n",
       "      <td>0.089605</td>\n",
       "      <td>0.130264</td>\n",
       "      <td>0.093543</td>\n",
       "      <td>0.137444</td>\n",
       "      <td>0.020087</td>\n",
       "      <td>0.114644</td>\n",
       "      <td>0.036054</td>\n",
       "      <td>10</td>\n",
       "      <td>Go for a walk</td>\n",
       "    </tr>\n",
       "    <tr>\n",
       "      <th>1</th>\n",
       "      <td>0.034259</td>\n",
       "      <td>0.029472</td>\n",
       "      <td>0.055950</td>\n",
       "      <td>0.034694</td>\n",
       "      <td>-0.010784</td>\n",
       "      <td>0.039913</td>\n",
       "      <td>0.051659</td>\n",
       "      <td>0.126231</td>\n",
       "      <td>0.158152</td>\n",
       "      <td>-0.023344</td>\n",
       "      <td>...</td>\n",
       "      <td>0.114974</td>\n",
       "      <td>0.039846</td>\n",
       "      <td>0.138060</td>\n",
       "      <td>0.012839</td>\n",
       "      <td>0.047174</td>\n",
       "      <td>0.116908</td>\n",
       "      <td>-0.015682</td>\n",
       "      <td>-0.014483</td>\n",
       "      <td>15</td>\n",
       "      <td>Jogging</td>\n",
       "    </tr>\n",
       "    <tr>\n",
       "      <th>2</th>\n",
       "      <td>0.103614</td>\n",
       "      <td>0.072696</td>\n",
       "      <td>0.108838</td>\n",
       "      <td>0.057462</td>\n",
       "      <td>0.048712</td>\n",
       "      <td>-0.007744</td>\n",
       "      <td>0.121654</td>\n",
       "      <td>0.035458</td>\n",
       "      <td>0.132363</td>\n",
       "      <td>0.012037</td>\n",
       "      <td>...</td>\n",
       "      <td>0.091075</td>\n",
       "      <td>-0.025931</td>\n",
       "      <td>0.063096</td>\n",
       "      <td>0.037986</td>\n",
       "      <td>-0.028678</td>\n",
       "      <td>0.042906</td>\n",
       "      <td>0.040556</td>\n",
       "      <td>0.006371</td>\n",
       "      <td>16</td>\n",
       "      <td>Jump</td>\n",
       "    </tr>\n",
       "    <tr>\n",
       "      <th>3</th>\n",
       "      <td>0.008016</td>\n",
       "      <td>0.138535</td>\n",
       "      <td>0.055059</td>\n",
       "      <td>0.081894</td>\n",
       "      <td>0.102434</td>\n",
       "      <td>-0.019646</td>\n",
       "      <td>0.071283</td>\n",
       "      <td>0.042755</td>\n",
       "      <td>0.160928</td>\n",
       "      <td>0.081198</td>\n",
       "      <td>...</td>\n",
       "      <td>0.071798</td>\n",
       "      <td>0.068984</td>\n",
       "      <td>0.134393</td>\n",
       "      <td>0.111605</td>\n",
       "      <td>0.040903</td>\n",
       "      <td>0.041385</td>\n",
       "      <td>-0.022572</td>\n",
       "      <td>0.044617</td>\n",
       "      <td>29</td>\n",
       "      <td>Run</td>\n",
       "    </tr>\n",
       "    <tr>\n",
       "      <th>4</th>\n",
       "      <td>0.005133</td>\n",
       "      <td>0.069923</td>\n",
       "      <td>0.019131</td>\n",
       "      <td>0.038692</td>\n",
       "      <td>0.036223</td>\n",
       "      <td>0.125561</td>\n",
       "      <td>0.102264</td>\n",
       "      <td>0.129961</td>\n",
       "      <td>0.067711</td>\n",
       "      <td>0.112220</td>\n",
       "      <td>...</td>\n",
       "      <td>0.114548</td>\n",
       "      <td>0.093825</td>\n",
       "      <td>0.055580</td>\n",
       "      <td>0.070689</td>\n",
       "      <td>-0.021002</td>\n",
       "      <td>0.003272</td>\n",
       "      <td>0.093089</td>\n",
       "      <td>0.080945</td>\n",
       "      <td>44</td>\n",
       "      <td>Weight lift</td>\n",
       "    </tr>\n",
       "  </tbody>\n",
       "</table>\n",
       "<p>5 rows × 152 columns</p>\n",
       "</div>"
      ],
      "text/plain": [
       "          0         1         2         3         4         5         6  \\\n",
       "0  0.057228 -0.008118  0.062297  0.119885  0.152384  0.042313  0.093622   \n",
       "1  0.034259  0.029472  0.055950  0.034694 -0.010784  0.039913  0.051659   \n",
       "2  0.103614  0.072696  0.108838  0.057462  0.048712 -0.007744  0.121654   \n",
       "3  0.008016  0.138535  0.055059  0.081894  0.102434 -0.019646  0.071283   \n",
       "4  0.005133  0.069923  0.019131  0.038692  0.036223  0.125561  0.102264   \n",
       "\n",
       "          7         8         9  ...       142       143       144       145  \\\n",
       "0  0.085787  0.004924 -0.003983  ...  0.050422  0.089605  0.130264  0.093543   \n",
       "1  0.126231  0.158152 -0.023344  ...  0.114974  0.039846  0.138060  0.012839   \n",
       "2  0.035458  0.132363  0.012037  ...  0.091075 -0.025931  0.063096  0.037986   \n",
       "3  0.042755  0.160928  0.081198  ...  0.071798  0.068984  0.134393  0.111605   \n",
       "4  0.129961  0.067711  0.112220  ...  0.114548  0.093825  0.055580  0.070689   \n",
       "\n",
       "        146       147       148       149  act_id  activity_level  \n",
       "0  0.137444  0.020087  0.114644  0.036054      10   Go for a walk  \n",
       "1  0.047174  0.116908 -0.015682 -0.014483      15         Jogging  \n",
       "2 -0.028678  0.042906  0.040556  0.006371      16            Jump  \n",
       "3  0.040903  0.041385 -0.022572  0.044617      29             Run  \n",
       "4 -0.021002  0.003272  0.093089  0.080945      44     Weight lift  \n",
       "\n",
       "[5 rows x 152 columns]"
      ]
     },
     "execution_count": 98,
     "metadata": {},
     "output_type": "execute_result"
    }
   ],
   "source": [
    "act_df.head()"
   ]
  },
  {
   "cell_type": "code",
   "execution_count": 99,
   "metadata": {},
   "outputs": [],
   "source": [
    "def find_similarity_total(act_name):\n",
    "    \"\"\"Recommends activities based on the cosine similarity between activities\"\"\"\n",
    "    cosine_list_total = []\n",
    "    act_name3 = []\n",
    "    act_name4 = []\n",
    "\n",
    "    for i in range(0,act_df.shape[0]):\n",
    "        tent4 = act_df.iloc[i,0:150]\n",
    "        tent5 = act_df[act_df[\"activity_level\"] == act_name]\n",
    "        tent6 = tent5.iloc[0,0:150]\n",
    "        cosine_total = np.dot(tent6,tent4)\n",
    "        \n",
    "        act3 = tent5.iloc[0,151]\n",
    "        act4 = act_df.iloc[i,151]\n",
    "        cosine_list_total.append(cosine_total)\n",
    "        act_name3.append(act3)\n",
    "        act_name4.append(act4)\n",
    "        \n",
    "        \n",
    "    cosine_df_total = pd.DataFrame({\"act1\" : act_name3, \"Recommendation\" : act_name4, \"Match - cosine similarity\" : cosine_list_total})\n",
    "    cosine_df_total = cosine_df_total.sort_values(by=\"Match - cosine similarity\", ascending = False)\n",
    "    return cosine_df_total.iloc[1:10,1:]"
   ]
  },
  {
   "cell_type": "code",
   "execution_count": 100,
   "metadata": {},
   "outputs": [
    {
     "data": {
      "text/html": [
       "<div>\n",
       "<style scoped>\n",
       "    .dataframe tbody tr th:only-of-type {\n",
       "        vertical-align: middle;\n",
       "    }\n",
       "\n",
       "    .dataframe tbody tr th {\n",
       "        vertical-align: top;\n",
       "    }\n",
       "\n",
       "    .dataframe thead th {\n",
       "        text-align: right;\n",
       "    }\n",
       "</style>\n",
       "<table border=\"1\" class=\"dataframe\">\n",
       "  <thead>\n",
       "    <tr style=\"text-align: right;\">\n",
       "      <th></th>\n",
       "      <th>Recommendation</th>\n",
       "      <th>Match - cosine similarity</th>\n",
       "    </tr>\n",
       "  </thead>\n",
       "  <tbody>\n",
       "    <tr>\n",
       "      <th>49</th>\n",
       "      <td>Biking</td>\n",
       "      <td>0.761697</td>\n",
       "    </tr>\n",
       "    <tr>\n",
       "      <th>19</th>\n",
       "      <td>Have lunch</td>\n",
       "      <td>0.748169</td>\n",
       "    </tr>\n",
       "    <tr>\n",
       "      <th>34</th>\n",
       "      <td>Watch a movie</td>\n",
       "      <td>0.743361</td>\n",
       "    </tr>\n",
       "    <tr>\n",
       "      <th>15</th>\n",
       "      <td>Feed the dog</td>\n",
       "      <td>0.731925</td>\n",
       "    </tr>\n",
       "    <tr>\n",
       "      <th>14</th>\n",
       "      <td>Water the plant</td>\n",
       "      <td>0.727215</td>\n",
       "    </tr>\n",
       "    <tr>\n",
       "      <th>30</th>\n",
       "      <td>Take a break</td>\n",
       "      <td>0.716912</td>\n",
       "    </tr>\n",
       "    <tr>\n",
       "      <th>13</th>\n",
       "      <td>Wash the car</td>\n",
       "      <td>0.714601</td>\n",
       "    </tr>\n",
       "    <tr>\n",
       "      <th>9</th>\n",
       "      <td>Fold the cloths</td>\n",
       "      <td>0.714486</td>\n",
       "    </tr>\n",
       "    <tr>\n",
       "      <th>4</th>\n",
       "      <td>Weight lift</td>\n",
       "      <td>0.713571</td>\n",
       "    </tr>\n",
       "  </tbody>\n",
       "</table>\n",
       "</div>"
      ],
      "text/plain": [
       "     Recommendation  Match - cosine similarity\n",
       "49           Biking                   0.761697\n",
       "19       Have lunch                   0.748169\n",
       "34    Watch a movie                   0.743361\n",
       "15     Feed the dog                   0.731925\n",
       "14  Water the plant                   0.727215\n",
       "30     Take a break                   0.716912\n",
       "13     Wash the car                   0.714601\n",
       "9   Fold the cloths                   0.714486\n",
       "4       Weight lift                   0.713571"
      ]
     },
     "execution_count": 100,
     "metadata": {},
     "output_type": "execute_result"
    }
   ],
   "source": [
    "# recommendation\n",
    "find_similarity_total(\"Jogging\")"
   ]
  },
  {
   "cell_type": "code",
   "execution_count": 104,
   "metadata": {},
   "outputs": [
    {
     "data": {
      "text/html": [
       "<div>\n",
       "<style scoped>\n",
       "    .dataframe tbody tr th:only-of-type {\n",
       "        vertical-align: middle;\n",
       "    }\n",
       "\n",
       "    .dataframe tbody tr th {\n",
       "        vertical-align: top;\n",
       "    }\n",
       "\n",
       "    .dataframe thead th {\n",
       "        text-align: right;\n",
       "    }\n",
       "</style>\n",
       "<table border=\"1\" class=\"dataframe\">\n",
       "  <thead>\n",
       "    <tr style=\"text-align: right;\">\n",
       "      <th></th>\n",
       "      <th>Recommendation</th>\n",
       "      <th>Match - cosine similarity</th>\n",
       "    </tr>\n",
       "  </thead>\n",
       "  <tbody>\n",
       "    <tr>\n",
       "      <th>30</th>\n",
       "      <td>Take a break</td>\n",
       "      <td>0.778272</td>\n",
       "    </tr>\n",
       "    <tr>\n",
       "      <th>22</th>\n",
       "      <td>Online learning</td>\n",
       "      <td>0.751637</td>\n",
       "    </tr>\n",
       "    <tr>\n",
       "      <th>1</th>\n",
       "      <td>Jogging</td>\n",
       "      <td>0.743361</td>\n",
       "    </tr>\n",
       "    <tr>\n",
       "      <th>8</th>\n",
       "      <td>Do the laundry</td>\n",
       "      <td>0.738977</td>\n",
       "    </tr>\n",
       "    <tr>\n",
       "      <th>17</th>\n",
       "      <td>Have breakfast</td>\n",
       "      <td>0.733064</td>\n",
       "    </tr>\n",
       "    <tr>\n",
       "      <th>24</th>\n",
       "      <td>Pick up groceries</td>\n",
       "      <td>0.732838</td>\n",
       "    </tr>\n",
       "    <tr>\n",
       "      <th>3</th>\n",
       "      <td>Run</td>\n",
       "      <td>0.730130</td>\n",
       "    </tr>\n",
       "    <tr>\n",
       "      <th>11</th>\n",
       "      <td>Sweep the floor</td>\n",
       "      <td>0.729980</td>\n",
       "    </tr>\n",
       "    <tr>\n",
       "      <th>14</th>\n",
       "      <td>Water the plant</td>\n",
       "      <td>0.725102</td>\n",
       "    </tr>\n",
       "  </tbody>\n",
       "</table>\n",
       "</div>"
      ],
      "text/plain": [
       "       Recommendation  Match - cosine similarity\n",
       "30       Take a break                   0.778272\n",
       "22    Online learning                   0.751637\n",
       "1             Jogging                   0.743361\n",
       "8      Do the laundry                   0.738977\n",
       "17     Have breakfast                   0.733064\n",
       "24  Pick up groceries                   0.732838\n",
       "3                 Run                   0.730130\n",
       "11    Sweep the floor                   0.729980\n",
       "14    Water the plant                   0.725102"
      ]
     },
     "execution_count": 104,
     "metadata": {},
     "output_type": "execute_result"
    }
   ],
   "source": [
    "find_similarity_total(\"Watch a movie\")"
   ]
  },
  {
   "cell_type": "code",
   "execution_count": null,
   "metadata": {},
   "outputs": [],
   "source": []
  },
  {
   "cell_type": "code",
   "execution_count": null,
   "metadata": {},
   "outputs": [],
   "source": []
  }
 ],
 "metadata": {
  "kernelspec": {
   "display_name": "Python 3",
   "language": "python",
   "name": "python3"
  },
  "language_info": {
   "codemirror_mode": {
    "name": "ipython",
    "version": 3
   },
   "file_extension": ".py",
   "mimetype": "text/x-python",
   "name": "python",
   "nbconvert_exporter": "python",
   "pygments_lexer": "ipython3",
   "version": "3.6.10"
  }
 },
 "nbformat": 4,
 "nbformat_minor": 4
}
