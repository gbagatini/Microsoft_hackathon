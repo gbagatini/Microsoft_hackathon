{
 "cells": [
  {
   "cell_type": "code",
   "execution_count": 1,
   "metadata": {},
   "outputs": [],
   "source": [
    "import pandas as pd\n",
    "import numpy as np\n",
    "import matplotlib.pyplot as plt\n",
    "%matplotlib inline\n",
    "import os\n",
    "import warnings"
   ]
  },
  {
   "cell_type": "code",
   "execution_count": 2,
   "metadata": {},
   "outputs": [
    {
     "name": "stderr",
     "output_type": "stream",
     "text": [
      "C:\\Users\\gisel\\Anaconda3\\envs\\deeplearning\\lib\\site-packages\\numpy\\lib\\arraysetops.py:569: FutureWarning: elementwise comparison failed; returning scalar instead, but in the future will perform elementwise comparison\n",
      "  mask |= (ar1 == a)\n"
     ]
    }
   ],
   "source": [
    "df = pd.read_csv(\"act_table2.csv\", index_col = 0)"
   ]
  },
  {
   "cell_type": "code",
   "execution_count": 3,
   "metadata": {},
   "outputs": [
    {
     "data": {
      "text/html": [
       "<div>\n",
       "<style scoped>\n",
       "    .dataframe tbody tr th:only-of-type {\n",
       "        vertical-align: middle;\n",
       "    }\n",
       "\n",
       "    .dataframe tbody tr th {\n",
       "        vertical-align: top;\n",
       "    }\n",
       "\n",
       "    .dataframe thead th {\n",
       "        text-align: right;\n",
       "    }\n",
       "</style>\n",
       "<table border=\"1\" class=\"dataframe\">\n",
       "  <thead>\n",
       "    <tr style=\"text-align: right;\">\n",
       "      <th></th>\n",
       "      <th>ids</th>\n",
       "      <th>date</th>\n",
       "      <th>activities</th>\n",
       "      <th>activity_level</th>\n",
       "    </tr>\n",
       "  </thead>\n",
       "  <tbody>\n",
       "    <tr>\n",
       "      <th>0</th>\n",
       "      <td>1</td>\n",
       "      <td>2020-02-01 0:00</td>\n",
       "      <td>sleep</td>\n",
       "      <td>sleep</td>\n",
       "    </tr>\n",
       "    <tr>\n",
       "      <th>1</th>\n",
       "      <td>1</td>\n",
       "      <td>2020-02-01 1:00</td>\n",
       "      <td>sleep</td>\n",
       "      <td>sleep</td>\n",
       "    </tr>\n",
       "    <tr>\n",
       "      <th>2</th>\n",
       "      <td>1</td>\n",
       "      <td>2020-02-01 2:00</td>\n",
       "      <td>sleep</td>\n",
       "      <td>sleep</td>\n",
       "    </tr>\n",
       "    <tr>\n",
       "      <th>3</th>\n",
       "      <td>1</td>\n",
       "      <td>2020-02-01 3:00</td>\n",
       "      <td>sleep</td>\n",
       "      <td>sleep</td>\n",
       "    </tr>\n",
       "    <tr>\n",
       "      <th>4</th>\n",
       "      <td>1</td>\n",
       "      <td>2020-02-01 4:00</td>\n",
       "      <td>sleep</td>\n",
       "      <td>sleep</td>\n",
       "    </tr>\n",
       "  </tbody>\n",
       "</table>\n",
       "</div>"
      ],
      "text/plain": [
       "   ids             date activities activity_level\n",
       "0    1  2020-02-01 0:00      sleep          sleep\n",
       "1    1  2020-02-01 1:00      sleep          sleep\n",
       "2    1  2020-02-01 2:00      sleep          sleep\n",
       "3    1  2020-02-01 3:00      sleep          sleep\n",
       "4    1  2020-02-01 4:00      sleep          sleep"
      ]
     },
     "execution_count": 3,
     "metadata": {},
     "output_type": "execute_result"
    }
   ],
   "source": [
    "df.head()"
   ]
  },
  {
   "cell_type": "code",
   "execution_count": 4,
   "metadata": {},
   "outputs": [
    {
     "name": "stdout",
     "output_type": "stream",
     "text": [
      "<class 'pandas.core.frame.DataFrame'>\n",
      "Int64Index: 1020500 entries, 0 to 1020499\n",
      "Data columns (total 4 columns):\n",
      " #   Column          Non-Null Count    Dtype \n",
      "---  ------          --------------    ----- \n",
      " 0   ids             1020500 non-null  int64 \n",
      " 1   date            1020500 non-null  object\n",
      " 2   activities      1020500 non-null  object\n",
      " 3   activity_level  1020500 non-null  object\n",
      "dtypes: int64(1), object(3)\n",
      "memory usage: 38.9+ MB\n"
     ]
    }
   ],
   "source": [
    "df.info()"
   ]
  },
  {
   "cell_type": "code",
   "execution_count": 5,
   "metadata": {},
   "outputs": [],
   "source": [
    "df['date'] = pd.to_datetime(df['date'])"
   ]
  },
  {
   "cell_type": "code",
   "execution_count": 6,
   "metadata": {},
   "outputs": [],
   "source": [
    "df['day'] = df['date'].dt.to_period('D')"
   ]
  },
  {
   "cell_type": "code",
   "execution_count": 7,
   "metadata": {},
   "outputs": [
    {
     "data": {
      "text/html": [
       "<div>\n",
       "<style scoped>\n",
       "    .dataframe tbody tr th:only-of-type {\n",
       "        vertical-align: middle;\n",
       "    }\n",
       "\n",
       "    .dataframe tbody tr th {\n",
       "        vertical-align: top;\n",
       "    }\n",
       "\n",
       "    .dataframe thead th {\n",
       "        text-align: right;\n",
       "    }\n",
       "</style>\n",
       "<table border=\"1\" class=\"dataframe\">\n",
       "  <thead>\n",
       "    <tr style=\"text-align: right;\">\n",
       "      <th></th>\n",
       "      <th>ids</th>\n",
       "      <th>date</th>\n",
       "      <th>activities</th>\n",
       "      <th>activity_level</th>\n",
       "      <th>day</th>\n",
       "    </tr>\n",
       "  </thead>\n",
       "  <tbody>\n",
       "    <tr>\n",
       "      <th>0</th>\n",
       "      <td>1</td>\n",
       "      <td>2020-02-01 00:00:00</td>\n",
       "      <td>sleep</td>\n",
       "      <td>sleep</td>\n",
       "      <td>2020-02-01</td>\n",
       "    </tr>\n",
       "    <tr>\n",
       "      <th>1</th>\n",
       "      <td>1</td>\n",
       "      <td>2020-02-01 01:00:00</td>\n",
       "      <td>sleep</td>\n",
       "      <td>sleep</td>\n",
       "      <td>2020-02-01</td>\n",
       "    </tr>\n",
       "    <tr>\n",
       "      <th>2</th>\n",
       "      <td>1</td>\n",
       "      <td>2020-02-01 02:00:00</td>\n",
       "      <td>sleep</td>\n",
       "      <td>sleep</td>\n",
       "      <td>2020-02-01</td>\n",
       "    </tr>\n",
       "    <tr>\n",
       "      <th>3</th>\n",
       "      <td>1</td>\n",
       "      <td>2020-02-01 03:00:00</td>\n",
       "      <td>sleep</td>\n",
       "      <td>sleep</td>\n",
       "      <td>2020-02-01</td>\n",
       "    </tr>\n",
       "    <tr>\n",
       "      <th>4</th>\n",
       "      <td>1</td>\n",
       "      <td>2020-02-01 04:00:00</td>\n",
       "      <td>sleep</td>\n",
       "      <td>sleep</td>\n",
       "      <td>2020-02-01</td>\n",
       "    </tr>\n",
       "  </tbody>\n",
       "</table>\n",
       "</div>"
      ],
      "text/plain": [
       "   ids                date activities activity_level         day\n",
       "0    1 2020-02-01 00:00:00      sleep          sleep  2020-02-01\n",
       "1    1 2020-02-01 01:00:00      sleep          sleep  2020-02-01\n",
       "2    1 2020-02-01 02:00:00      sleep          sleep  2020-02-01\n",
       "3    1 2020-02-01 03:00:00      sleep          sleep  2020-02-01\n",
       "4    1 2020-02-01 04:00:00      sleep          sleep  2020-02-01"
      ]
     },
     "execution_count": 7,
     "metadata": {},
     "output_type": "execute_result"
    }
   ],
   "source": [
    "df.head()"
   ]
  },
  {
   "cell_type": "code",
   "execution_count": 8,
   "metadata": {},
   "outputs": [],
   "source": [
    "user_experience = df.groupby([\"day\", \"activities\", \"ids\", \"activity_level\" ]).agg([\"count\"])"
   ]
  },
  {
   "cell_type": "code",
   "execution_count": 9,
   "metadata": {},
   "outputs": [],
   "source": [
    "user_experience = user_experience.reset_index()"
   ]
  },
  {
   "cell_type": "code",
   "execution_count": 10,
   "metadata": {},
   "outputs": [
    {
     "data": {
      "text/html": [
       "<div>\n",
       "<style scoped>\n",
       "    .dataframe tbody tr th:only-of-type {\n",
       "        vertical-align: middle;\n",
       "    }\n",
       "\n",
       "    .dataframe tbody tr th {\n",
       "        vertical-align: top;\n",
       "    }\n",
       "\n",
       "    .dataframe thead tr th {\n",
       "        text-align: left;\n",
       "    }\n",
       "</style>\n",
       "<table border=\"1\" class=\"dataframe\">\n",
       "  <thead>\n",
       "    <tr>\n",
       "      <th></th>\n",
       "      <th>day</th>\n",
       "      <th>activities</th>\n",
       "      <th>ids</th>\n",
       "      <th>activity_level</th>\n",
       "      <th>date</th>\n",
       "    </tr>\n",
       "    <tr>\n",
       "      <th></th>\n",
       "      <th></th>\n",
       "      <th></th>\n",
       "      <th></th>\n",
       "      <th></th>\n",
       "      <th>count</th>\n",
       "    </tr>\n",
       "  </thead>\n",
       "  <tbody>\n",
       "    <tr>\n",
       "      <th>0</th>\n",
       "      <td>2020-02-01</td>\n",
       "      <td>Exercise</td>\n",
       "      <td>1</td>\n",
       "      <td>Run</td>\n",
       "      <td>1</td>\n",
       "    </tr>\n",
       "    <tr>\n",
       "      <th>1</th>\n",
       "      <td>2020-02-01</td>\n",
       "      <td>Exercise</td>\n",
       "      <td>2</td>\n",
       "      <td>Yoga</td>\n",
       "      <td>1</td>\n",
       "    </tr>\n",
       "    <tr>\n",
       "      <th>2</th>\n",
       "      <td>2020-02-01</td>\n",
       "      <td>Exercise</td>\n",
       "      <td>3</td>\n",
       "      <td>Dancing</td>\n",
       "      <td>2</td>\n",
       "    </tr>\n",
       "    <tr>\n",
       "      <th>3</th>\n",
       "      <td>2020-02-01</td>\n",
       "      <td>Exercise</td>\n",
       "      <td>4</td>\n",
       "      <td>Dancing</td>\n",
       "      <td>2</td>\n",
       "    </tr>\n",
       "    <tr>\n",
       "      <th>4</th>\n",
       "      <td>2020-02-01</td>\n",
       "      <td>Exercise</td>\n",
       "      <td>5</td>\n",
       "      <td>Pilates</td>\n",
       "      <td>1</td>\n",
       "    </tr>\n",
       "    <tr>\n",
       "      <th>5</th>\n",
       "      <td>2020-02-01</td>\n",
       "      <td>Exercise</td>\n",
       "      <td>6</td>\n",
       "      <td>Climbing stairs or hills</td>\n",
       "      <td>1</td>\n",
       "    </tr>\n",
       "    <tr>\n",
       "      <th>6</th>\n",
       "      <td>2020-02-01</td>\n",
       "      <td>Exercise</td>\n",
       "      <td>7</td>\n",
       "      <td>Stretching exercise</td>\n",
       "      <td>1</td>\n",
       "    </tr>\n",
       "    <tr>\n",
       "      <th>7</th>\n",
       "      <td>2020-02-01</td>\n",
       "      <td>Exercise</td>\n",
       "      <td>8</td>\n",
       "      <td>Biking</td>\n",
       "      <td>1</td>\n",
       "    </tr>\n",
       "    <tr>\n",
       "      <th>8</th>\n",
       "      <td>2020-02-01</td>\n",
       "      <td>Exercise</td>\n",
       "      <td>9</td>\n",
       "      <td>Run</td>\n",
       "      <td>2</td>\n",
       "    </tr>\n",
       "    <tr>\n",
       "      <th>9</th>\n",
       "      <td>2020-02-01</td>\n",
       "      <td>Exercise</td>\n",
       "      <td>10</td>\n",
       "      <td>Yoga</td>\n",
       "      <td>2</td>\n",
       "    </tr>\n",
       "  </tbody>\n",
       "</table>\n",
       "</div>"
      ],
      "text/plain": [
       "          day activities ids            activity_level  date\n",
       "                                                       count\n",
       "0  2020-02-01   Exercise   1                       Run     1\n",
       "1  2020-02-01   Exercise   2                      Yoga     1\n",
       "2  2020-02-01   Exercise   3                   Dancing     2\n",
       "3  2020-02-01   Exercise   4                   Dancing     2\n",
       "4  2020-02-01   Exercise   5                   Pilates     1\n",
       "5  2020-02-01   Exercise   6  Climbing stairs or hills     1\n",
       "6  2020-02-01   Exercise   7       Stretching exercise     1\n",
       "7  2020-02-01   Exercise   8                    Biking     1\n",
       "8  2020-02-01   Exercise   9                       Run     2\n",
       "9  2020-02-01   Exercise  10                      Yoga     2"
      ]
     },
     "execution_count": 10,
     "metadata": {},
     "output_type": "execute_result"
    }
   ],
   "source": [
    "user_experience.head(10)"
   ]
  },
  {
   "cell_type": "code",
   "execution_count": 11,
   "metadata": {},
   "outputs": [],
   "source": [
    "user_experience.columns = [\"day\", \"activities\", \"User_id\", \"activity_level\", \"activity_level count hours\"]"
   ]
  },
  {
   "cell_type": "code",
   "execution_count": 12,
   "metadata": {},
   "outputs": [
    {
     "data": {
      "text/html": [
       "<div>\n",
       "<style scoped>\n",
       "    .dataframe tbody tr th:only-of-type {\n",
       "        vertical-align: middle;\n",
       "    }\n",
       "\n",
       "    .dataframe tbody tr th {\n",
       "        vertical-align: top;\n",
       "    }\n",
       "\n",
       "    .dataframe thead th {\n",
       "        text-align: right;\n",
       "    }\n",
       "</style>\n",
       "<table border=\"1\" class=\"dataframe\">\n",
       "  <thead>\n",
       "    <tr style=\"text-align: right;\">\n",
       "      <th></th>\n",
       "      <th>day</th>\n",
       "      <th>activities</th>\n",
       "      <th>User_id</th>\n",
       "      <th>activity_level</th>\n",
       "      <th>activity_level count hours</th>\n",
       "    </tr>\n",
       "  </thead>\n",
       "  <tbody>\n",
       "    <tr>\n",
       "      <th>0</th>\n",
       "      <td>2020-02-01</td>\n",
       "      <td>Exercise</td>\n",
       "      <td>1</td>\n",
       "      <td>Run</td>\n",
       "      <td>1</td>\n",
       "    </tr>\n",
       "    <tr>\n",
       "      <th>1</th>\n",
       "      <td>2020-02-01</td>\n",
       "      <td>Exercise</td>\n",
       "      <td>2</td>\n",
       "      <td>Yoga</td>\n",
       "      <td>1</td>\n",
       "    </tr>\n",
       "    <tr>\n",
       "      <th>2</th>\n",
       "      <td>2020-02-01</td>\n",
       "      <td>Exercise</td>\n",
       "      <td>3</td>\n",
       "      <td>Dancing</td>\n",
       "      <td>2</td>\n",
       "    </tr>\n",
       "    <tr>\n",
       "      <th>3</th>\n",
       "      <td>2020-02-01</td>\n",
       "      <td>Exercise</td>\n",
       "      <td>4</td>\n",
       "      <td>Dancing</td>\n",
       "      <td>2</td>\n",
       "    </tr>\n",
       "    <tr>\n",
       "      <th>4</th>\n",
       "      <td>2020-02-01</td>\n",
       "      <td>Exercise</td>\n",
       "      <td>5</td>\n",
       "      <td>Pilates</td>\n",
       "      <td>1</td>\n",
       "    </tr>\n",
       "  </tbody>\n",
       "</table>\n",
       "</div>"
      ],
      "text/plain": [
       "          day activities  User_id activity_level  activity_level count hours\n",
       "0  2020-02-01   Exercise        1            Run                           1\n",
       "1  2020-02-01   Exercise        2           Yoga                           1\n",
       "2  2020-02-01   Exercise        3        Dancing                           2\n",
       "3  2020-02-01   Exercise        4        Dancing                           2\n",
       "4  2020-02-01   Exercise        5        Pilates                           1"
      ]
     },
     "execution_count": 12,
     "metadata": {},
     "output_type": "execute_result"
    }
   ],
   "source": [
    "user_experience.head()"
   ]
  },
  {
   "cell_type": "code",
   "execution_count": 13,
   "metadata": {},
   "outputs": [],
   "source": [
    "df_rec =user_experience.groupby([\"User_id\",\"activities\",\"activity_level\"]).agg([\"sum\"])"
   ]
  },
  {
   "cell_type": "code",
   "execution_count": 14,
   "metadata": {},
   "outputs": [],
   "source": [
    "df_rec = df_rec.reset_index()"
   ]
  },
  {
   "cell_type": "code",
   "execution_count": 15,
   "metadata": {},
   "outputs": [
    {
     "data": {
      "text/html": [
       "<div>\n",
       "<style scoped>\n",
       "    .dataframe tbody tr th:only-of-type {\n",
       "        vertical-align: middle;\n",
       "    }\n",
       "\n",
       "    .dataframe tbody tr th {\n",
       "        vertical-align: top;\n",
       "    }\n",
       "\n",
       "    .dataframe thead tr th {\n",
       "        text-align: left;\n",
       "    }\n",
       "</style>\n",
       "<table border=\"1\" class=\"dataframe\">\n",
       "  <thead>\n",
       "    <tr>\n",
       "      <th></th>\n",
       "      <th>User_id</th>\n",
       "      <th>activities</th>\n",
       "      <th>activity_level</th>\n",
       "      <th>activity_level count hours</th>\n",
       "    </tr>\n",
       "    <tr>\n",
       "      <th></th>\n",
       "      <th></th>\n",
       "      <th></th>\n",
       "      <th></th>\n",
       "      <th>sum</th>\n",
       "    </tr>\n",
       "  </thead>\n",
       "  <tbody>\n",
       "    <tr>\n",
       "      <th>0</th>\n",
       "      <td>1</td>\n",
       "      <td>Exercise</td>\n",
       "      <td>Go for a walk</td>\n",
       "      <td>3</td>\n",
       "    </tr>\n",
       "    <tr>\n",
       "      <th>1</th>\n",
       "      <td>1</td>\n",
       "      <td>Exercise</td>\n",
       "      <td>Jogging</td>\n",
       "      <td>7</td>\n",
       "    </tr>\n",
       "    <tr>\n",
       "      <th>2</th>\n",
       "      <td>1</td>\n",
       "      <td>Exercise</td>\n",
       "      <td>Jump</td>\n",
       "      <td>1</td>\n",
       "    </tr>\n",
       "    <tr>\n",
       "      <th>3</th>\n",
       "      <td>1</td>\n",
       "      <td>Exercise</td>\n",
       "      <td>Run</td>\n",
       "      <td>76</td>\n",
       "    </tr>\n",
       "    <tr>\n",
       "      <th>4</th>\n",
       "      <td>1</td>\n",
       "      <td>Exercise</td>\n",
       "      <td>Weight lift</td>\n",
       "      <td>7</td>\n",
       "    </tr>\n",
       "  </tbody>\n",
       "</table>\n",
       "</div>"
      ],
      "text/plain": [
       "  User_id activities activity_level activity_level count hours\n",
       "                                                           sum\n",
       "0       1   Exercise  Go for a walk                          3\n",
       "1       1   Exercise        Jogging                          7\n",
       "2       1   Exercise           Jump                          1\n",
       "3       1   Exercise            Run                         76\n",
       "4       1   Exercise    Weight lift                          7"
      ]
     },
     "execution_count": 15,
     "metadata": {},
     "output_type": "execute_result"
    }
   ],
   "source": [
    "df_rec.head()"
   ]
  },
  {
   "cell_type": "code",
   "execution_count": 16,
   "metadata": {},
   "outputs": [],
   "source": [
    "df_rec.columns = [\"User_id\", \"activities\", \"activity_level\", \"total hours\"]"
   ]
  },
  {
   "cell_type": "code",
   "execution_count": 17,
   "metadata": {},
   "outputs": [
    {
     "data": {
      "text/html": [
       "<div>\n",
       "<style scoped>\n",
       "    .dataframe tbody tr th:only-of-type {\n",
       "        vertical-align: middle;\n",
       "    }\n",
       "\n",
       "    .dataframe tbody tr th {\n",
       "        vertical-align: top;\n",
       "    }\n",
       "\n",
       "    .dataframe thead th {\n",
       "        text-align: right;\n",
       "    }\n",
       "</style>\n",
       "<table border=\"1\" class=\"dataframe\">\n",
       "  <thead>\n",
       "    <tr style=\"text-align: right;\">\n",
       "      <th></th>\n",
       "      <th>User_id</th>\n",
       "      <th>activities</th>\n",
       "      <th>activity_level</th>\n",
       "      <th>total hours</th>\n",
       "    </tr>\n",
       "  </thead>\n",
       "  <tbody>\n",
       "    <tr>\n",
       "      <th>0</th>\n",
       "      <td>1</td>\n",
       "      <td>Exercise</td>\n",
       "      <td>Go for a walk</td>\n",
       "      <td>3</td>\n",
       "    </tr>\n",
       "    <tr>\n",
       "      <th>1</th>\n",
       "      <td>1</td>\n",
       "      <td>Exercise</td>\n",
       "      <td>Jogging</td>\n",
       "      <td>7</td>\n",
       "    </tr>\n",
       "    <tr>\n",
       "      <th>2</th>\n",
       "      <td>1</td>\n",
       "      <td>Exercise</td>\n",
       "      <td>Jump</td>\n",
       "      <td>1</td>\n",
       "    </tr>\n",
       "    <tr>\n",
       "      <th>3</th>\n",
       "      <td>1</td>\n",
       "      <td>Exercise</td>\n",
       "      <td>Run</td>\n",
       "      <td>76</td>\n",
       "    </tr>\n",
       "    <tr>\n",
       "      <th>4</th>\n",
       "      <td>1</td>\n",
       "      <td>Exercise</td>\n",
       "      <td>Weight lift</td>\n",
       "      <td>7</td>\n",
       "    </tr>\n",
       "    <tr>\n",
       "      <th>...</th>\n",
       "      <td>...</td>\n",
       "      <td>...</td>\n",
       "      <td>...</td>\n",
       "      <td>...</td>\n",
       "    </tr>\n",
       "    <tr>\n",
       "      <th>26892</th>\n",
       "      <td>500</td>\n",
       "      <td>Personal activity</td>\n",
       "      <td>prepare lunch</td>\n",
       "      <td>12</td>\n",
       "    </tr>\n",
       "    <tr>\n",
       "      <th>26893</th>\n",
       "      <td>500</td>\n",
       "      <td>Work</td>\n",
       "      <td>Answering emails</td>\n",
       "      <td>150</td>\n",
       "    </tr>\n",
       "    <tr>\n",
       "      <th>26894</th>\n",
       "      <td>500</td>\n",
       "      <td>Work</td>\n",
       "      <td>Vitual/in-person Meeting</td>\n",
       "      <td>153</td>\n",
       "    </tr>\n",
       "    <tr>\n",
       "      <th>26895</th>\n",
       "      <td>500</td>\n",
       "      <td>Work</td>\n",
       "      <td>Work</td>\n",
       "      <td>476</td>\n",
       "    </tr>\n",
       "    <tr>\n",
       "      <th>26896</th>\n",
       "      <td>500</td>\n",
       "      <td>sleep</td>\n",
       "      <td>sleep</td>\n",
       "      <td>697</td>\n",
       "    </tr>\n",
       "  </tbody>\n",
       "</table>\n",
       "<p>26897 rows × 4 columns</p>\n",
       "</div>"
      ],
      "text/plain": [
       "       User_id         activities            activity_level  total hours\n",
       "0            1           Exercise             Go for a walk            3\n",
       "1            1           Exercise                   Jogging            7\n",
       "2            1           Exercise                      Jump            1\n",
       "3            1           Exercise                       Run           76\n",
       "4            1           Exercise               Weight lift            7\n",
       "...        ...                ...                       ...          ...\n",
       "26892      500  Personal activity             prepare lunch           12\n",
       "26893      500               Work          Answering emails          150\n",
       "26894      500               Work  Vitual/in-person Meeting          153\n",
       "26895      500               Work                      Work          476\n",
       "26896      500              sleep                     sleep          697\n",
       "\n",
       "[26897 rows x 4 columns]"
      ]
     },
     "execution_count": 17,
     "metadata": {},
     "output_type": "execute_result"
    }
   ],
   "source": [
    "df_rec"
   ]
  },
  {
   "cell_type": "code",
   "execution_count": 18,
   "metadata": {},
   "outputs": [],
   "source": [
    "from sklearn import preprocessing"
   ]
  },
  {
   "cell_type": "code",
   "execution_count": 19,
   "metadata": {},
   "outputs": [
    {
     "data": {
      "text/plain": [
       "(26897,)"
      ]
     },
     "execution_count": 19,
     "metadata": {},
     "output_type": "execute_result"
    }
   ],
   "source": [
    "activity = df_rec[\"activity_level\"]\n",
    "activity.shape"
   ]
  },
  {
   "cell_type": "code",
   "execution_count": 20,
   "metadata": {},
   "outputs": [],
   "source": [
    "le = preprocessing.LabelEncoder()\n",
    "le.fit(activity)\n",
    "\n",
    "result = le.transform(activity)"
   ]
  },
  {
   "cell_type": "code",
   "execution_count": 21,
   "metadata": {},
   "outputs": [],
   "source": [
    "data = pd.DataFrame({\"activity_level\" : activity, \"code\" : result})\n"
   ]
  },
  {
   "cell_type": "code",
   "execution_count": 22,
   "metadata": {},
   "outputs": [
    {
     "data": {
      "text/html": [
       "<div>\n",
       "<style scoped>\n",
       "    .dataframe tbody tr th:only-of-type {\n",
       "        vertical-align: middle;\n",
       "    }\n",
       "\n",
       "    .dataframe tbody tr th {\n",
       "        vertical-align: top;\n",
       "    }\n",
       "\n",
       "    .dataframe thead th {\n",
       "        text-align: right;\n",
       "    }\n",
       "</style>\n",
       "<table border=\"1\" class=\"dataframe\">\n",
       "  <thead>\n",
       "    <tr style=\"text-align: right;\">\n",
       "      <th></th>\n",
       "      <th>activity_level</th>\n",
       "      <th>code</th>\n",
       "    </tr>\n",
       "  </thead>\n",
       "  <tbody>\n",
       "    <tr>\n",
       "      <th>0</th>\n",
       "      <td>Go for a walk</td>\n",
       "      <td>10</td>\n",
       "    </tr>\n",
       "    <tr>\n",
       "      <th>1</th>\n",
       "      <td>Jogging</td>\n",
       "      <td>15</td>\n",
       "    </tr>\n",
       "    <tr>\n",
       "      <th>2</th>\n",
       "      <td>Jump</td>\n",
       "      <td>16</td>\n",
       "    </tr>\n",
       "    <tr>\n",
       "      <th>3</th>\n",
       "      <td>Run</td>\n",
       "      <td>29</td>\n",
       "    </tr>\n",
       "    <tr>\n",
       "      <th>4</th>\n",
       "      <td>Weight lift</td>\n",
       "      <td>44</td>\n",
       "    </tr>\n",
       "  </tbody>\n",
       "</table>\n",
       "</div>"
      ],
      "text/plain": [
       "  activity_level  code\n",
       "0  Go for a walk    10\n",
       "1        Jogging    15\n",
       "2           Jump    16\n",
       "3            Run    29\n",
       "4    Weight lift    44"
      ]
     },
     "execution_count": 22,
     "metadata": {},
     "output_type": "execute_result"
    }
   ],
   "source": [
    "data.head()"
   ]
  },
  {
   "cell_type": "code",
   "execution_count": 23,
   "metadata": {},
   "outputs": [
    {
     "data": {
      "text/plain": [
       "(26897, 2)"
      ]
     },
     "execution_count": 23,
     "metadata": {},
     "output_type": "execute_result"
    }
   ],
   "source": [
    "data.shape"
   ]
  },
  {
   "cell_type": "code",
   "execution_count": 24,
   "metadata": {},
   "outputs": [],
   "source": [
    "df_rec[\"act_encoded\"] = data[\"code\"]"
   ]
  },
  {
   "cell_type": "code",
   "execution_count": 25,
   "metadata": {},
   "outputs": [
    {
     "data": {
      "text/html": [
       "<div>\n",
       "<style scoped>\n",
       "    .dataframe tbody tr th:only-of-type {\n",
       "        vertical-align: middle;\n",
       "    }\n",
       "\n",
       "    .dataframe tbody tr th {\n",
       "        vertical-align: top;\n",
       "    }\n",
       "\n",
       "    .dataframe thead th {\n",
       "        text-align: right;\n",
       "    }\n",
       "</style>\n",
       "<table border=\"1\" class=\"dataframe\">\n",
       "  <thead>\n",
       "    <tr style=\"text-align: right;\">\n",
       "      <th></th>\n",
       "      <th>User_id</th>\n",
       "      <th>activities</th>\n",
       "      <th>activity_level</th>\n",
       "      <th>total hours</th>\n",
       "      <th>act_encoded</th>\n",
       "    </tr>\n",
       "  </thead>\n",
       "  <tbody>\n",
       "    <tr>\n",
       "      <th>0</th>\n",
       "      <td>1</td>\n",
       "      <td>Exercise</td>\n",
       "      <td>Go for a walk</td>\n",
       "      <td>3</td>\n",
       "      <td>10</td>\n",
       "    </tr>\n",
       "    <tr>\n",
       "      <th>1</th>\n",
       "      <td>1</td>\n",
       "      <td>Exercise</td>\n",
       "      <td>Jogging</td>\n",
       "      <td>7</td>\n",
       "      <td>15</td>\n",
       "    </tr>\n",
       "    <tr>\n",
       "      <th>2</th>\n",
       "      <td>1</td>\n",
       "      <td>Exercise</td>\n",
       "      <td>Jump</td>\n",
       "      <td>1</td>\n",
       "      <td>16</td>\n",
       "    </tr>\n",
       "    <tr>\n",
       "      <th>3</th>\n",
       "      <td>1</td>\n",
       "      <td>Exercise</td>\n",
       "      <td>Run</td>\n",
       "      <td>76</td>\n",
       "      <td>29</td>\n",
       "    </tr>\n",
       "    <tr>\n",
       "      <th>4</th>\n",
       "      <td>1</td>\n",
       "      <td>Exercise</td>\n",
       "      <td>Weight lift</td>\n",
       "      <td>7</td>\n",
       "      <td>44</td>\n",
       "    </tr>\n",
       "  </tbody>\n",
       "</table>\n",
       "</div>"
      ],
      "text/plain": [
       "   User_id activities activity_level  total hours  act_encoded\n",
       "0        1   Exercise  Go for a walk            3           10\n",
       "1        1   Exercise        Jogging            7           15\n",
       "2        1   Exercise           Jump            1           16\n",
       "3        1   Exercise            Run           76           29\n",
       "4        1   Exercise    Weight lift            7           44"
      ]
     },
     "execution_count": 25,
     "metadata": {},
     "output_type": "execute_result"
    }
   ],
   "source": [
    "df_rec.head()"
   ]
  },
  {
   "cell_type": "code",
   "execution_count": 26,
   "metadata": {},
   "outputs": [],
   "source": [
    "df_model = df_rec[[\"User_id\",\"act_encoded\", \"total hours\"]].copy()"
   ]
  },
  {
   "cell_type": "markdown",
   "metadata": {},
   "source": [
    "x = df_model.values #returns a numpy array\n",
    "min_max_scaler = preprocessing.MinMaxScaler()\n",
    "x_scaled = min_max_scaler.fit_transform(x)\n",
    "df_scaled = pd.DataFrame(x_scaled)\n",
    "df_scaled"
   ]
  },
  {
   "cell_type": "markdown",
   "metadata": {},
   "source": [
    "from sklearn.preprocessing import StandardScaler\n",
    "x = df_model.values\n",
    "scaler = StandardScaler()\n",
    "scaler.fit(x)\n",
    "scaled = scaler.transform(x)\n",
    "df_scaled = pd.DataFrame(scaled)\n",
    "df_scaled.max()"
   ]
  },
  {
   "cell_type": "code",
   "execution_count": 27,
   "metadata": {},
   "outputs": [],
   "source": [
    "#df_model[\"hours_scaled\"] = df_scaled[2]"
   ]
  },
  {
   "cell_type": "code",
   "execution_count": 28,
   "metadata": {},
   "outputs": [
    {
     "data": {
      "text/html": [
       "<div>\n",
       "<style scoped>\n",
       "    .dataframe tbody tr th:only-of-type {\n",
       "        vertical-align: middle;\n",
       "    }\n",
       "\n",
       "    .dataframe tbody tr th {\n",
       "        vertical-align: top;\n",
       "    }\n",
       "\n",
       "    .dataframe thead th {\n",
       "        text-align: right;\n",
       "    }\n",
       "</style>\n",
       "<table border=\"1\" class=\"dataframe\">\n",
       "  <thead>\n",
       "    <tr style=\"text-align: right;\">\n",
       "      <th></th>\n",
       "      <th>User_id</th>\n",
       "      <th>act_encoded</th>\n",
       "      <th>total hours</th>\n",
       "    </tr>\n",
       "  </thead>\n",
       "  <tbody>\n",
       "    <tr>\n",
       "      <th>0</th>\n",
       "      <td>1</td>\n",
       "      <td>10</td>\n",
       "      <td>3</td>\n",
       "    </tr>\n",
       "    <tr>\n",
       "      <th>1</th>\n",
       "      <td>1</td>\n",
       "      <td>15</td>\n",
       "      <td>7</td>\n",
       "    </tr>\n",
       "    <tr>\n",
       "      <th>2</th>\n",
       "      <td>1</td>\n",
       "      <td>16</td>\n",
       "      <td>1</td>\n",
       "    </tr>\n",
       "    <tr>\n",
       "      <th>3</th>\n",
       "      <td>1</td>\n",
       "      <td>29</td>\n",
       "      <td>76</td>\n",
       "    </tr>\n",
       "    <tr>\n",
       "      <th>4</th>\n",
       "      <td>1</td>\n",
       "      <td>44</td>\n",
       "      <td>7</td>\n",
       "    </tr>\n",
       "  </tbody>\n",
       "</table>\n",
       "</div>"
      ],
      "text/plain": [
       "   User_id  act_encoded  total hours\n",
       "0        1           10            3\n",
       "1        1           15            7\n",
       "2        1           16            1\n",
       "3        1           29           76\n",
       "4        1           44            7"
      ]
     },
     "execution_count": 28,
     "metadata": {},
     "output_type": "execute_result"
    }
   ],
   "source": [
    "df_model.head()"
   ]
  },
  {
   "cell_type": "code",
   "execution_count": 29,
   "metadata": {},
   "outputs": [],
   "source": [
    "#df_model.drop(\"total hours\", axis = 1, inplace = True)"
   ]
  },
  {
   "cell_type": "code",
   "execution_count": 30,
   "metadata": {},
   "outputs": [
    {
     "data": {
      "text/plain": [
       "(array([165.,   3.,   2.,   1.,   2.,   1.,   1.,   2.,   3.,   2.]),\n",
       " array([1.0000e+00, 2.5280e+02, 5.0460e+02, 7.5640e+02, 1.0082e+03,\n",
       "        1.2600e+03, 1.5118e+03, 1.7636e+03, 2.0154e+03, 2.2672e+03,\n",
       "        2.5190e+03]),\n",
       " <a list of 10 Patch objects>)"
      ]
     },
     "execution_count": 30,
     "metadata": {},
     "output_type": "execute_result"
    },
    {
     "data": {
      "image/png": "[encoded data removed]",
      "text/plain": [
       "<Figure size 432x288 with 1 Axes>"
      ]
     },
     "metadata": {
      "needs_background": "light"
     },
     "output_type": "display_data"
    }
   ],
   "source": [
    "plt.hist(df_model[\"total hours\"].value_counts())"
   ]
  },
  {
   "cell_type": "code",
   "execution_count": 31,
   "metadata": {},
   "outputs": [],
   "source": [
    "from sklearn.model_selection import train_test_split\n",
    "train, test = train_test_split(df_model, test_size=0.2, random_state=42)"
   ]
  },
  {
   "cell_type": "code",
   "execution_count": 32,
   "metadata": {},
   "outputs": [
    {
     "data": {
      "text/html": [
       "<div>\n",
       "<style scoped>\n",
       "    .dataframe tbody tr th:only-of-type {\n",
       "        vertical-align: middle;\n",
       "    }\n",
       "\n",
       "    .dataframe tbody tr th {\n",
       "        vertical-align: top;\n",
       "    }\n",
       "\n",
       "    .dataframe thead th {\n",
       "        text-align: right;\n",
       "    }\n",
       "</style>\n",
       "<table border=\"1\" class=\"dataframe\">\n",
       "  <thead>\n",
       "    <tr style=\"text-align: right;\">\n",
       "      <th></th>\n",
       "      <th>User_id</th>\n",
       "      <th>act_encoded</th>\n",
       "      <th>total hours</th>\n",
       "    </tr>\n",
       "  </thead>\n",
       "  <tbody>\n",
       "    <tr>\n",
       "      <th>2450</th>\n",
       "      <td>48</td>\n",
       "      <td>46</td>\n",
       "      <td>8</td>\n",
       "    </tr>\n",
       "    <tr>\n",
       "      <th>6108</th>\n",
       "      <td>116</td>\n",
       "      <td>2</td>\n",
       "      <td>8</td>\n",
       "    </tr>\n",
       "    <tr>\n",
       "      <th>26854</th>\n",
       "      <td>500</td>\n",
       "      <td>32</td>\n",
       "      <td>9</td>\n",
       "    </tr>\n",
       "    <tr>\n",
       "      <th>25328</th>\n",
       "      <td>471</td>\n",
       "      <td>37</td>\n",
       "      <td>161</td>\n",
       "    </tr>\n",
       "    <tr>\n",
       "      <th>25570</th>\n",
       "      <td>476</td>\n",
       "      <td>7</td>\n",
       "      <td>9</td>\n",
       "    </tr>\n",
       "  </tbody>\n",
       "</table>\n",
       "</div>"
      ],
      "text/plain": [
       "       User_id  act_encoded  total hours\n",
       "2450        48           46            8\n",
       "6108       116            2            8\n",
       "26854      500           32            9\n",
       "25328      471           37          161\n",
       "25570      476            7            9"
      ]
     },
     "execution_count": 32,
     "metadata": {},
     "output_type": "execute_result"
    }
   ],
   "source": [
    "train.head()"
   ]
  },
  {
   "cell_type": "code",
   "execution_count": 33,
   "metadata": {},
   "outputs": [],
   "source": [
    "from tensorflow.keras import regularizers\n",
    "from tensorflow.keras.regularizers import l2\n",
    "from tensorflow.keras import layers\n",
    "#from tensorflow.keras.layers import merge\n",
    "from tensorflow.keras.layers import Concatenate, Average, Multiply, Dot\n",
    "from tensorflow.keras.layers import dot\n",
    "from tensorflow.keras.models import Model\n",
    "from tensorflow.keras.layers import Dense, Dropout, BatchNormalization, Input, Embedding, Flatten, Dot, Dense, Concatenate\n"
   ]
  },
  {
   "cell_type": "code",
   "execution_count": 34,
   "metadata": {},
   "outputs": [],
   "source": [
    "def embedding_input(name,n_in,n_out,reg):\n",
    "    inp = Input(shape = (1,), dtype = \"int64\", name = name)\n",
    "    return inp, Embedding(n_in,n_out,input_length = 1)(inp)"
   ]
  },
  {
   "cell_type": "code",
   "execution_count": 35,
   "metadata": {},
   "outputs": [],
   "source": [
    "n_users = df_model.User_id.nunique() +1\n",
    "n_act = df_model.act_encoded.nunique() +1\n",
    "n_users,n_act\n",
    "n_factors = 150"
   ]
  },
  {
   "cell_type": "code",
   "execution_count": 36,
   "metadata": {},
   "outputs": [
    {
     "data": {
      "text/plain": [
       "501"
      ]
     },
     "execution_count": 36,
     "metadata": {},
     "output_type": "execute_result"
    }
   ],
   "source": [
    "n_users"
   ]
  },
  {
   "cell_type": "code",
   "execution_count": 37,
   "metadata": {},
   "outputs": [
    {
     "data": {
      "text/plain": [
       "<tf.Tensor 'embedding_1/embedding_lookup/Identity_1:0' shape=(?, 1, 150) dtype=float32>"
      ]
     },
     "execution_count": 37,
     "metadata": {},
     "output_type": "execute_result"
    }
   ],
   "source": [
    "user_in, u=embedding_input(\"user_in\", n_users,n_factors, 1e-4)\n",
    "act_in, m=embedding_input(\"act_in\",n_act,n_factors, 1e-4)\n",
    "m"
   ]
  },
  {
   "cell_type": "code",
   "execution_count": 38,
   "metadata": {},
   "outputs": [],
   "source": [
    "x = Dot(axes=1)([u,m])\n",
    "x = Flatten()(x)\n",
    "x = Dropout(0.3)(x)\n",
    "x = Dense(70, activation = \"relu\")(x)\n",
    "x = Dropout(0.3)(x)\n",
    "x = Dense(1)(x)\n",
    "nn = Model([user_in,act_in], x)\n",
    "nn.compile('adam', 'mean_squared_error')"
   ]
  },
  {
   "cell_type": "code",
   "execution_count": 39,
   "metadata": {},
   "outputs": [
    {
     "name": "stdout",
     "output_type": "stream",
     "text": [
      "__________________________________________________________________________________________________\n",
      "Layer (type)                    Output Shape         Param #     Connected to                     \n",
      "==================================================================================================\n",
      "user_in (InputLayer)            (None, 1)            0                                            \n",
      "__________________________________________________________________________________________________\n",
      "act_in (InputLayer)             (None, 1)            0                                            \n",
      "__________________________________________________________________________________________________\n",
      "embedding (Embedding)           (None, 1, 150)       75150       user_in[0][0]                    \n",
      "__________________________________________________________________________________________________\n",
      "embedding_1 (Embedding)         (None, 1, 150)       8250        act_in[0][0]                     \n",
      "__________________________________________________________________________________________________\n",
      "dot (Dot)                       (None, 150, 150)     0           embedding[0][0]                  \n",
      "                                                                 embedding_1[0][0]                \n",
      "__________________________________________________________________________________________________\n",
      "flatten (Flatten)               (None, 22500)        0           dot[0][0]                        \n",
      "__________________________________________________________________________________________________\n",
      "dropout (Dropout)               (None, 22500)        0           flatten[0][0]                    \n",
      "__________________________________________________________________________________________________\n",
      "dense (Dense)                   (None, 70)           1575070     dropout[0][0]                    \n",
      "__________________________________________________________________________________________________\n",
      "dropout_1 (Dropout)             (None, 70)           0           dense[0][0]                      \n",
      "__________________________________________________________________________________________________\n",
      "dense_1 (Dense)                 (None, 1)            71          dropout_1[0][0]                  \n",
      "==================================================================================================\n",
      "Total params: 1,658,541\n",
      "Trainable params: 1,658,541\n",
      "Non-trainable params: 0\n",
      "__________________________________________________________________________________________________\n"
     ]
    }
   ],
   "source": [
    "nn.summary()"
   ]
  },
  {
   "cell_type": "code",
   "execution_count": 40,
   "metadata": {},
   "outputs": [
    {
     "name": "stderr",
     "output_type": "stream",
     "text": [
      "C:\\Users\\gisel\\Anaconda3\\envs\\deeplearning\\lib\\site-packages\\tensorflow\\python\\ops\\gradients_impl.py:100: UserWarning: Converting sparse IndexedSlices to a dense Tensor of unknown shape. This may consume a large amount of memory.\n",
      "  \"Converting sparse IndexedSlices to a dense Tensor of unknown shape. \"\n"
     ]
    }
   ],
   "source": [
    "from tensorflow.keras.models import load_model\n",
    "\n",
    "if os.path.exists('rec_model4.h5'):\n",
    "    nn= load_model('rec_model4.h5')\n",
    "else:\n",
    "    history = nn.fit([train.User_id, train.act_encoded], train[\"total hours\"], epochs=7, verbose=1)\n",
    "    nn.save('rec_model4.h5')\n",
    "    plt.plot(history.history['loss'])\n",
    "    plt.xlabel(\"Epochs\")\n",
    "    plt.ylabel(\"Training Error\")"
   ]
  },
  {
   "cell_type": "code",
   "execution_count": 41,
   "metadata": {},
   "outputs": [
    {
     "name": "stdout",
     "output_type": "stream",
     "text": [
      "5380/5380 [==============================] - 1s 214us/step\n"
     ]
    },
    {
     "data": {
      "text/plain": [
       "73.26048836335816"
      ]
     },
     "execution_count": 41,
     "metadata": {},
     "output_type": "execute_result"
    }
   ],
   "source": [
    "nn.evaluate([test.User_id, test.act_encoded], test[\"total hours\"])"
   ]
  },
  {
   "cell_type": "code",
   "execution_count": 42,
   "metadata": {},
   "outputs": [],
   "source": [
    "predictions = nn.predict([test.User_id, test.act_encoded])"
   ]
  },
  {
   "cell_type": "code",
   "execution_count": 43,
   "metadata": {},
   "outputs": [
    {
     "data": {
      "text/plain": [
       "array([[11.769831],\n",
       "       [11.767425],\n",
       "       [14.477127],\n",
       "       ...,\n",
       "       [15.985168],\n",
       "       [ 8.115228],\n",
       "       [11.325401]], dtype=float32)"
      ]
     },
     "execution_count": 43,
     "metadata": {},
     "output_type": "execute_result"
    }
   ],
   "source": [
    "predictions"
   ]
  },
  {
   "cell_type": "code",
   "execution_count": 44,
   "metadata": {},
   "outputs": [
    {
     "data": {
      "image/png": "[encoded data removed]",
      "text/plain": [
       "<Figure size 432x288 with 1 Axes>"
      ]
     },
     "metadata": {
      "needs_background": "light"
     },
     "output_type": "display_data"
    }
   ],
   "source": [
    "import seaborn as sns\n",
    "plt.figure()\n",
    "\n",
    "\n",
    "ax1 = sns.distplot(test[\"total hours\"], hist=False, color=\"r\", label=\"Actual Value\")\n",
    "sns.distplot(predictions, hist=False, color=\"b\", label=\"Fitted Values\" , ax=ax1)\n",
    "\n",
    "\n",
    "plt.title('Actual vs Fitted Values')\n",
    "plt.xlabel('Hours')\n",
    "plt.ylabel('Proportion of Hours')\n",
    "\n",
    "plt.show()\n",
    "plt.close()"
   ]
  },
  {
   "cell_type": "code",
   "execution_count": 45,
   "metadata": {},
   "outputs": [
    {
     "name": "stderr",
     "output_type": "stream",
     "text": [
      "C:\\Users\\gisel\\Anaconda3\\envs\\deeplearning\\lib\\site-packages\\ipykernel_launcher.py:1: SettingWithCopyWarning: \n",
      "A value is trying to be set on a copy of a slice from a DataFrame.\n",
      "Try using .loc[row_indexer,col_indexer] = value instead\n",
      "\n",
      "See the caveats in the documentation: https://pandas.pydata.org/pandas-docs/stable/user_guide/indexing.html#returning-a-view-versus-a-copy\n",
      "  \"\"\"Entry point for launching an IPython kernel.\n"
     ]
    },
    {
     "data": {
      "text/html": [
       "<div>\n",
       "<style scoped>\n",
       "    .dataframe tbody tr th:only-of-type {\n",
       "        vertical-align: middle;\n",
       "    }\n",
       "\n",
       "    .dataframe tbody tr th {\n",
       "        vertical-align: top;\n",
       "    }\n",
       "\n",
       "    .dataframe thead th {\n",
       "        text-align: right;\n",
       "    }\n",
       "</style>\n",
       "<table border=\"1\" class=\"dataframe\">\n",
       "  <thead>\n",
       "    <tr style=\"text-align: right;\">\n",
       "      <th></th>\n",
       "      <th>User_id</th>\n",
       "      <th>act_encoded</th>\n",
       "      <th>total hours</th>\n",
       "      <th>predictions</th>\n",
       "    </tr>\n",
       "  </thead>\n",
       "  <tbody>\n",
       "    <tr>\n",
       "      <th>23760</th>\n",
       "      <td>442</td>\n",
       "      <td>52</td>\n",
       "      <td>19</td>\n",
       "      <td>11.769831</td>\n",
       "    </tr>\n",
       "    <tr>\n",
       "      <th>26555</th>\n",
       "      <td>494</td>\n",
       "      <td>28</td>\n",
       "      <td>11</td>\n",
       "      <td>11.767425</td>\n",
       "    </tr>\n",
       "    <tr>\n",
       "      <th>7708</th>\n",
       "      <td>145</td>\n",
       "      <td>27</td>\n",
       "      <td>6</td>\n",
       "      <td>14.477127</td>\n",
       "    </tr>\n",
       "    <tr>\n",
       "      <th>20983</th>\n",
       "      <td>391</td>\n",
       "      <td>12</td>\n",
       "      <td>12</td>\n",
       "      <td>12.171482</td>\n",
       "    </tr>\n",
       "    <tr>\n",
       "      <th>23975</th>\n",
       "      <td>446</td>\n",
       "      <td>51</td>\n",
       "      <td>11</td>\n",
       "      <td>13.348793</td>\n",
       "    </tr>\n",
       "    <tr>\n",
       "      <th>17577</th>\n",
       "      <td>328</td>\n",
       "      <td>43</td>\n",
       "      <td>14</td>\n",
       "      <td>13.088409</td>\n",
       "    </tr>\n",
       "    <tr>\n",
       "      <th>14214</th>\n",
       "      <td>266</td>\n",
       "      <td>21</td>\n",
       "      <td>12</td>\n",
       "      <td>8.578506</td>\n",
       "    </tr>\n",
       "    <tr>\n",
       "      <th>21163</th>\n",
       "      <td>394</td>\n",
       "      <td>47</td>\n",
       "      <td>13</td>\n",
       "      <td>11.912300</td>\n",
       "    </tr>\n",
       "    <tr>\n",
       "      <th>99</th>\n",
       "      <td>3</td>\n",
       "      <td>9</td>\n",
       "      <td>7</td>\n",
       "      <td>13.425543</td>\n",
       "    </tr>\n",
       "    <tr>\n",
       "      <th>2501</th>\n",
       "      <td>49</td>\n",
       "      <td>30</td>\n",
       "      <td>9</td>\n",
       "      <td>7.276319</td>\n",
       "    </tr>\n",
       "    <tr>\n",
       "      <th>23526</th>\n",
       "      <td>438</td>\n",
       "      <td>20</td>\n",
       "      <td>3</td>\n",
       "      <td>12.093330</td>\n",
       "    </tr>\n",
       "    <tr>\n",
       "      <th>24483</th>\n",
       "      <td>456</td>\n",
       "      <td>6</td>\n",
       "      <td>22</td>\n",
       "      <td>13.378237</td>\n",
       "    </tr>\n",
       "    <tr>\n",
       "      <th>20183</th>\n",
       "      <td>376</td>\n",
       "      <td>28</td>\n",
       "      <td>14</td>\n",
       "      <td>12.418408</td>\n",
       "    </tr>\n",
       "    <tr>\n",
       "      <th>24610</th>\n",
       "      <td>458</td>\n",
       "      <td>27</td>\n",
       "      <td>10</td>\n",
       "      <td>13.143666</td>\n",
       "    </tr>\n",
       "    <tr>\n",
       "      <th>2141</th>\n",
       "      <td>42</td>\n",
       "      <td>17</td>\n",
       "      <td>16</td>\n",
       "      <td>11.880462</td>\n",
       "    </tr>\n",
       "    <tr>\n",
       "      <th>8425</th>\n",
       "      <td>158</td>\n",
       "      <td>0</td>\n",
       "      <td>139</td>\n",
       "      <td>158.576157</td>\n",
       "    </tr>\n",
       "    <tr>\n",
       "      <th>7691</th>\n",
       "      <td>145</td>\n",
       "      <td>22</td>\n",
       "      <td>13</td>\n",
       "      <td>17.221901</td>\n",
       "    </tr>\n",
       "    <tr>\n",
       "      <th>12864</th>\n",
       "      <td>241</td>\n",
       "      <td>21</td>\n",
       "      <td>6</td>\n",
       "      <td>9.177039</td>\n",
       "    </tr>\n",
       "    <tr>\n",
       "      <th>25227</th>\n",
       "      <td>470</td>\n",
       "      <td>14</td>\n",
       "      <td>4</td>\n",
       "      <td>8.500796</td>\n",
       "    </tr>\n",
       "    <tr>\n",
       "      <th>2813</th>\n",
       "      <td>54</td>\n",
       "      <td>45</td>\n",
       "      <td>480</td>\n",
       "      <td>442.106445</td>\n",
       "    </tr>\n",
       "    <tr>\n",
       "      <th>22196</th>\n",
       "      <td>413</td>\n",
       "      <td>37</td>\n",
       "      <td>151</td>\n",
       "      <td>156.508942</td>\n",
       "    </tr>\n",
       "    <tr>\n",
       "      <th>21294</th>\n",
       "      <td>397</td>\n",
       "      <td>46</td>\n",
       "      <td>3</td>\n",
       "      <td>9.735798</td>\n",
       "    </tr>\n",
       "    <tr>\n",
       "      <th>18200</th>\n",
       "      <td>339</td>\n",
       "      <td>37</td>\n",
       "      <td>157</td>\n",
       "      <td>175.901352</td>\n",
       "    </tr>\n",
       "    <tr>\n",
       "      <th>25631</th>\n",
       "      <td>477</td>\n",
       "      <td>19</td>\n",
       "      <td>13</td>\n",
       "      <td>13.063052</td>\n",
       "    </tr>\n",
       "    <tr>\n",
       "      <th>22769</th>\n",
       "      <td>424</td>\n",
       "      <td>19</td>\n",
       "      <td>11</td>\n",
       "      <td>13.344888</td>\n",
       "    </tr>\n",
       "    <tr>\n",
       "      <th>5864</th>\n",
       "      <td>111</td>\n",
       "      <td>13</td>\n",
       "      <td>12</td>\n",
       "      <td>11.799815</td>\n",
       "    </tr>\n",
       "    <tr>\n",
       "      <th>20498</th>\n",
       "      <td>382</td>\n",
       "      <td>13</td>\n",
       "      <td>11</td>\n",
       "      <td>11.317350</td>\n",
       "    </tr>\n",
       "    <tr>\n",
       "      <th>7107</th>\n",
       "      <td>134</td>\n",
       "      <td>17</td>\n",
       "      <td>11</td>\n",
       "      <td>11.719708</td>\n",
       "    </tr>\n",
       "    <tr>\n",
       "      <th>1103</th>\n",
       "      <td>23</td>\n",
       "      <td>6</td>\n",
       "      <td>20</td>\n",
       "      <td>13.653372</td>\n",
       "    </tr>\n",
       "    <tr>\n",
       "      <th>18883</th>\n",
       "      <td>352</td>\n",
       "      <td>23</td>\n",
       "      <td>11</td>\n",
       "      <td>11.888293</td>\n",
       "    </tr>\n",
       "  </tbody>\n",
       "</table>\n",
       "</div>"
      ],
      "text/plain": [
       "       User_id  act_encoded  total hours  predictions\n",
       "23760      442           52           19    11.769831\n",
       "26555      494           28           11    11.767425\n",
       "7708       145           27            6    14.477127\n",
       "20983      391           12           12    12.171482\n",
       "23975      446           51           11    13.348793\n",
       "17577      328           43           14    13.088409\n",
       "14214      266           21           12     8.578506\n",
       "21163      394           47           13    11.912300\n",
       "99           3            9            7    13.425543\n",
       "2501        49           30            9     7.276319\n",
       "23526      438           20            3    12.093330\n",
       "24483      456            6           22    13.378237\n",
       "20183      376           28           14    12.418408\n",
       "24610      458           27           10    13.143666\n",
       "2141        42           17           16    11.880462\n",
       "8425       158            0          139   158.576157\n",
       "7691       145           22           13    17.221901\n",
       "12864      241           21            6     9.177039\n",
       "25227      470           14            4     8.500796\n",
       "2813        54           45          480   442.106445\n",
       "22196      413           37          151   156.508942\n",
       "21294      397           46            3     9.735798\n",
       "18200      339           37          157   175.901352\n",
       "25631      477           19           13    13.063052\n",
       "22769      424           19           11    13.344888\n",
       "5864       111           13           12    11.799815\n",
       "20498      382           13           11    11.317350\n",
       "7107       134           17           11    11.719708\n",
       "1103        23            6           20    13.653372\n",
       "18883      352           23           11    11.888293"
      ]
     },
     "execution_count": 45,
     "metadata": {},
     "output_type": "execute_result"
    }
   ],
   "source": [
    "test[\"predictions\"] = predictions\n",
    "test.head(30)"
   ]
  },
  {
   "cell_type": "code",
   "execution_count": 46,
   "metadata": {},
   "outputs": [
    {
     "data": {
      "text/plain": [
       "array([[ 0.36411008, -0.0307833 ,  0.4173095 , ...,  0.14391533,\n",
       "         0.7041945 ,  0.25456113],\n",
       "       [ 0.28155875,  0.26518995,  0.4055286 , ...,  0.77471226,\n",
       "        -0.05128094, -0.03263947],\n",
       "       [ 0.7361061 ,  0.53488934,  0.7847555 , ...,  0.3398362 ,\n",
       "         0.35277206,  0.12068364],\n",
       "       ...,\n",
       "       [ 0.23209003,  0.22004646,  0.23529848, ..., -0.10516872,\n",
       "         0.28366193,  0.34738764],\n",
       "       [ 0.8274757 ,  0.29661232,  0.79437137, ...,  0.9563363 ,\n",
       "         0.8165867 ,  0.8241336 ],\n",
       "       [ 0.37350595,  0.2312423 ,  0.75355136, ...,  0.49557614,\n",
       "         0.3018484 ,  0.01699317]], dtype=float32)"
      ]
     },
     "execution_count": 46,
     "metadata": {},
     "output_type": "execute_result"
    }
   ],
   "source": [
    "# Extract embeddings\n",
    "\n",
    "act_em = nn.get_layer('embedding_1')\n",
    "act_em_weights = act_em.get_weights()[0]\n",
    "\n",
    "\n",
    "\n",
    "act_em_weights.shape\n",
    "act_em_weights"
   ]
  },
  {
   "cell_type": "code",
   "execution_count": 47,
   "metadata": {},
   "outputs": [
    {
     "data": {
      "text/plain": [
       "1.0000001"
      ]
     },
     "execution_count": 47,
     "metadata": {},
     "output_type": "execute_result"
    }
   ],
   "source": [
    "act_em_weights = act_em_weights / np.linalg.norm(act_em_weights, axis = 1).reshape((-1, 1))\n",
    "act_em_weights[0][:10]\n",
    "np.sum(np.square(act_em_weights[50]))"
   ]
  },
  {
   "cell_type": "code",
   "execution_count": 48,
   "metadata": {},
   "outputs": [
    {
     "data": {
      "text/plain": [
       "54"
      ]
     },
     "execution_count": 48,
     "metadata": {},
     "output_type": "execute_result"
    }
   ],
   "source": [
    "act_id_em = df_model[\"act_encoded\"].unique()\n",
    "len(act_id_em)\n"
   ]
  },
  {
   "cell_type": "code",
   "execution_count": 49,
   "metadata": {},
   "outputs": [],
   "source": [
    "activity_df = pd.DataFrame(act_em_weights)\n",
    "\n",
    "activity_df = activity_df.drop(54)"
   ]
  },
  {
   "cell_type": "code",
   "execution_count": 50,
   "metadata": {},
   "outputs": [
    {
     "data": {
      "text/html": [
       "<div>\n",
       "<style scoped>\n",
       "    .dataframe tbody tr th:only-of-type {\n",
       "        vertical-align: middle;\n",
       "    }\n",
       "\n",
       "    .dataframe tbody tr th {\n",
       "        vertical-align: top;\n",
       "    }\n",
       "\n",
       "    .dataframe thead th {\n",
       "        text-align: right;\n",
       "    }\n",
       "</style>\n",
       "<table border=\"1\" class=\"dataframe\">\n",
       "  <thead>\n",
       "    <tr style=\"text-align: right;\">\n",
       "      <th></th>\n",
       "      <th>0</th>\n",
       "      <th>1</th>\n",
       "      <th>2</th>\n",
       "      <th>3</th>\n",
       "      <th>4</th>\n",
       "      <th>5</th>\n",
       "      <th>6</th>\n",
       "      <th>7</th>\n",
       "      <th>8</th>\n",
       "      <th>9</th>\n",
       "      <th>...</th>\n",
       "      <th>141</th>\n",
       "      <th>142</th>\n",
       "      <th>143</th>\n",
       "      <th>144</th>\n",
       "      <th>145</th>\n",
       "      <th>146</th>\n",
       "      <th>147</th>\n",
       "      <th>148</th>\n",
       "      <th>149</th>\n",
       "      <th>act_id</th>\n",
       "    </tr>\n",
       "  </thead>\n",
       "  <tbody>\n",
       "    <tr>\n",
       "      <th>0</th>\n",
       "      <td>0.057178</td>\n",
       "      <td>-0.004834</td>\n",
       "      <td>0.065532</td>\n",
       "      <td>0.115973</td>\n",
       "      <td>0.145327</td>\n",
       "      <td>0.043171</td>\n",
       "      <td>0.085932</td>\n",
       "      <td>0.080348</td>\n",
       "      <td>0.004415</td>\n",
       "      <td>0.008227</td>\n",
       "      <td>...</td>\n",
       "      <td>0.010541</td>\n",
       "      <td>0.048418</td>\n",
       "      <td>0.089544</td>\n",
       "      <td>0.126173</td>\n",
       "      <td>0.105729</td>\n",
       "      <td>0.129507</td>\n",
       "      <td>0.022600</td>\n",
       "      <td>0.110582</td>\n",
       "      <td>0.039975</td>\n",
       "      <td>10</td>\n",
       "    </tr>\n",
       "    <tr>\n",
       "      <th>1</th>\n",
       "      <td>0.042986</td>\n",
       "      <td>0.040487</td>\n",
       "      <td>0.061912</td>\n",
       "      <td>0.044404</td>\n",
       "      <td>-0.001265</td>\n",
       "      <td>0.046350</td>\n",
       "      <td>0.043862</td>\n",
       "      <td>0.117278</td>\n",
       "      <td>0.145681</td>\n",
       "      <td>-0.010669</td>\n",
       "      <td>...</td>\n",
       "      <td>0.065419</td>\n",
       "      <td>0.106435</td>\n",
       "      <td>0.046652</td>\n",
       "      <td>0.129967</td>\n",
       "      <td>0.024858</td>\n",
       "      <td>0.052769</td>\n",
       "      <td>0.118276</td>\n",
       "      <td>-0.007829</td>\n",
       "      <td>-0.004983</td>\n",
       "      <td>15</td>\n",
       "    </tr>\n",
       "    <tr>\n",
       "      <th>2</th>\n",
       "      <td>0.106262</td>\n",
       "      <td>0.077215</td>\n",
       "      <td>0.113285</td>\n",
       "      <td>0.064579</td>\n",
       "      <td>0.053443</td>\n",
       "      <td>-0.000413</td>\n",
       "      <td>0.110950</td>\n",
       "      <td>0.030789</td>\n",
       "      <td>0.120542</td>\n",
       "      <td>0.019987</td>\n",
       "      <td>...</td>\n",
       "      <td>0.115856</td>\n",
       "      <td>0.082025</td>\n",
       "      <td>-0.017247</td>\n",
       "      <td>0.059384</td>\n",
       "      <td>0.047351</td>\n",
       "      <td>-0.018801</td>\n",
       "      <td>0.049058</td>\n",
       "      <td>0.050925</td>\n",
       "      <td>0.017421</td>\n",
       "      <td>16</td>\n",
       "    </tr>\n",
       "    <tr>\n",
       "      <th>3</th>\n",
       "      <td>0.016591</td>\n",
       "      <td>0.124861</td>\n",
       "      <td>0.060464</td>\n",
       "      <td>0.085673</td>\n",
       "      <td>0.104671</td>\n",
       "      <td>-0.011084</td>\n",
       "      <td>0.060904</td>\n",
       "      <td>0.036836</td>\n",
       "      <td>0.145602</td>\n",
       "      <td>0.083930</td>\n",
       "      <td>...</td>\n",
       "      <td>0.106193</td>\n",
       "      <td>0.063665</td>\n",
       "      <td>0.072830</td>\n",
       "      <td>0.127746</td>\n",
       "      <td>0.115572</td>\n",
       "      <td>0.048306</td>\n",
       "      <td>0.045210</td>\n",
       "      <td>-0.010216</td>\n",
       "      <td>0.051758</td>\n",
       "      <td>29</td>\n",
       "    </tr>\n",
       "    <tr>\n",
       "      <th>4</th>\n",
       "      <td>0.012991</td>\n",
       "      <td>0.070816</td>\n",
       "      <td>0.027944</td>\n",
       "      <td>0.045310</td>\n",
       "      <td>0.043114</td>\n",
       "      <td>0.128013</td>\n",
       "      <td>0.092492</td>\n",
       "      <td>0.120707</td>\n",
       "      <td>0.058636</td>\n",
       "      <td>0.117498</td>\n",
       "      <td>...</td>\n",
       "      <td>0.103588</td>\n",
       "      <td>0.106314</td>\n",
       "      <td>0.097507</td>\n",
       "      <td>0.051102</td>\n",
       "      <td>0.077914</td>\n",
       "      <td>-0.011863</td>\n",
       "      <td>0.012749</td>\n",
       "      <td>0.096785</td>\n",
       "      <td>0.087283</td>\n",
       "      <td>44</td>\n",
       "    </tr>\n",
       "  </tbody>\n",
       "</table>\n",
       "<p>5 rows × 151 columns</p>\n",
       "</div>"
      ],
      "text/plain": [
       "          0         1         2         3         4         5         6  \\\n",
       "0  0.057178 -0.004834  0.065532  0.115973  0.145327  0.043171  0.085932   \n",
       "1  0.042986  0.040487  0.061912  0.044404 -0.001265  0.046350  0.043862   \n",
       "2  0.106262  0.077215  0.113285  0.064579  0.053443 -0.000413  0.110950   \n",
       "3  0.016591  0.124861  0.060464  0.085673  0.104671 -0.011084  0.060904   \n",
       "4  0.012991  0.070816  0.027944  0.045310  0.043114  0.128013  0.092492   \n",
       "\n",
       "          7         8         9  ...       141       142       143       144  \\\n",
       "0  0.080348  0.004415  0.008227  ...  0.010541  0.048418  0.089544  0.126173   \n",
       "1  0.117278  0.145681 -0.010669  ...  0.065419  0.106435  0.046652  0.129967   \n",
       "2  0.030789  0.120542  0.019987  ...  0.115856  0.082025 -0.017247  0.059384   \n",
       "3  0.036836  0.145602  0.083930  ...  0.106193  0.063665  0.072830  0.127746   \n",
       "4  0.120707  0.058636  0.117498  ...  0.103588  0.106314  0.097507  0.051102   \n",
       "\n",
       "        145       146       147       148       149  act_id  \n",
       "0  0.105729  0.129507  0.022600  0.110582  0.039975      10  \n",
       "1  0.024858  0.052769  0.118276 -0.007829 -0.004983      15  \n",
       "2  0.047351 -0.018801  0.049058  0.050925  0.017421      16  \n",
       "3  0.115572  0.048306  0.045210 -0.010216  0.051758      29  \n",
       "4  0.077914 -0.011863  0.012749  0.096785  0.087283      44  \n",
       "\n",
       "[5 rows x 151 columns]"
      ]
     },
     "execution_count": 50,
     "metadata": {},
     "output_type": "execute_result"
    }
   ],
   "source": [
    "activity_df[\"act_id\"] = act_id_em\n",
    "\n",
    "#activity_df = activity_df.set_index(\"act_id\")\n",
    "activity_df.head()"
   ]
  },
  {
   "cell_type": "code",
   "execution_count": 51,
   "metadata": {},
   "outputs": [
    {
     "data": {
      "text/html": [
       "<div>\n",
       "<style scoped>\n",
       "    .dataframe tbody tr th:only-of-type {\n",
       "        vertical-align: middle;\n",
       "    }\n",
       "\n",
       "    .dataframe tbody tr th {\n",
       "        vertical-align: top;\n",
       "    }\n",
       "\n",
       "    .dataframe thead th {\n",
       "        text-align: right;\n",
       "    }\n",
       "</style>\n",
       "<table border=\"1\" class=\"dataframe\">\n",
       "  <thead>\n",
       "    <tr style=\"text-align: right;\">\n",
       "      <th></th>\n",
       "      <th>User_id</th>\n",
       "      <th>activities</th>\n",
       "      <th>activity_level</th>\n",
       "      <th>total hours</th>\n",
       "      <th>act_encoded</th>\n",
       "    </tr>\n",
       "  </thead>\n",
       "  <tbody>\n",
       "    <tr>\n",
       "      <th>0</th>\n",
       "      <td>1</td>\n",
       "      <td>Exercise</td>\n",
       "      <td>Go for a walk</td>\n",
       "      <td>3</td>\n",
       "      <td>10</td>\n",
       "    </tr>\n",
       "    <tr>\n",
       "      <th>1</th>\n",
       "      <td>1</td>\n",
       "      <td>Exercise</td>\n",
       "      <td>Jogging</td>\n",
       "      <td>7</td>\n",
       "      <td>15</td>\n",
       "    </tr>\n",
       "    <tr>\n",
       "      <th>2</th>\n",
       "      <td>1</td>\n",
       "      <td>Exercise</td>\n",
       "      <td>Jump</td>\n",
       "      <td>1</td>\n",
       "      <td>16</td>\n",
       "    </tr>\n",
       "    <tr>\n",
       "      <th>3</th>\n",
       "      <td>1</td>\n",
       "      <td>Exercise</td>\n",
       "      <td>Run</td>\n",
       "      <td>76</td>\n",
       "      <td>29</td>\n",
       "    </tr>\n",
       "    <tr>\n",
       "      <th>4</th>\n",
       "      <td>1</td>\n",
       "      <td>Exercise</td>\n",
       "      <td>Weight lift</td>\n",
       "      <td>7</td>\n",
       "      <td>44</td>\n",
       "    </tr>\n",
       "  </tbody>\n",
       "</table>\n",
       "</div>"
      ],
      "text/plain": [
       "   User_id activities activity_level  total hours  act_encoded\n",
       "0        1   Exercise  Go for a walk            3           10\n",
       "1        1   Exercise        Jogging            7           15\n",
       "2        1   Exercise           Jump            1           16\n",
       "3        1   Exercise            Run           76           29\n",
       "4        1   Exercise    Weight lift            7           44"
      ]
     },
     "execution_count": 51,
     "metadata": {},
     "output_type": "execute_result"
    }
   ],
   "source": [
    "df_rec.head()"
   ]
  },
  {
   "cell_type": "code",
   "execution_count": 53,
   "metadata": {},
   "outputs": [],
   "source": [
    "act_names = df_rec[[\"act_encoded\", \"activity_level\"]].copy()"
   ]
  },
  {
   "cell_type": "code",
   "execution_count": 54,
   "metadata": {},
   "outputs": [],
   "source": [
    "act_names = act_names.drop_duplicates()"
   ]
  },
  {
   "cell_type": "code",
   "execution_count": 55,
   "metadata": {},
   "outputs": [],
   "source": [
    "act_names.columns = [\"act_id\", \"activity_level\"]"
   ]
  },
  {
   "cell_type": "code",
   "execution_count": 56,
   "metadata": {},
   "outputs": [],
   "source": [
    "act_df = pd.merge(activity_df, act_names, how = \"left\")"
   ]
  },
  {
   "cell_type": "code",
   "execution_count": 57,
   "metadata": {},
   "outputs": [
    {
     "data": {
      "text/html": [
       "<div>\n",
       "<style scoped>\n",
       "    .dataframe tbody tr th:only-of-type {\n",
       "        vertical-align: middle;\n",
       "    }\n",
       "\n",
       "    .dataframe tbody tr th {\n",
       "        vertical-align: top;\n",
       "    }\n",
       "\n",
       "    .dataframe thead th {\n",
       "        text-align: right;\n",
       "    }\n",
       "</style>\n",
       "<table border=\"1\" class=\"dataframe\">\n",
       "  <thead>\n",
       "    <tr style=\"text-align: right;\">\n",
       "      <th></th>\n",
       "      <th>0</th>\n",
       "      <th>1</th>\n",
       "      <th>2</th>\n",
       "      <th>3</th>\n",
       "      <th>4</th>\n",
       "      <th>5</th>\n",
       "      <th>6</th>\n",
       "      <th>7</th>\n",
       "      <th>8</th>\n",
       "      <th>9</th>\n",
       "      <th>...</th>\n",
       "      <th>142</th>\n",
       "      <th>143</th>\n",
       "      <th>144</th>\n",
       "      <th>145</th>\n",
       "      <th>146</th>\n",
       "      <th>147</th>\n",
       "      <th>148</th>\n",
       "      <th>149</th>\n",
       "      <th>act_id</th>\n",
       "      <th>activity_level</th>\n",
       "    </tr>\n",
       "  </thead>\n",
       "  <tbody>\n",
       "    <tr>\n",
       "      <th>0</th>\n",
       "      <td>0.057178</td>\n",
       "      <td>-0.004834</td>\n",
       "      <td>0.065532</td>\n",
       "      <td>0.115973</td>\n",
       "      <td>0.145327</td>\n",
       "      <td>0.043171</td>\n",
       "      <td>0.085932</td>\n",
       "      <td>0.080348</td>\n",
       "      <td>0.004415</td>\n",
       "      <td>0.008227</td>\n",
       "      <td>...</td>\n",
       "      <td>0.048418</td>\n",
       "      <td>0.089544</td>\n",
       "      <td>0.126173</td>\n",
       "      <td>0.105729</td>\n",
       "      <td>0.129507</td>\n",
       "      <td>0.022600</td>\n",
       "      <td>0.110582</td>\n",
       "      <td>0.039975</td>\n",
       "      <td>10</td>\n",
       "      <td>Go for a walk</td>\n",
       "    </tr>\n",
       "    <tr>\n",
       "      <th>1</th>\n",
       "      <td>0.042986</td>\n",
       "      <td>0.040487</td>\n",
       "      <td>0.061912</td>\n",
       "      <td>0.044404</td>\n",
       "      <td>-0.001265</td>\n",
       "      <td>0.046350</td>\n",
       "      <td>0.043862</td>\n",
       "      <td>0.117278</td>\n",
       "      <td>0.145681</td>\n",
       "      <td>-0.010669</td>\n",
       "      <td>...</td>\n",
       "      <td>0.106435</td>\n",
       "      <td>0.046652</td>\n",
       "      <td>0.129967</td>\n",
       "      <td>0.024858</td>\n",
       "      <td>0.052769</td>\n",
       "      <td>0.118276</td>\n",
       "      <td>-0.007829</td>\n",
       "      <td>-0.004983</td>\n",
       "      <td>15</td>\n",
       "      <td>Jogging</td>\n",
       "    </tr>\n",
       "    <tr>\n",
       "      <th>2</th>\n",
       "      <td>0.106262</td>\n",
       "      <td>0.077215</td>\n",
       "      <td>0.113285</td>\n",
       "      <td>0.064579</td>\n",
       "      <td>0.053443</td>\n",
       "      <td>-0.000413</td>\n",
       "      <td>0.110950</td>\n",
       "      <td>0.030789</td>\n",
       "      <td>0.120542</td>\n",
       "      <td>0.019987</td>\n",
       "      <td>...</td>\n",
       "      <td>0.082025</td>\n",
       "      <td>-0.017247</td>\n",
       "      <td>0.059384</td>\n",
       "      <td>0.047351</td>\n",
       "      <td>-0.018801</td>\n",
       "      <td>0.049058</td>\n",
       "      <td>0.050925</td>\n",
       "      <td>0.017421</td>\n",
       "      <td>16</td>\n",
       "      <td>Jump</td>\n",
       "    </tr>\n",
       "    <tr>\n",
       "      <th>3</th>\n",
       "      <td>0.016591</td>\n",
       "      <td>0.124861</td>\n",
       "      <td>0.060464</td>\n",
       "      <td>0.085673</td>\n",
       "      <td>0.104671</td>\n",
       "      <td>-0.011084</td>\n",
       "      <td>0.060904</td>\n",
       "      <td>0.036836</td>\n",
       "      <td>0.145602</td>\n",
       "      <td>0.083930</td>\n",
       "      <td>...</td>\n",
       "      <td>0.063665</td>\n",
       "      <td>0.072830</td>\n",
       "      <td>0.127746</td>\n",
       "      <td>0.115572</td>\n",
       "      <td>0.048306</td>\n",
       "      <td>0.045210</td>\n",
       "      <td>-0.010216</td>\n",
       "      <td>0.051758</td>\n",
       "      <td>29</td>\n",
       "      <td>Run</td>\n",
       "    </tr>\n",
       "    <tr>\n",
       "      <th>4</th>\n",
       "      <td>0.012991</td>\n",
       "      <td>0.070816</td>\n",
       "      <td>0.027944</td>\n",
       "      <td>0.045310</td>\n",
       "      <td>0.043114</td>\n",
       "      <td>0.128013</td>\n",
       "      <td>0.092492</td>\n",
       "      <td>0.120707</td>\n",
       "      <td>0.058636</td>\n",
       "      <td>0.117498</td>\n",
       "      <td>...</td>\n",
       "      <td>0.106314</td>\n",
       "      <td>0.097507</td>\n",
       "      <td>0.051102</td>\n",
       "      <td>0.077914</td>\n",
       "      <td>-0.011863</td>\n",
       "      <td>0.012749</td>\n",
       "      <td>0.096785</td>\n",
       "      <td>0.087283</td>\n",
       "      <td>44</td>\n",
       "      <td>Weight lift</td>\n",
       "    </tr>\n",
       "  </tbody>\n",
       "</table>\n",
       "<p>5 rows × 152 columns</p>\n",
       "</div>"
      ],
      "text/plain": [
       "          0         1         2         3         4         5         6  \\\n",
       "0  0.057178 -0.004834  0.065532  0.115973  0.145327  0.043171  0.085932   \n",
       "1  0.042986  0.040487  0.061912  0.044404 -0.001265  0.046350  0.043862   \n",
       "2  0.106262  0.077215  0.113285  0.064579  0.053443 -0.000413  0.110950   \n",
       "3  0.016591  0.124861  0.060464  0.085673  0.104671 -0.011084  0.060904   \n",
       "4  0.012991  0.070816  0.027944  0.045310  0.043114  0.128013  0.092492   \n",
       "\n",
       "          7         8         9  ...       142       143       144       145  \\\n",
       "0  0.080348  0.004415  0.008227  ...  0.048418  0.089544  0.126173  0.105729   \n",
       "1  0.117278  0.145681 -0.010669  ...  0.106435  0.046652  0.129967  0.024858   \n",
       "2  0.030789  0.120542  0.019987  ...  0.082025 -0.017247  0.059384  0.047351   \n",
       "3  0.036836  0.145602  0.083930  ...  0.063665  0.072830  0.127746  0.115572   \n",
       "4  0.120707  0.058636  0.117498  ...  0.106314  0.097507  0.051102  0.077914   \n",
       "\n",
       "        146       147       148       149  act_id  activity_level  \n",
       "0  0.129507  0.022600  0.110582  0.039975      10   Go for a walk  \n",
       "1  0.052769  0.118276 -0.007829 -0.004983      15         Jogging  \n",
       "2 -0.018801  0.049058  0.050925  0.017421      16            Jump  \n",
       "3  0.048306  0.045210 -0.010216  0.051758      29             Run  \n",
       "4 -0.011863  0.012749  0.096785  0.087283      44     Weight lift  \n",
       "\n",
       "[5 rows x 152 columns]"
      ]
     },
     "execution_count": 57,
     "metadata": {},
     "output_type": "execute_result"
    }
   ],
   "source": [
    "act_df.head()"
   ]
  },
  {
   "cell_type": "code",
   "execution_count": 68,
   "metadata": {},
   "outputs": [
    {
     "data": {
      "text/plain": [
       "'Jogging'"
      ]
     },
     "execution_count": 68,
     "metadata": {},
     "output_type": "execute_result"
    }
   ],
   "source": [
    "act_df.iloc[1, 151]"
   ]
  },
  {
   "cell_type": "code",
   "execution_count": 74,
   "metadata": {},
   "outputs": [],
   "source": [
    "def find_similarity_total(act_name):\n",
    "    \"\"\"Recommends activities based on the cosine similarity between acts\"\"\"\n",
    "    cosine_list_total = []\n",
    "    act_name3 = []\n",
    "    act_name4 = []\n",
    "\n",
    "    for i in range(0,act_df.shape[0]):\n",
    "        tent4 = act_df.iloc[i,0:150]\n",
    "        tent5 = act_df[act_df[\"activity_level\"] == act_name]\n",
    "        tent6 = tent5.iloc[0,0:150]\n",
    "        cosine_total = np.dot(tent6,tent4)\n",
    "        \n",
    "        act3 = tent5.iloc[0,151]\n",
    "        act4 = act_df.iloc[i,151]\n",
    "        cosine_list_total.append(cosine_total)\n",
    "        act_name3.append(act3)\n",
    "        act_name4.append(act4)\n",
    "        \n",
    "        \n",
    "    cosine_df_total = pd.DataFrame({\"act1\" : act_name3, \"act2\" : act_name4, \"cosine\" : cosine_list_total})\n",
    "    cosine_df_total = cosine_df_total.sort_values(by=\"cosine\", ascending = False)\n",
    "    return cosine_df_total.iloc[1:10,:]"
   ]
  },
  {
   "cell_type": "code",
   "execution_count": 75,
   "metadata": {},
   "outputs": [
    {
     "data": {
      "text/html": [
       "<div>\n",
       "<style scoped>\n",
       "    .dataframe tbody tr th:only-of-type {\n",
       "        vertical-align: middle;\n",
       "    }\n",
       "\n",
       "    .dataframe tbody tr th {\n",
       "        vertical-align: top;\n",
       "    }\n",
       "\n",
       "    .dataframe thead th {\n",
       "        text-align: right;\n",
       "    }\n",
       "</style>\n",
       "<table border=\"1\" class=\"dataframe\">\n",
       "  <thead>\n",
       "    <tr style=\"text-align: right;\">\n",
       "      <th></th>\n",
       "      <th>act1</th>\n",
       "      <th>act2</th>\n",
       "      <th>cosine</th>\n",
       "    </tr>\n",
       "  </thead>\n",
       "  <tbody>\n",
       "    <tr>\n",
       "      <th>4</th>\n",
       "      <td>Run</td>\n",
       "      <td>Weight lift</td>\n",
       "      <td>0.788282</td>\n",
       "    </tr>\n",
       "    <tr>\n",
       "      <th>24</th>\n",
       "      <td>Run</td>\n",
       "      <td>Pick up groceries</td>\n",
       "      <td>0.784432</td>\n",
       "    </tr>\n",
       "    <tr>\n",
       "      <th>39</th>\n",
       "      <td>Run</td>\n",
       "      <td>play with kids</td>\n",
       "      <td>0.771882</td>\n",
       "    </tr>\n",
       "    <tr>\n",
       "      <th>12</th>\n",
       "      <td>Run</td>\n",
       "      <td>Take out the trash</td>\n",
       "      <td>0.771628</td>\n",
       "    </tr>\n",
       "    <tr>\n",
       "      <th>43</th>\n",
       "      <td>Run</td>\n",
       "      <td>Vitual/in-person Meeting</td>\n",
       "      <td>0.767610</td>\n",
       "    </tr>\n",
       "    <tr>\n",
       "      <th>42</th>\n",
       "      <td>Run</td>\n",
       "      <td>Answering emails</td>\n",
       "      <td>0.765782</td>\n",
       "    </tr>\n",
       "    <tr>\n",
       "      <th>13</th>\n",
       "      <td>Run</td>\n",
       "      <td>Wash the car</td>\n",
       "      <td>0.762462</td>\n",
       "    </tr>\n",
       "    <tr>\n",
       "      <th>22</th>\n",
       "      <td>Run</td>\n",
       "      <td>Online learning</td>\n",
       "      <td>0.760758</td>\n",
       "    </tr>\n",
       "    <tr>\n",
       "      <th>16</th>\n",
       "      <td>Run</td>\n",
       "      <td>Get dressed</td>\n",
       "      <td>0.760345</td>\n",
       "    </tr>\n",
       "  </tbody>\n",
       "</table>\n",
       "</div>"
      ],
      "text/plain": [
       "   act1                      act2    cosine\n",
       "4   Run               Weight lift  0.788282\n",
       "24  Run         Pick up groceries  0.784432\n",
       "39  Run            play with kids  0.771882\n",
       "12  Run        Take out the trash  0.771628\n",
       "43  Run  Vitual/in-person Meeting  0.767610\n",
       "42  Run          Answering emails  0.765782\n",
       "13  Run              Wash the car  0.762462\n",
       "22  Run           Online learning  0.760758\n",
       "16  Run               Get dressed  0.760345"
      ]
     },
     "execution_count": 75,
     "metadata": {},
     "output_type": "execute_result"
    }
   ],
   "source": [
    "find_similarity_total(\"Run\")"
   ]
  },
  {
   "cell_type": "code",
   "execution_count": null,
   "metadata": {},
   "outputs": [],
   "source": []
  }
 ],
 "metadata": {
  "kernelspec": {
   "display_name": "Python 3",
   "language": "python",
   "name": "python3"
  },
  "language_info": {
   "codemirror_mode": {
    "name": "ipython",
    "version": 3
   },
   "file_extension": ".py",
   "mimetype": "text/x-python",
   "name": "python",
   "nbconvert_exporter": "python",
   "pygments_lexer": "ipython3",
   "version": "3.6.10"
  }
 },
 "nbformat": 4,
 "nbformat_minor": 4
}
