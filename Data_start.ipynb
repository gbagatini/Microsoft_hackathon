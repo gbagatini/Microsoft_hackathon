{
 "cells": [
  {
   "cell_type": "code",
   "execution_count": 1,
   "metadata": {},
   "outputs": [],
   "source": [
    "import pandas as pd\n",
    "import numpy as np"
   ]
  },
  {
   "cell_type": "code",
   "execution_count": 2,
   "metadata": {},
   "outputs": [],
   "source": [
    "industries = [\"Information\",\n",
    "               \"Financial services\",\n",
    "               \"Business services\",\n",
    "               \"Educational services\",\n",
    "               \"Manufacturing\",\n",
    "               \"Public administration\",\n",
    "               \"Health care and social assistance\",\n",
    "               \"Wholesale and retail trade\",\n",
    "               \"Transportation and warehousing\"]"
   ]
  },
  {
   "cell_type": "code",
   "execution_count": 3,
   "metadata": {},
   "outputs": [],
   "source": [
    "activities_I= [\"work\", \"personal\", \"household chores\", \"exercise\", \"sleep\"]"
   ]
  },
  {
   "cell_type": "code",
   "execution_count": 4,
   "metadata": {},
   "outputs": [],
   "source": [
    "activities_granular = pd.read_csv(\"activities.csv\")"
   ]
  },
  {
   "cell_type": "code",
   "execution_count": 5,
   "metadata": {},
   "outputs": [
    {
     "data": {
      "text/html": [
       "<div>\n",
       "<style scoped>\n",
       "    .dataframe tbody tr th:only-of-type {\n",
       "        vertical-align: middle;\n",
       "    }\n",
       "\n",
       "    .dataframe tbody tr th {\n",
       "        vertical-align: top;\n",
       "    }\n",
       "\n",
       "    .dataframe thead th {\n",
       "        text-align: right;\n",
       "    }\n",
       "</style>\n",
       "<table border=\"1\" class=\"dataframe\">\n",
       "  <thead>\n",
       "    <tr style=\"text-align: right;\">\n",
       "      <th></th>\n",
       "      <th>Activities</th>\n",
       "      <th>Activities_granular</th>\n",
       "    </tr>\n",
       "  </thead>\n",
       "  <tbody>\n",
       "    <tr>\n",
       "      <th>0</th>\n",
       "      <td>Household chores</td>\n",
       "      <td>Do the laundry</td>\n",
       "    </tr>\n",
       "    <tr>\n",
       "      <th>1</th>\n",
       "      <td>Personal activity</td>\n",
       "      <td>Take a bath</td>\n",
       "    </tr>\n",
       "    <tr>\n",
       "      <th>2</th>\n",
       "      <td>Exercise</td>\n",
       "      <td>Exercise</td>\n",
       "    </tr>\n",
       "    <tr>\n",
       "      <th>3</th>\n",
       "      <td>Household chores</td>\n",
       "      <td>Wash the car</td>\n",
       "    </tr>\n",
       "    <tr>\n",
       "      <th>4</th>\n",
       "      <td>Personal activity</td>\n",
       "      <td>Get dressed</td>\n",
       "    </tr>\n",
       "  </tbody>\n",
       "</table>\n",
       "</div>"
      ],
      "text/plain": [
       "          Activities Activities_granular\n",
       "0   Household chores      Do the laundry\n",
       "1  Personal activity         Take a bath\n",
       "2           Exercise            Exercise\n",
       "3   Household chores        Wash the car\n",
       "4  Personal activity         Get dressed"
      ]
     },
     "execution_count": 5,
     "metadata": {},
     "output_type": "execute_result"
    }
   ],
   "source": [
    "activities_granular.head()"
   ]
  },
  {
   "cell_type": "code",
   "execution_count": 6,
   "metadata": {},
   "outputs": [],
   "source": [
    "age_group = [\"18-25\",\n",
    "                \"26-35\",\n",
    "                \"36-40\",\n",
    "                \"41-50\",\n",
    "                \"51-60\",\n",
    "                \"older than 60\"]"
   ]
  },
  {
   "cell_type": "code",
   "execution_count": 7,
   "metadata": {},
   "outputs": [],
   "source": [
    "province = [\"Ontario\",\n",
    "               \"Quebec\",\n",
    "               \"Nova Scotia\",\n",
    "               \"New Brunswick\",\n",
    "               \"Manitoba\",\n",
    "               \"British Columbia\",\n",
    "               \"Prince Edward Island\",\n",
    "               \"Saskatchewan\",\n",
    "               \"Alberta\",  \"Newfoundland and Labrador\"]"
   ]
  },
  {
   "cell_type": "code",
   "execution_count": 8,
   "metadata": {},
   "outputs": [],
   "source": [
    "gender = [\"female\", \"male\", \"prefer not to say\", \"other\"]"
   ]
  },
  {
   "cell_type": "code",
   "execution_count": 9,
   "metadata": {},
   "outputs": [],
   "source": [
    "generate_ids = [i for i in range(1,2001)]"
   ]
  },
  {
   "cell_type": "code",
   "execution_count": 10,
   "metadata": {},
   "outputs": [],
   "source": [
    "ids = np.array(generate_ids) "
   ]
  },
  {
   "cell_type": "code",
   "execution_count": 11,
   "metadata": {},
   "outputs": [
    {
     "data": {
      "text/plain": [
       "(2000,)"
      ]
     },
     "execution_count": 11,
     "metadata": {},
     "output_type": "execute_result"
    }
   ],
   "source": [
    "ids.shape"
   ]
  },
  {
   "cell_type": "code",
   "execution_count": 12,
   "metadata": {},
   "outputs": [],
   "source": [
    "job_level = [\"Junior Associate\",\n",
    "               \"Senior Associate\",\n",
    "               \"Manager\",\n",
    "               \"Director\",\n",
    "               \"Managing Director\",\n",
    "               \"C-Level\"]"
   ]
  },
  {
   "cell_type": "code",
   "execution_count": 13,
   "metadata": {},
   "outputs": [],
   "source": [
    "user_jobs = np.random.choice(job_level, 2000)\n",
    "user_gender = np.random.choice(gender, 2000)\n",
    "user_province = np.random.choice(province, 2000)\n",
    "user_industry = np.random.choice(industries, 2000)\n",
    "user_age = np.random.choice(age_group, 2000)"
   ]
  },
  {
   "cell_type": "code",
   "execution_count": 14,
   "metadata": {},
   "outputs": [
    {
     "data": {
      "text/plain": [
       "array(['41-50', '51-60', '36-40', ..., '18-25', '36-40', '51-60'],\n",
       "      dtype='<U13')"
      ]
     },
     "execution_count": 14,
     "metadata": {},
     "output_type": "execute_result"
    }
   ],
   "source": [
    "user_age"
   ]
  },
  {
   "cell_type": "code",
   "execution_count": 15,
   "metadata": {},
   "outputs": [],
   "source": [
    "user_table = pd.DataFrame({\"User_ID\": ids, \"Age\" : user_age, \"Gender\" : user_gender, \"Province\": user_province, \"Industry\" : user_industry, \"Job_level\" : user_jobs})"
   ]
  },
  {
   "cell_type": "code",
   "execution_count": 16,
   "metadata": {},
   "outputs": [
    {
     "data": {
      "text/html": [
       "<div>\n",
       "<style scoped>\n",
       "    .dataframe tbody tr th:only-of-type {\n",
       "        vertical-align: middle;\n",
       "    }\n",
       "\n",
       "    .dataframe tbody tr th {\n",
       "        vertical-align: top;\n",
       "    }\n",
       "\n",
       "    .dataframe thead th {\n",
       "        text-align: right;\n",
       "    }\n",
       "</style>\n",
       "<table border=\"1\" class=\"dataframe\">\n",
       "  <thead>\n",
       "    <tr style=\"text-align: right;\">\n",
       "      <th></th>\n",
       "      <th>User_ID</th>\n",
       "      <th>Age</th>\n",
       "      <th>Gender</th>\n",
       "      <th>Province</th>\n",
       "      <th>Industry</th>\n",
       "      <th>Job_level</th>\n",
       "    </tr>\n",
       "  </thead>\n",
       "  <tbody>\n",
       "    <tr>\n",
       "      <th>0</th>\n",
       "      <td>1</td>\n",
       "      <td>41-50</td>\n",
       "      <td>prefer not to say</td>\n",
       "      <td>New Brunswick</td>\n",
       "      <td>Financial services</td>\n",
       "      <td>Manager</td>\n",
       "    </tr>\n",
       "    <tr>\n",
       "      <th>1</th>\n",
       "      <td>2</td>\n",
       "      <td>51-60</td>\n",
       "      <td>male</td>\n",
       "      <td>Saskatchewan</td>\n",
       "      <td>Educational services</td>\n",
       "      <td>Manager</td>\n",
       "    </tr>\n",
       "    <tr>\n",
       "      <th>2</th>\n",
       "      <td>3</td>\n",
       "      <td>36-40</td>\n",
       "      <td>prefer not to say</td>\n",
       "      <td>Manitoba</td>\n",
       "      <td>Transportation and warehousing</td>\n",
       "      <td>Junior Associate</td>\n",
       "    </tr>\n",
       "    <tr>\n",
       "      <th>3</th>\n",
       "      <td>4</td>\n",
       "      <td>36-40</td>\n",
       "      <td>other</td>\n",
       "      <td>Quebec</td>\n",
       "      <td>Public administration</td>\n",
       "      <td>C-Level</td>\n",
       "    </tr>\n",
       "    <tr>\n",
       "      <th>4</th>\n",
       "      <td>5</td>\n",
       "      <td>26-35</td>\n",
       "      <td>other</td>\n",
       "      <td>Ontario</td>\n",
       "      <td>Business services</td>\n",
       "      <td>Manager</td>\n",
       "    </tr>\n",
       "  </tbody>\n",
       "</table>\n",
       "</div>"
      ],
      "text/plain": [
       "   User_ID    Age             Gender       Province  \\\n",
       "0        1  41-50  prefer not to say  New Brunswick   \n",
       "1        2  51-60               male   Saskatchewan   \n",
       "2        3  36-40  prefer not to say       Manitoba   \n",
       "3        4  36-40              other         Quebec   \n",
       "4        5  26-35              other        Ontario   \n",
       "\n",
       "                         Industry         Job_level  \n",
       "0              Financial services           Manager  \n",
       "1            Educational services           Manager  \n",
       "2  Transportation and warehousing  Junior Associate  \n",
       "3           Public administration           C-Level  \n",
       "4               Business services           Manager  "
      ]
     },
     "execution_count": 16,
     "metadata": {},
     "output_type": "execute_result"
    }
   ],
   "source": [
    "user_table.head()"
   ]
  },
  {
   "cell_type": "code",
   "execution_count": 17,
   "metadata": {},
   "outputs": [],
   "source": [
    "import datetime"
   ]
  },
  {
   "cell_type": "code",
   "execution_count": 18,
   "metadata": {},
   "outputs": [],
   "source": [
    "hours_sleep = []\n",
    "for i in range(5,14):\n",
    "    hours_sleep.append(i)"
   ]
  },
  {
   "cell_type": "code",
   "execution_count": 19,
   "metadata": {},
   "outputs": [
    {
     "data": {
      "text/plain": [
       "[5, 6, 7, 8, 9, 10, 11, 12, 13]"
      ]
     },
     "execution_count": 19,
     "metadata": {},
     "output_type": "execute_result"
    }
   ],
   "source": [
    "hours_sleep"
   ]
  },
  {
   "cell_type": "code",
   "execution_count": 20,
   "metadata": {},
   "outputs": [
    {
     "data": {
      "text/plain": [
       "9.0"
      ]
     },
     "execution_count": 20,
     "metadata": {},
     "output_type": "execute_result"
    }
   ],
   "source": [
    "np.average(hours_sleep)"
   ]
  },
  {
   "cell_type": "code",
   "execution_count": 21,
   "metadata": {},
   "outputs": [
    {
     "data": {
      "text/plain": [
       "2.581988897471611"
      ]
     },
     "execution_count": 21,
     "metadata": {},
     "output_type": "execute_result"
    }
   ],
   "source": [
    "np.std(hours_sleep)"
   ]
  },
  {
   "cell_type": "code",
   "execution_count": 22,
   "metadata": {},
   "outputs": [],
   "source": [
    "date_rng = pd.date_range(start='1/1/2020', end='4/27/2020', freq='H')"
   ]
  },
  {
   "cell_type": "code",
   "execution_count": 23,
   "metadata": {},
   "outputs": [
    {
     "data": {
      "text/plain": [
       "(2809,)"
      ]
     },
     "execution_count": 23,
     "metadata": {},
     "output_type": "execute_result"
    }
   ],
   "source": [
    "date_rng.shape"
   ]
  },
  {
   "cell_type": "code",
   "execution_count": 24,
   "metadata": {},
   "outputs": [],
   "source": [
    "daily= pd.DataFrame({\"date\": date_rng})"
   ]
  },
  {
   "cell_type": "code",
   "execution_count": 25,
   "metadata": {},
   "outputs": [],
   "source": [
    "days_list = []\n",
    "total_ids = []\n",
    "for id in ids:\n",
    "    for day in daily.iloc[:,0]:\n",
    "        days_list.append(day)\n",
    "        total_ids.append(id)\n",
    "    \n",
    "    "
   ]
  },
  {
   "cell_type": "code",
   "execution_count": 26,
   "metadata": {},
   "outputs": [],
   "source": [
    "activities_table = pd.DataFrame({\"ids\": total_ids, \"date\" : days_list})"
   ]
  },
  {
   "cell_type": "code",
   "execution_count": 32,
   "metadata": {},
   "outputs": [
    {
     "data": {
      "text/html": [
       "<div>\n",
       "<style scoped>\n",
       "    .dataframe tbody tr th:only-of-type {\n",
       "        vertical-align: middle;\n",
       "    }\n",
       "\n",
       "    .dataframe tbody tr th {\n",
       "        vertical-align: top;\n",
       "    }\n",
       "\n",
       "    .dataframe thead th {\n",
       "        text-align: right;\n",
       "    }\n",
       "</style>\n",
       "<table border=\"1\" class=\"dataframe\">\n",
       "  <thead>\n",
       "    <tr style=\"text-align: right;\">\n",
       "      <th></th>\n",
       "      <th>ids</th>\n",
       "      <th>date</th>\n",
       "    </tr>\n",
       "  </thead>\n",
       "  <tbody>\n",
       "    <tr>\n",
       "      <th>25281</th>\n",
       "      <td>10</td>\n",
       "      <td>2020-01-01 00:00:00</td>\n",
       "    </tr>\n",
       "    <tr>\n",
       "      <th>25282</th>\n",
       "      <td>10</td>\n",
       "      <td>2020-01-01 01:00:00</td>\n",
       "    </tr>\n",
       "    <tr>\n",
       "      <th>25283</th>\n",
       "      <td>10</td>\n",
       "      <td>2020-01-01 02:00:00</td>\n",
       "    </tr>\n",
       "    <tr>\n",
       "      <th>25284</th>\n",
       "      <td>10</td>\n",
       "      <td>2020-01-01 03:00:00</td>\n",
       "    </tr>\n",
       "    <tr>\n",
       "      <th>25285</th>\n",
       "      <td>10</td>\n",
       "      <td>2020-01-01 04:00:00</td>\n",
       "    </tr>\n",
       "    <tr>\n",
       "      <th>25286</th>\n",
       "      <td>10</td>\n",
       "      <td>2020-01-01 05:00:00</td>\n",
       "    </tr>\n",
       "    <tr>\n",
       "      <th>25287</th>\n",
       "      <td>10</td>\n",
       "      <td>2020-01-01 06:00:00</td>\n",
       "    </tr>\n",
       "    <tr>\n",
       "      <th>25288</th>\n",
       "      <td>10</td>\n",
       "      <td>2020-01-01 07:00:00</td>\n",
       "    </tr>\n",
       "    <tr>\n",
       "      <th>25289</th>\n",
       "      <td>10</td>\n",
       "      <td>2020-01-01 08:00:00</td>\n",
       "    </tr>\n",
       "    <tr>\n",
       "      <th>25290</th>\n",
       "      <td>10</td>\n",
       "      <td>2020-01-01 09:00:00</td>\n",
       "    </tr>\n",
       "    <tr>\n",
       "      <th>25291</th>\n",
       "      <td>10</td>\n",
       "      <td>2020-01-01 10:00:00</td>\n",
       "    </tr>\n",
       "    <tr>\n",
       "      <th>25292</th>\n",
       "      <td>10</td>\n",
       "      <td>2020-01-01 11:00:00</td>\n",
       "    </tr>\n",
       "    <tr>\n",
       "      <th>25293</th>\n",
       "      <td>10</td>\n",
       "      <td>2020-01-01 12:00:00</td>\n",
       "    </tr>\n",
       "    <tr>\n",
       "      <th>25294</th>\n",
       "      <td>10</td>\n",
       "      <td>2020-01-01 13:00:00</td>\n",
       "    </tr>\n",
       "    <tr>\n",
       "      <th>25295</th>\n",
       "      <td>10</td>\n",
       "      <td>2020-01-01 14:00:00</td>\n",
       "    </tr>\n",
       "    <tr>\n",
       "      <th>25296</th>\n",
       "      <td>10</td>\n",
       "      <td>2020-01-01 15:00:00</td>\n",
       "    </tr>\n",
       "    <tr>\n",
       "      <th>25297</th>\n",
       "      <td>10</td>\n",
       "      <td>2020-01-01 16:00:00</td>\n",
       "    </tr>\n",
       "    <tr>\n",
       "      <th>25298</th>\n",
       "      <td>10</td>\n",
       "      <td>2020-01-01 17:00:00</td>\n",
       "    </tr>\n",
       "    <tr>\n",
       "      <th>25299</th>\n",
       "      <td>10</td>\n",
       "      <td>2020-01-01 18:00:00</td>\n",
       "    </tr>\n",
       "    <tr>\n",
       "      <th>25300</th>\n",
       "      <td>10</td>\n",
       "      <td>2020-01-01 19:00:00</td>\n",
       "    </tr>\n",
       "    <tr>\n",
       "      <th>25301</th>\n",
       "      <td>10</td>\n",
       "      <td>2020-01-01 20:00:00</td>\n",
       "    </tr>\n",
       "    <tr>\n",
       "      <th>25302</th>\n",
       "      <td>10</td>\n",
       "      <td>2020-01-01 21:00:00</td>\n",
       "    </tr>\n",
       "    <tr>\n",
       "      <th>25303</th>\n",
       "      <td>10</td>\n",
       "      <td>2020-01-01 22:00:00</td>\n",
       "    </tr>\n",
       "    <tr>\n",
       "      <th>25304</th>\n",
       "      <td>10</td>\n",
       "      <td>2020-01-01 23:00:00</td>\n",
       "    </tr>\n",
       "    <tr>\n",
       "      <th>25305</th>\n",
       "      <td>10</td>\n",
       "      <td>2020-01-02 00:00:00</td>\n",
       "    </tr>\n",
       "    <tr>\n",
       "      <th>25306</th>\n",
       "      <td>10</td>\n",
       "      <td>2020-01-02 01:00:00</td>\n",
       "    </tr>\n",
       "    <tr>\n",
       "      <th>25307</th>\n",
       "      <td>10</td>\n",
       "      <td>2020-01-02 02:00:00</td>\n",
       "    </tr>\n",
       "    <tr>\n",
       "      <th>25308</th>\n",
       "      <td>10</td>\n",
       "      <td>2020-01-02 03:00:00</td>\n",
       "    </tr>\n",
       "    <tr>\n",
       "      <th>25309</th>\n",
       "      <td>10</td>\n",
       "      <td>2020-01-02 04:00:00</td>\n",
       "    </tr>\n",
       "    <tr>\n",
       "      <th>25310</th>\n",
       "      <td>10</td>\n",
       "      <td>2020-01-02 05:00:00</td>\n",
       "    </tr>\n",
       "    <tr>\n",
       "      <th>...</th>\n",
       "      <td>...</td>\n",
       "      <td>...</td>\n",
       "    </tr>\n",
       "    <tr>\n",
       "      <th>28060</th>\n",
       "      <td>10</td>\n",
       "      <td>2020-04-25 19:00:00</td>\n",
       "    </tr>\n",
       "    <tr>\n",
       "      <th>28061</th>\n",
       "      <td>10</td>\n",
       "      <td>2020-04-25 20:00:00</td>\n",
       "    </tr>\n",
       "    <tr>\n",
       "      <th>28062</th>\n",
       "      <td>10</td>\n",
       "      <td>2020-04-25 21:00:00</td>\n",
       "    </tr>\n",
       "    <tr>\n",
       "      <th>28063</th>\n",
       "      <td>10</td>\n",
       "      <td>2020-04-25 22:00:00</td>\n",
       "    </tr>\n",
       "    <tr>\n",
       "      <th>28064</th>\n",
       "      <td>10</td>\n",
       "      <td>2020-04-25 23:00:00</td>\n",
       "    </tr>\n",
       "    <tr>\n",
       "      <th>28065</th>\n",
       "      <td>10</td>\n",
       "      <td>2020-04-26 00:00:00</td>\n",
       "    </tr>\n",
       "    <tr>\n",
       "      <th>28066</th>\n",
       "      <td>10</td>\n",
       "      <td>2020-04-26 01:00:00</td>\n",
       "    </tr>\n",
       "    <tr>\n",
       "      <th>28067</th>\n",
       "      <td>10</td>\n",
       "      <td>2020-04-26 02:00:00</td>\n",
       "    </tr>\n",
       "    <tr>\n",
       "      <th>28068</th>\n",
       "      <td>10</td>\n",
       "      <td>2020-04-26 03:00:00</td>\n",
       "    </tr>\n",
       "    <tr>\n",
       "      <th>28069</th>\n",
       "      <td>10</td>\n",
       "      <td>2020-04-26 04:00:00</td>\n",
       "    </tr>\n",
       "    <tr>\n",
       "      <th>28070</th>\n",
       "      <td>10</td>\n",
       "      <td>2020-04-26 05:00:00</td>\n",
       "    </tr>\n",
       "    <tr>\n",
       "      <th>28071</th>\n",
       "      <td>10</td>\n",
       "      <td>2020-04-26 06:00:00</td>\n",
       "    </tr>\n",
       "    <tr>\n",
       "      <th>28072</th>\n",
       "      <td>10</td>\n",
       "      <td>2020-04-26 07:00:00</td>\n",
       "    </tr>\n",
       "    <tr>\n",
       "      <th>28073</th>\n",
       "      <td>10</td>\n",
       "      <td>2020-04-26 08:00:00</td>\n",
       "    </tr>\n",
       "    <tr>\n",
       "      <th>28074</th>\n",
       "      <td>10</td>\n",
       "      <td>2020-04-26 09:00:00</td>\n",
       "    </tr>\n",
       "    <tr>\n",
       "      <th>28075</th>\n",
       "      <td>10</td>\n",
       "      <td>2020-04-26 10:00:00</td>\n",
       "    </tr>\n",
       "    <tr>\n",
       "      <th>28076</th>\n",
       "      <td>10</td>\n",
       "      <td>2020-04-26 11:00:00</td>\n",
       "    </tr>\n",
       "    <tr>\n",
       "      <th>28077</th>\n",
       "      <td>10</td>\n",
       "      <td>2020-04-26 12:00:00</td>\n",
       "    </tr>\n",
       "    <tr>\n",
       "      <th>28078</th>\n",
       "      <td>10</td>\n",
       "      <td>2020-04-26 13:00:00</td>\n",
       "    </tr>\n",
       "    <tr>\n",
       "      <th>28079</th>\n",
       "      <td>10</td>\n",
       "      <td>2020-04-26 14:00:00</td>\n",
       "    </tr>\n",
       "    <tr>\n",
       "      <th>28080</th>\n",
       "      <td>10</td>\n",
       "      <td>2020-04-26 15:00:00</td>\n",
       "    </tr>\n",
       "    <tr>\n",
       "      <th>28081</th>\n",
       "      <td>10</td>\n",
       "      <td>2020-04-26 16:00:00</td>\n",
       "    </tr>\n",
       "    <tr>\n",
       "      <th>28082</th>\n",
       "      <td>10</td>\n",
       "      <td>2020-04-26 17:00:00</td>\n",
       "    </tr>\n",
       "    <tr>\n",
       "      <th>28083</th>\n",
       "      <td>10</td>\n",
       "      <td>2020-04-26 18:00:00</td>\n",
       "    </tr>\n",
       "    <tr>\n",
       "      <th>28084</th>\n",
       "      <td>10</td>\n",
       "      <td>2020-04-26 19:00:00</td>\n",
       "    </tr>\n",
       "    <tr>\n",
       "      <th>28085</th>\n",
       "      <td>10</td>\n",
       "      <td>2020-04-26 20:00:00</td>\n",
       "    </tr>\n",
       "    <tr>\n",
       "      <th>28086</th>\n",
       "      <td>10</td>\n",
       "      <td>2020-04-26 21:00:00</td>\n",
       "    </tr>\n",
       "    <tr>\n",
       "      <th>28087</th>\n",
       "      <td>10</td>\n",
       "      <td>2020-04-26 22:00:00</td>\n",
       "    </tr>\n",
       "    <tr>\n",
       "      <th>28088</th>\n",
       "      <td>10</td>\n",
       "      <td>2020-04-26 23:00:00</td>\n",
       "    </tr>\n",
       "    <tr>\n",
       "      <th>28089</th>\n",
       "      <td>10</td>\n",
       "      <td>2020-04-27 00:00:00</td>\n",
       "    </tr>\n",
       "  </tbody>\n",
       "</table>\n",
       "<p>2809 rows × 2 columns</p>\n",
       "</div>"
      ],
      "text/plain": [
       "       ids                date\n",
       "25281   10 2020-01-01 00:00:00\n",
       "25282   10 2020-01-01 01:00:00\n",
       "25283   10 2020-01-01 02:00:00\n",
       "25284   10 2020-01-01 03:00:00\n",
       "25285   10 2020-01-01 04:00:00\n",
       "25286   10 2020-01-01 05:00:00\n",
       "25287   10 2020-01-01 06:00:00\n",
       "25288   10 2020-01-01 07:00:00\n",
       "25289   10 2020-01-01 08:00:00\n",
       "25290   10 2020-01-01 09:00:00\n",
       "25291   10 2020-01-01 10:00:00\n",
       "25292   10 2020-01-01 11:00:00\n",
       "25293   10 2020-01-01 12:00:00\n",
       "25294   10 2020-01-01 13:00:00\n",
       "25295   10 2020-01-01 14:00:00\n",
       "25296   10 2020-01-01 15:00:00\n",
       "25297   10 2020-01-01 16:00:00\n",
       "25298   10 2020-01-01 17:00:00\n",
       "25299   10 2020-01-01 18:00:00\n",
       "25300   10 2020-01-01 19:00:00\n",
       "25301   10 2020-01-01 20:00:00\n",
       "25302   10 2020-01-01 21:00:00\n",
       "25303   10 2020-01-01 22:00:00\n",
       "25304   10 2020-01-01 23:00:00\n",
       "25305   10 2020-01-02 00:00:00\n",
       "25306   10 2020-01-02 01:00:00\n",
       "25307   10 2020-01-02 02:00:00\n",
       "25308   10 2020-01-02 03:00:00\n",
       "25309   10 2020-01-02 04:00:00\n",
       "25310   10 2020-01-02 05:00:00\n",
       "...    ...                 ...\n",
       "28060   10 2020-04-25 19:00:00\n",
       "28061   10 2020-04-25 20:00:00\n",
       "28062   10 2020-04-25 21:00:00\n",
       "28063   10 2020-04-25 22:00:00\n",
       "28064   10 2020-04-25 23:00:00\n",
       "28065   10 2020-04-26 00:00:00\n",
       "28066   10 2020-04-26 01:00:00\n",
       "28067   10 2020-04-26 02:00:00\n",
       "28068   10 2020-04-26 03:00:00\n",
       "28069   10 2020-04-26 04:00:00\n",
       "28070   10 2020-04-26 05:00:00\n",
       "28071   10 2020-04-26 06:00:00\n",
       "28072   10 2020-04-26 07:00:00\n",
       "28073   10 2020-04-26 08:00:00\n",
       "28074   10 2020-04-26 09:00:00\n",
       "28075   10 2020-04-26 10:00:00\n",
       "28076   10 2020-04-26 11:00:00\n",
       "28077   10 2020-04-26 12:00:00\n",
       "28078   10 2020-04-26 13:00:00\n",
       "28079   10 2020-04-26 14:00:00\n",
       "28080   10 2020-04-26 15:00:00\n",
       "28081   10 2020-04-26 16:00:00\n",
       "28082   10 2020-04-26 17:00:00\n",
       "28083   10 2020-04-26 18:00:00\n",
       "28084   10 2020-04-26 19:00:00\n",
       "28085   10 2020-04-26 20:00:00\n",
       "28086   10 2020-04-26 21:00:00\n",
       "28087   10 2020-04-26 22:00:00\n",
       "28088   10 2020-04-26 23:00:00\n",
       "28089   10 2020-04-27 00:00:00\n",
       "\n",
       "[2809 rows x 2 columns]"
      ]
     },
     "execution_count": 32,
     "metadata": {},
     "output_type": "execute_result"
    }
   ],
   "source": [
    "activities_table.loc[activities_table[\"ids\"] == 10]"
   ]
  },
  {
   "cell_type": "code",
   "execution_count": null,
   "metadata": {},
   "outputs": [],
   "source": []
  }
 ],
 "metadata": {
  "kernelspec": {
   "display_name": "Python 3",
   "language": "python",
   "name": "python3"
  },
  "language_info": {
   "codemirror_mode": {
    "name": "ipython",
    "version": 3
   },
   "file_extension": ".py",
   "mimetype": "text/x-python",
   "name": "python",
   "nbconvert_exporter": "python",
   "pygments_lexer": "ipython3",
   "version": "3.7.7"
  }
 },
 "nbformat": 4,
 "nbformat_minor": 4
}
