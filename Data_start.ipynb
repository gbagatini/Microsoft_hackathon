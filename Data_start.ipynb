{
 "cells": [
  {
   "cell_type": "code",
   "execution_count": 2,
   "metadata": {},
   "outputs": [],
   "source": [
    "import pandas as pd\n",
    "import numpy as np"
   ]
  },
  {
   "cell_type": "code",
   "execution_count": 3,
   "metadata": {},
   "outputs": [],
   "source": [
    "industries = [\"Information\",\n",
    "               \"Financial services\",\n",
    "               \"Business services\",\n",
    "               \"Educational services\",\n",
    "               \"Manufacturing\",\n",
    "               \"Public administration\",\n",
    "               \"Health care and social assistance\",\n",
    "               \"Wholesale and retail trade\",\n",
    "               \"Transportation and warehousing\"]"
   ]
  },
  {
   "cell_type": "code",
   "execution_count": 4,
   "metadata": {},
   "outputs": [],
   "source": [
    "activities_I= [\"work\", \"personal\", \"household chores\", \"exercise\", \"sleep\"]"
   ]
  },
  {
   "cell_type": "code",
   "execution_count": 9,
   "metadata": {},
   "outputs": [],
   "source": [
    "activities_granular = pd.read_csv(\"activities.csv\")"
   ]
  },
  {
   "cell_type": "code",
   "execution_count": 11,
   "metadata": {},
   "outputs": [
    {
     "data": {
      "text/html": [
       "<div>\n",
       "<style scoped>\n",
       "    .dataframe tbody tr th:only-of-type {\n",
       "        vertical-align: middle;\n",
       "    }\n",
       "\n",
       "    .dataframe tbody tr th {\n",
       "        vertical-align: top;\n",
       "    }\n",
       "\n",
       "    .dataframe thead th {\n",
       "        text-align: right;\n",
       "    }\n",
       "</style>\n",
       "<table border=\"1\" class=\"dataframe\">\n",
       "  <thead>\n",
       "    <tr style=\"text-align: right;\">\n",
       "      <th></th>\n",
       "      <th>Activities</th>\n",
       "      <th>Activities_granular</th>\n",
       "    </tr>\n",
       "  </thead>\n",
       "  <tbody>\n",
       "    <tr>\n",
       "      <th>0</th>\n",
       "      <td>Household chores</td>\n",
       "      <td>Do the laundry</td>\n",
       "    </tr>\n",
       "    <tr>\n",
       "      <th>1</th>\n",
       "      <td>Personal activity</td>\n",
       "      <td>Take a bath</td>\n",
       "    </tr>\n",
       "    <tr>\n",
       "      <th>2</th>\n",
       "      <td>Exercise</td>\n",
       "      <td>Exercise</td>\n",
       "    </tr>\n",
       "    <tr>\n",
       "      <th>3</th>\n",
       "      <td>Household chores</td>\n",
       "      <td>Wash the car</td>\n",
       "    </tr>\n",
       "    <tr>\n",
       "      <th>4</th>\n",
       "      <td>Personal activity</td>\n",
       "      <td>Get dressed</td>\n",
       "    </tr>\n",
       "  </tbody>\n",
       "</table>\n",
       "</div>"
      ],
      "text/plain": [
       "          Activities Activities_granular\n",
       "0   Household chores      Do the laundry\n",
       "1  Personal activity         Take a bath\n",
       "2           Exercise            Exercise\n",
       "3   Household chores        Wash the car\n",
       "4  Personal activity         Get dressed"
      ]
     },
     "execution_count": 11,
     "metadata": {},
     "output_type": "execute_result"
    }
   ],
   "source": [
    "activities_granular.head()"
   ]
  },
  {
   "cell_type": "code",
   "execution_count": 13,
   "metadata": {},
   "outputs": [],
   "source": [
    "age_group = [\"younger than 18\",\"18-25\",\n",
    "                \"26-35\",\n",
    "                \"36-40\",\n",
    "                \"41-50\",\n",
    "                \"51-60\",\n",
    "                \"older than 60\"]"
   ]
  },
  {
   "cell_type": "code",
   "execution_count": 21,
   "metadata": {},
   "outputs": [],
   "source": [
    "province = [\"Ontario\",\n",
    "               \"Quebec\",\n",
    "               \"Nova Scotia\",\n",
    "               \"New Brunswick\",\n",
    "               \"Manitoba\",\n",
    "               \"British Columbia\",\n",
    "               \"Prince Edward Island\",\n",
    "               \"Saskatchewan\",\n",
    "               \"Alberta\",  \"Newfoundland and Labrador\"]"
   ]
  },
  {
   "cell_type": "code",
   "execution_count": 14,
   "metadata": {},
   "outputs": [],
   "source": [
    "gender = [\"female\", \"male\", \"prefer not to say\", \"other\"]"
   ]
  },
  {
   "cell_type": "code",
   "execution_count": 19,
   "metadata": {},
   "outputs": [],
   "source": [
    "generate_ids = [i for i in range(1,10000)]"
   ]
  },
  {
   "cell_type": "code",
   "execution_count": 23,
   "metadata": {},
   "outputs": [],
   "source": [
    "job_level = [\"Junior Associate\",\n",
    "               \"Senior Associate\",\n",
    "               \"Manager\",\n",
    "               \"Director\",\n",
    "               \"Managing Director\",\n",
    "               \"C-Level\"]"
   ]
  },
  {
   "cell_type": "code",
   "execution_count": null,
   "metadata": {},
   "outputs": [],
   "source": []
  }
 ],
 "metadata": {
  "kernelspec": {
   "display_name": "Python 3",
   "language": "python",
   "name": "python3"
  },
  "language_info": {
   "codemirror_mode": {
    "name": "ipython",
    "version": 3
   },
   "file_extension": ".py",
   "mimetype": "text/x-python",
   "name": "python",
   "nbconvert_exporter": "python",
   "pygments_lexer": "ipython3",
   "version": "3.7.7"
  }
 },
 "nbformat": 4,
 "nbformat_minor": 4
}
