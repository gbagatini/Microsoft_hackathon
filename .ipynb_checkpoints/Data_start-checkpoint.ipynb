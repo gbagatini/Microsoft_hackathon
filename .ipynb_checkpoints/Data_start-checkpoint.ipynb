{
 "cells": [
  {
   "cell_type": "code",
   "execution_count": 1,
   "metadata": {},
   "outputs": [],
   "source": [
    "import pandas as pd\n",
    "import numpy as np"
   ]
  },
  {
   "cell_type": "code",
   "execution_count": 2,
   "metadata": {},
   "outputs": [],
   "source": [
    "industries = [\"Information\",\n",
    "               \"Financial services\",\n",
    "               \"Business services\",\n",
    "               \"Educational services\",\n",
    "               \"Manufacturing\",\n",
    "               \"Public administration\",\n",
    "               \"Health care and social assistance\",\n",
    "               \"Wholesale and retail trade\",\n",
    "               \"Transportation and warehousing\"]"
   ]
  },
  {
   "cell_type": "code",
   "execution_count": 3,
   "metadata": {},
   "outputs": [],
   "source": [
    "activities_I= [\"work\", \"personal\", \"household chores\", \"exercise\", \"sleep\"]"
   ]
  },
  {
   "cell_type": "code",
   "execution_count": 4,
   "metadata": {},
   "outputs": [],
   "source": [
    "activities_granular = pd.read_csv(\"activities.csv\")"
   ]
  },
  {
   "cell_type": "code",
   "execution_count": 5,
   "metadata": {},
   "outputs": [
    {
     "data": {
      "text/html": [
       "<div>\n",
       "<style scoped>\n",
       "    .dataframe tbody tr th:only-of-type {\n",
       "        vertical-align: middle;\n",
       "    }\n",
       "\n",
       "    .dataframe tbody tr th {\n",
       "        vertical-align: top;\n",
       "    }\n",
       "\n",
       "    .dataframe thead th {\n",
       "        text-align: right;\n",
       "    }\n",
       "</style>\n",
       "<table border=\"1\" class=\"dataframe\">\n",
       "  <thead>\n",
       "    <tr style=\"text-align: right;\">\n",
       "      <th></th>\n",
       "      <th>Activities</th>\n",
       "      <th>Activities_granular</th>\n",
       "    </tr>\n",
       "  </thead>\n",
       "  <tbody>\n",
       "    <tr>\n",
       "      <th>0</th>\n",
       "      <td>Household chores</td>\n",
       "      <td>Do the laundry</td>\n",
       "    </tr>\n",
       "    <tr>\n",
       "      <th>1</th>\n",
       "      <td>Personal activity</td>\n",
       "      <td>Take a bath</td>\n",
       "    </tr>\n",
       "    <tr>\n",
       "      <th>2</th>\n",
       "      <td>Exercise</td>\n",
       "      <td>Exercise</td>\n",
       "    </tr>\n",
       "    <tr>\n",
       "      <th>3</th>\n",
       "      <td>Household chores</td>\n",
       "      <td>Wash the car</td>\n",
       "    </tr>\n",
       "    <tr>\n",
       "      <th>4</th>\n",
       "      <td>Personal activity</td>\n",
       "      <td>Get dressed</td>\n",
       "    </tr>\n",
       "  </tbody>\n",
       "</table>\n",
       "</div>"
      ],
      "text/plain": [
       "          Activities Activities_granular\n",
       "0   Household chores      Do the laundry\n",
       "1  Personal activity         Take a bath\n",
       "2           Exercise            Exercise\n",
       "3   Household chores        Wash the car\n",
       "4  Personal activity         Get dressed"
      ]
     },
     "execution_count": 5,
     "metadata": {},
     "output_type": "execute_result"
    }
   ],
   "source": [
    "activities_granular.head()"
   ]
  },
  {
   "cell_type": "code",
   "execution_count": 6,
   "metadata": {},
   "outputs": [],
   "source": [
    "age_group = [\"18-25\",\n",
    "                \"26-35\",\n",
    "                \"36-40\",\n",
    "                \"41-50\",\n",
    "                \"51-60\",\n",
    "                \"older than 60\"]"
   ]
  },
  {
   "cell_type": "code",
   "execution_count": 7,
   "metadata": {},
   "outputs": [],
   "source": [
    "province = [\"Ontario\",\n",
    "               \"Quebec\",\n",
    "               \"Nova Scotia\",\n",
    "               \"New Brunswick\",\n",
    "               \"Manitoba\",\n",
    "               \"British Columbia\",\n",
    "               \"Prince Edward Island\",\n",
    "               \"Saskatchewan\",\n",
    "               \"Alberta\",  \"Newfoundland and Labrador\"]"
   ]
  },
  {
   "cell_type": "code",
   "execution_count": 8,
   "metadata": {},
   "outputs": [],
   "source": [
    "gender = [\"female\", \"male\", \"prefer not to say\", \"other\"]"
   ]
  },
  {
   "cell_type": "code",
   "execution_count": 9,
   "metadata": {},
   "outputs": [],
   "source": [
    "generate_ids = [i for i in range(1,10001)]"
   ]
  },
  {
   "cell_type": "code",
   "execution_count": 10,
   "metadata": {},
   "outputs": [],
   "source": [
    "ids = np.array(generate_ids) "
   ]
  },
  {
   "cell_type": "code",
   "execution_count": 11,
   "metadata": {},
   "outputs": [
    {
     "data": {
      "text/plain": [
       "(10000,)"
      ]
     },
     "execution_count": 11,
     "metadata": {},
     "output_type": "execute_result"
    }
   ],
   "source": [
    "ids.shape"
   ]
  },
  {
   "cell_type": "code",
   "execution_count": 12,
   "metadata": {},
   "outputs": [],
   "source": [
    "job_level = [\"Junior Associate\",\n",
    "               \"Senior Associate\",\n",
    "               \"Manager\",\n",
    "               \"Director\",\n",
    "               \"Managing Director\",\n",
    "               \"C-Level\"]"
   ]
  },
  {
   "cell_type": "code",
   "execution_count": 13,
   "metadata": {},
   "outputs": [],
   "source": [
    "user_jobs = np.random.choice(job_level, 10000)\n",
    "user_gender = np.random.choice(gender, 10000)\n",
    "user_province = np.random.choice(province, 10000)\n",
    "user_industry = np.random.choice(industries, 10000)\n",
    "user_age = np.random.choice(age_group, 10000)"
   ]
  },
  {
   "cell_type": "code",
   "execution_count": 14,
   "metadata": {},
   "outputs": [
    {
     "data": {
      "text/plain": [
       "array(['18-25', '51-60', '18-25', ..., '26-35', '18-25', '36-40'],\n",
       "      dtype='<U13')"
      ]
     },
     "execution_count": 14,
     "metadata": {},
     "output_type": "execute_result"
    }
   ],
   "source": [
    "user_age"
   ]
  },
  {
   "cell_type": "code",
   "execution_count": 18,
   "metadata": {},
   "outputs": [],
   "source": [
    "user_table = pd.DataFrame({\"User_ID\": ids, \"Age\" : user_age, \"Gender\" : user_gender, \"Province\": user_province, \"Industry\" : user_industry, \"Job_level\" : user_jobs})"
   ]
  },
  {
   "cell_type": "code",
   "execution_count": 19,
   "metadata": {},
   "outputs": [
    {
     "data": {
      "text/html": [
       "<div>\n",
       "<style scoped>\n",
       "    .dataframe tbody tr th:only-of-type {\n",
       "        vertical-align: middle;\n",
       "    }\n",
       "\n",
       "    .dataframe tbody tr th {\n",
       "        vertical-align: top;\n",
       "    }\n",
       "\n",
       "    .dataframe thead th {\n",
       "        text-align: right;\n",
       "    }\n",
       "</style>\n",
       "<table border=\"1\" class=\"dataframe\">\n",
       "  <thead>\n",
       "    <tr style=\"text-align: right;\">\n",
       "      <th></th>\n",
       "      <th>User_ID</th>\n",
       "      <th>Age</th>\n",
       "      <th>Gender</th>\n",
       "      <th>Province</th>\n",
       "      <th>Industry</th>\n",
       "      <th>Job_level</th>\n",
       "    </tr>\n",
       "  </thead>\n",
       "  <tbody>\n",
       "    <tr>\n",
       "      <th>0</th>\n",
       "      <td>1</td>\n",
       "      <td>18-25</td>\n",
       "      <td>other</td>\n",
       "      <td>Prince Edward Island</td>\n",
       "      <td>Financial services</td>\n",
       "      <td>Managing Director</td>\n",
       "    </tr>\n",
       "    <tr>\n",
       "      <th>1</th>\n",
       "      <td>2</td>\n",
       "      <td>51-60</td>\n",
       "      <td>prefer not to say</td>\n",
       "      <td>Manitoba</td>\n",
       "      <td>Health care and social assistance</td>\n",
       "      <td>Manager</td>\n",
       "    </tr>\n",
       "    <tr>\n",
       "      <th>2</th>\n",
       "      <td>3</td>\n",
       "      <td>18-25</td>\n",
       "      <td>male</td>\n",
       "      <td>Nova Scotia</td>\n",
       "      <td>Educational services</td>\n",
       "      <td>Managing Director</td>\n",
       "    </tr>\n",
       "    <tr>\n",
       "      <th>3</th>\n",
       "      <td>4</td>\n",
       "      <td>41-50</td>\n",
       "      <td>prefer not to say</td>\n",
       "      <td>Manitoba</td>\n",
       "      <td>Manufacturing</td>\n",
       "      <td>C-Level</td>\n",
       "    </tr>\n",
       "    <tr>\n",
       "      <th>4</th>\n",
       "      <td>5</td>\n",
       "      <td>26-35</td>\n",
       "      <td>female</td>\n",
       "      <td>New Brunswick</td>\n",
       "      <td>Public administration</td>\n",
       "      <td>C-Level</td>\n",
       "    </tr>\n",
       "  </tbody>\n",
       "</table>\n",
       "</div>"
      ],
      "text/plain": [
       "   User_ID    Age             Gender              Province  \\\n",
       "0        1  18-25              other  Prince Edward Island   \n",
       "1        2  51-60  prefer not to say              Manitoba   \n",
       "2        3  18-25               male           Nova Scotia   \n",
       "3        4  41-50  prefer not to say              Manitoba   \n",
       "4        5  26-35             female         New Brunswick   \n",
       "\n",
       "                            Industry          Job_level  \n",
       "0                 Financial services  Managing Director  \n",
       "1  Health care and social assistance            Manager  \n",
       "2               Educational services  Managing Director  \n",
       "3                      Manufacturing            C-Level  \n",
       "4              Public administration            C-Level  "
      ]
     },
     "execution_count": 19,
     "metadata": {},
     "output_type": "execute_result"
    }
   ],
   "source": [
    "user_table.head()"
   ]
  },
  {
   "cell_type": "code",
   "execution_count": 20,
   "metadata": {},
   "outputs": [],
   "source": [
    "import datetime"
   ]
  },
  {
   "cell_type": "code",
   "execution_count": 32,
   "metadata": {},
   "outputs": [],
   "source": [
    "hours_sleep = []\n",
    "for i in range(5,14):\n",
    "    hours_sleep.append(i)"
   ]
  },
  {
   "cell_type": "code",
   "execution_count": 33,
   "metadata": {},
   "outputs": [
    {
     "data": {
      "text/plain": [
       "[5, 6, 7, 8, 9, 10, 11, 12, 13]"
      ]
     },
     "execution_count": 33,
     "metadata": {},
     "output_type": "execute_result"
    }
   ],
   "source": [
    "hours_sleep"
   ]
  },
  {
   "cell_type": "code",
   "execution_count": 35,
   "metadata": {},
   "outputs": [
    {
     "data": {
      "text/plain": [
       "9.0"
      ]
     },
     "execution_count": 35,
     "metadata": {},
     "output_type": "execute_result"
    }
   ],
   "source": [
    "np.average(hours_sleep)"
   ]
  },
  {
   "cell_type": "code",
   "execution_count": 36,
   "metadata": {},
   "outputs": [
    {
     "data": {
      "text/plain": [
       "2.581988897471611"
      ]
     },
     "execution_count": 36,
     "metadata": {},
     "output_type": "execute_result"
    }
   ],
   "source": [
    "np.std(hours_sleep)"
   ]
  },
  {
   "cell_type": "code",
   "execution_count": 48,
   "metadata": {},
   "outputs": [],
   "source": [
    "import pandas as pd\n",
    "from datetime import datetime\n",
    "import numpy as np\n",
    "date_rng = pd.date_range(start='1/1/2020', end='27/04/2020', freq='H')"
   ]
  },
  {
   "cell_type": "code",
   "execution_count": 51,
   "metadata": {},
   "outputs": [
    {
     "data": {
      "text/plain": [
       "DatetimeIndex(['2020-01-01 00:00:00', '2020-01-01 01:00:00',\n",
       "               '2020-01-01 02:00:00', '2020-01-01 03:00:00',\n",
       "               '2020-01-01 04:00:00', '2020-01-01 05:00:00',\n",
       "               '2020-01-01 06:00:00', '2020-01-01 07:00:00',\n",
       "               '2020-01-01 08:00:00', '2020-01-01 09:00:00',\n",
       "               ...\n",
       "               '2020-04-26 15:00:00', '2020-04-26 16:00:00',\n",
       "               '2020-04-26 17:00:00', '2020-04-26 18:00:00',\n",
       "               '2020-04-26 19:00:00', '2020-04-26 20:00:00',\n",
       "               '2020-04-26 21:00:00', '2020-04-26 22:00:00',\n",
       "               '2020-04-26 23:00:00', '2020-04-27 00:00:00'],\n",
       "              dtype='datetime64[ns]', length=2809, freq='H')"
      ]
     },
     "execution_count": 51,
     "metadata": {},
     "output_type": "execute_result"
    }
   ],
   "source": [
    "date_rng"
   ]
  },
  {
   "cell_type": "code",
   "execution_count": null,
   "metadata": {},
   "outputs": [],
   "source": []
  }
 ],
 "metadata": {
  "kernelspec": {
   "display_name": "Python 3",
   "language": "python",
   "name": "python3"
  },
  "language_info": {
   "codemirror_mode": {
    "name": "ipython",
    "version": 3
   },
   "file_extension": ".py",
   "mimetype": "text/x-python",
   "name": "python",
   "nbconvert_exporter": "python",
   "pygments_lexer": "ipython3",
   "version": "3.7.7"
  }
 },
 "nbformat": 4,
 "nbformat_minor": 4
}
